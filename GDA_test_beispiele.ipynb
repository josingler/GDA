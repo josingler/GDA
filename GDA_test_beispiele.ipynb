{
 "cells": [
  {
   "cell_type": "code",
   "execution_count": 93,
   "id": "9e561424-67db-4cf7-8f78-ab936dfc5f22",
   "metadata": {},
   "outputs": [
    {
     "data": {
      "text/html": [
       "<div>\n",
       "<style scoped>\n",
       "    .dataframe tbody tr th:only-of-type {\n",
       "        vertical-align: middle;\n",
       "    }\n",
       "\n",
       "    .dataframe tbody tr th {\n",
       "        vertical-align: top;\n",
       "    }\n",
       "\n",
       "    .dataframe thead th {\n",
       "        text-align: right;\n",
       "    }\n",
       "</style>\n",
       "<table border=\"1\" class=\"dataframe\">\n",
       "  <thead>\n",
       "    <tr style=\"text-align: right;\">\n",
       "      <th></th>\n",
       "      <th>Administrative</th>\n",
       "      <th>Administrative_Duration</th>\n",
       "      <th>Informational</th>\n",
       "      <th>Informational_Duration</th>\n",
       "      <th>ProductRelated</th>\n",
       "      <th>ProductRelated_Duration</th>\n",
       "      <th>BounceRates</th>\n",
       "      <th>ExitRates</th>\n",
       "      <th>PageValues</th>\n",
       "      <th>SpecialDay</th>\n",
       "      <th>Month</th>\n",
       "      <th>OperatingSystems</th>\n",
       "      <th>Browser</th>\n",
       "      <th>Region</th>\n",
       "      <th>TrafficType</th>\n",
       "      <th>VisitorType</th>\n",
       "      <th>Weekend</th>\n",
       "      <th>Revenue</th>\n",
       "    </tr>\n",
       "  </thead>\n",
       "  <tbody>\n",
       "    <tr>\n",
       "      <th>0</th>\n",
       "      <td>1</td>\n",
       "      <td>21.25</td>\n",
       "      <td>0</td>\n",
       "      <td>0.0</td>\n",
       "      <td>92</td>\n",
       "      <td>2716.519048</td>\n",
       "      <td>0.006738</td>\n",
       "      <td>0.037885</td>\n",
       "      <td>23.738911</td>\n",
       "      <td>0.0</td>\n",
       "      <td>Nov</td>\n",
       "      <td>2</td>\n",
       "      <td>2</td>\n",
       "      <td>3</td>\n",
       "      <td>2</td>\n",
       "      <td>Returning_Visitor</td>\n",
       "      <td>True</td>\n",
       "      <td>False</td>\n",
       "    </tr>\n",
       "    <tr>\n",
       "      <th>1</th>\n",
       "      <td>2</td>\n",
       "      <td>28.20</td>\n",
       "      <td>1</td>\n",
       "      <td>0.0</td>\n",
       "      <td>114</td>\n",
       "      <td>3161.074762</td>\n",
       "      <td>0.017699</td>\n",
       "      <td>0.042576</td>\n",
       "      <td>0.000000</td>\n",
       "      <td>0.0</td>\n",
       "      <td>Aug</td>\n",
       "      <td>2</td>\n",
       "      <td>2</td>\n",
       "      <td>2</td>\n",
       "      <td>1</td>\n",
       "      <td>Returning_Visitor</td>\n",
       "      <td>False</td>\n",
       "      <td>False</td>\n",
       "    </tr>\n",
       "    <tr>\n",
       "      <th>2</th>\n",
       "      <td>3</td>\n",
       "      <td>143.00</td>\n",
       "      <td>0</td>\n",
       "      <td>0.0</td>\n",
       "      <td>17</td>\n",
       "      <td>331.837500</td>\n",
       "      <td>0.033333</td>\n",
       "      <td>0.051235</td>\n",
       "      <td>0.000000</td>\n",
       "      <td>0.0</td>\n",
       "      <td>Dec</td>\n",
       "      <td>2</td>\n",
       "      <td>2</td>\n",
       "      <td>1</td>\n",
       "      <td>1</td>\n",
       "      <td>Returning_Visitor</td>\n",
       "      <td>True</td>\n",
       "      <td>False</td>\n",
       "    </tr>\n",
       "    <tr>\n",
       "      <th>3</th>\n",
       "      <td>1</td>\n",
       "      <td>25.50</td>\n",
       "      <td>0</td>\n",
       "      <td>0.0</td>\n",
       "      <td>43</td>\n",
       "      <td>914.229437</td>\n",
       "      <td>0.013636</td>\n",
       "      <td>0.025763</td>\n",
       "      <td>NaN</td>\n",
       "      <td>NaN</td>\n",
       "      <td>Nov</td>\n",
       "      <td>1</td>\n",
       "      <td>1</td>\n",
       "      <td>1</td>\n",
       "      <td>1</td>\n",
       "      <td>Returning_Visitor</td>\n",
       "      <td>False</td>\n",
       "      <td>False</td>\n",
       "    </tr>\n",
       "    <tr>\n",
       "      <th>4</th>\n",
       "      <td>5</td>\n",
       "      <td>46.52</td>\n",
       "      <td>0</td>\n",
       "      <td>0.0</td>\n",
       "      <td>133</td>\n",
       "      <td>2248.914286</td>\n",
       "      <td>0.012078</td>\n",
       "      <td>0.029350</td>\n",
       "      <td>6.373771</td>\n",
       "      <td>0.0</td>\n",
       "      <td>Jul</td>\n",
       "      <td>1</td>\n",
       "      <td>1</td>\n",
       "      <td>1</td>\n",
       "      <td>4</td>\n",
       "      <td>Returning_Visitor</td>\n",
       "      <td>False</td>\n",
       "      <td>True</td>\n",
       "    </tr>\n",
       "  </tbody>\n",
       "</table>\n",
       "</div>"
      ],
      "text/plain": [
       "   Administrative  Administrative_Duration  Informational  Informational_Duration  ProductRelated  ProductRelated_Duration  BounceRates  ExitRates  PageValues  SpecialDay Month  OperatingSystems  Browser  Region  TrafficType        VisitorType  Weekend  Revenue\n",
       "0               1                    21.25              0                     0.0              92              2716.519048     0.006738   0.037885   23.738911         0.0   Nov                 2        2       3            2  Returning_Visitor     True    False\n",
       "1               2                    28.20              1                     0.0             114              3161.074762     0.017699   0.042576    0.000000         0.0   Aug                 2        2       2            1  Returning_Visitor    False    False\n",
       "2               3                   143.00              0                     0.0              17               331.837500     0.033333   0.051235    0.000000         0.0   Dec                 2        2       1            1  Returning_Visitor     True    False\n",
       "3               1                    25.50              0                     0.0              43               914.229437     0.013636   0.025763         NaN         NaN   Nov                 1        1       1            1  Returning_Visitor    False    False\n",
       "4               5                    46.52              0                     0.0             133              2248.914286     0.012078   0.029350    6.373771         0.0   Jul                 1        1       1            4  Returning_Visitor    False     True"
      ]
     },
     "execution_count": 93,
     "metadata": {},
     "output_type": "execute_result"
    }
   ],
   "source": [
    "import pandas as pd\n",
    "pd.set_option('display.max_columns', 25)\n",
    "pd.set_option('display.width', 1000)\n",
    "\n",
    "#url = \"https://raw.githubusercontent.com/AIDATestsecond/dataset/master/Dataset_423237.csv\"\n",
    "# führt in Chrome zu URLError: <urlopen error [Errno 11002] getaddrinfo failed>\n",
    "# deshalb csv per firefox lokal gespeichert\n",
    "\n",
    "import os\n",
    "pfad = r\"C:\\Users\\A1150567\\AppData\\Local\\WPy64-3940\\notebooks\\GDA\\GDA\"\n",
    "csv_dat = \"Dataset_423237.csv\"\n",
    "csv = os.path.join(pfad, csv_dat)\n",
    "df = pd.read_csv(csv)\n",
    "#print (dataset)\n",
    "df.head()"
   ]
  },
  {
   "cell_type": "code",
   "execution_count": 94,
   "id": "e427c7e7-29f3-46f6-9517-e50573880ce2",
   "metadata": {},
   "outputs": [
    {
     "name": "stdout",
     "output_type": "stream",
     "text": [
      "['Administrative' 'Administrative_Duration' 'Informational'\n",
      " 'Informational_Duration' 'ProductRelated' 'ProductRelated_Duration'\n",
      " 'BounceRates' 'ExitRates' 'PageValues' 'SpecialDay' 'Month'\n",
      " 'OperatingSystems' 'Browser' 'Region' 'TrafficType' 'VisitorType'\n",
      " 'Weekend' 'Revenue']\n"
     ]
    }
   ],
   "source": [
    "print(df.columns.values)"
   ]
  },
  {
   "cell_type": "code",
   "execution_count": 95,
   "id": "484bf4a6-7a1f-455b-8bda-cee9ae2b333f",
   "metadata": {},
   "outputs": [
    {
     "data": {
      "text/html": [
       "<div>\n",
       "<style scoped>\n",
       "    .dataframe tbody tr th:only-of-type {\n",
       "        vertical-align: middle;\n",
       "    }\n",
       "\n",
       "    .dataframe tbody tr th {\n",
       "        vertical-align: top;\n",
       "    }\n",
       "\n",
       "    .dataframe thead th {\n",
       "        text-align: right;\n",
       "    }\n",
       "</style>\n",
       "<table border=\"1\" class=\"dataframe\">\n",
       "  <thead>\n",
       "    <tr style=\"text-align: right;\">\n",
       "      <th></th>\n",
       "      <th>Administrative</th>\n",
       "      <th>Administrative_Duration</th>\n",
       "      <th>Informational</th>\n",
       "      <th>Informational_Duration</th>\n",
       "      <th>ProductRelated</th>\n",
       "      <th>ProductRelated_Duration</th>\n",
       "      <th>BounceRates</th>\n",
       "      <th>ExitRates</th>\n",
       "      <th>PageValues</th>\n",
       "      <th>SpecialDay</th>\n",
       "      <th>Month</th>\n",
       "      <th>OperatingSystems</th>\n",
       "      <th>Browser</th>\n",
       "      <th>Region</th>\n",
       "      <th>TrafficType</th>\n",
       "      <th>VisitorType</th>\n",
       "      <th>Weekend</th>\n",
       "      <th>Revenue</th>\n",
       "    </tr>\n",
       "  </thead>\n",
       "  <tbody>\n",
       "    <tr>\n",
       "      <th>0</th>\n",
       "      <td>1</td>\n",
       "      <td>21.25</td>\n",
       "      <td>0</td>\n",
       "      <td>0.0</td>\n",
       "      <td>92</td>\n",
       "      <td>2716.519048</td>\n",
       "      <td>0.006738</td>\n",
       "      <td>0.037885</td>\n",
       "      <td>23.738911</td>\n",
       "      <td>0.0</td>\n",
       "      <td>Nov</td>\n",
       "      <td>2</td>\n",
       "      <td>2</td>\n",
       "      <td>3</td>\n",
       "      <td>2</td>\n",
       "      <td>Returning_Visitor</td>\n",
       "      <td>True</td>\n",
       "      <td>False</td>\n",
       "    </tr>\n",
       "  </tbody>\n",
       "</table>\n",
       "</div>"
      ],
      "text/plain": [
       "   Administrative  Administrative_Duration  Informational  Informational_Duration  ProductRelated  ProductRelated_Duration  BounceRates  ExitRates  PageValues  SpecialDay Month  OperatingSystems  Browser  Region  TrafficType        VisitorType  Weekend  Revenue\n",
       "0               1                    21.25              0                     0.0              92              2716.519048     0.006738   0.037885   23.738911         0.0   Nov                 2        2       3            2  Returning_Visitor     True    False"
      ]
     },
     "execution_count": 95,
     "metadata": {},
     "output_type": "execute_result"
    }
   ],
   "source": [
    "df.head(1)"
   ]
  },
  {
   "cell_type": "code",
   "execution_count": 96,
   "id": "818f8854-41a8-425d-bfa0-ead4eeba3431",
   "metadata": {},
   "outputs": [
    {
     "name": "stdout",
     "output_type": "stream",
     "text": [
      "      Administrative  Administrative_Duration  Informational  Informational_Duration  ProductRelated  ProductRelated_Duration  BounceRates  ExitRates  PageValues  SpecialDay Month  OperatingSystems  Browser  Region  TrafficType        VisitorType  Weekend  Revenue\n",
      "3698               0                      0.0              0                     NaN               3                     73.0          0.0   0.066667         0.0         0.0   Mar                 2        4       1            7  Returning_Visitor    False    False\n"
     ]
    }
   ],
   "source": [
    "print(df.tail(1))"
   ]
  },
  {
   "cell_type": "code",
   "execution_count": 97,
   "id": "cd9fab84-d3fa-4219-be25-757fce016467",
   "metadata": {},
   "outputs": [
    {
     "data": {
      "text/html": [
       "<div>\n",
       "<style scoped>\n",
       "    .dataframe tbody tr th:only-of-type {\n",
       "        vertical-align: middle;\n",
       "    }\n",
       "\n",
       "    .dataframe tbody tr th {\n",
       "        vertical-align: top;\n",
       "    }\n",
       "\n",
       "    .dataframe thead th {\n",
       "        text-align: right;\n",
       "    }\n",
       "</style>\n",
       "<table border=\"1\" class=\"dataframe\">\n",
       "  <thead>\n",
       "    <tr style=\"text-align: right;\">\n",
       "      <th></th>\n",
       "      <th>Administrative</th>\n",
       "      <th>Administrative_Duration</th>\n",
       "      <th>Informational</th>\n",
       "      <th>Informational_Duration</th>\n",
       "      <th>ProductRelated</th>\n",
       "      <th>ProductRelated_Duration</th>\n",
       "      <th>BounceRates</th>\n",
       "      <th>ExitRates</th>\n",
       "      <th>PageValues</th>\n",
       "      <th>SpecialDay</th>\n",
       "      <th>Month</th>\n",
       "      <th>OperatingSystems</th>\n",
       "      <th>Browser</th>\n",
       "      <th>Region</th>\n",
       "      <th>TrafficType</th>\n",
       "      <th>VisitorType</th>\n",
       "      <th>Weekend</th>\n",
       "      <th>Revenue</th>\n",
       "    </tr>\n",
       "  </thead>\n",
       "  <tbody>\n",
       "    <tr>\n",
       "      <th>3694</th>\n",
       "      <td>3</td>\n",
       "      <td>65.928571</td>\n",
       "      <td>0</td>\n",
       "      <td>0.0</td>\n",
       "      <td>17</td>\n",
       "      <td>557.686905</td>\n",
       "      <td>0.000000</td>\n",
       "      <td>0.009804</td>\n",
       "      <td>NaN</td>\n",
       "      <td>0.0</td>\n",
       "      <td>Dec</td>\n",
       "      <td>2</td>\n",
       "      <td>2</td>\n",
       "      <td>2</td>\n",
       "      <td>2</td>\n",
       "      <td>Returning_Visitor</td>\n",
       "      <td>False</td>\n",
       "      <td>True</td>\n",
       "    </tr>\n",
       "    <tr>\n",
       "      <th>3695</th>\n",
       "      <td>0</td>\n",
       "      <td>0.000000</td>\n",
       "      <td>0</td>\n",
       "      <td>0.0</td>\n",
       "      <td>52</td>\n",
       "      <td>2086.242857</td>\n",
       "      <td>0.015385</td>\n",
       "      <td>0.020353</td>\n",
       "      <td>0.0</td>\n",
       "      <td>0.0</td>\n",
       "      <td>Feb</td>\n",
       "      <td>2</td>\n",
       "      <td>2</td>\n",
       "      <td>7</td>\n",
       "      <td>1</td>\n",
       "      <td>Returning_Visitor</td>\n",
       "      <td>False</td>\n",
       "      <td>False</td>\n",
       "    </tr>\n",
       "    <tr>\n",
       "      <th>3696</th>\n",
       "      <td>1</td>\n",
       "      <td>63.500000</td>\n",
       "      <td>0</td>\n",
       "      <td>0.0</td>\n",
       "      <td>7</td>\n",
       "      <td>58.900000</td>\n",
       "      <td>0.000000</td>\n",
       "      <td>0.025000</td>\n",
       "      <td>0.0</td>\n",
       "      <td>0.0</td>\n",
       "      <td>Dec</td>\n",
       "      <td>1</td>\n",
       "      <td>1</td>\n",
       "      <td>2</td>\n",
       "      <td>2</td>\n",
       "      <td>New_Visitor</td>\n",
       "      <td>False</td>\n",
       "      <td>False</td>\n",
       "    </tr>\n",
       "    <tr>\n",
       "      <th>3697</th>\n",
       "      <td>6</td>\n",
       "      <td>90.100000</td>\n",
       "      <td>0</td>\n",
       "      <td>0.0</td>\n",
       "      <td>35</td>\n",
       "      <td>643.050000</td>\n",
       "      <td>0.000000</td>\n",
       "      <td>0.015789</td>\n",
       "      <td>0.0</td>\n",
       "      <td>0.0</td>\n",
       "      <td>Oct</td>\n",
       "      <td>1</td>\n",
       "      <td>1</td>\n",
       "      <td>3</td>\n",
       "      <td>4</td>\n",
       "      <td>Returning_Visitor</td>\n",
       "      <td>True</td>\n",
       "      <td>False</td>\n",
       "    </tr>\n",
       "    <tr>\n",
       "      <th>3698</th>\n",
       "      <td>0</td>\n",
       "      <td>0.000000</td>\n",
       "      <td>0</td>\n",
       "      <td>NaN</td>\n",
       "      <td>3</td>\n",
       "      <td>73.000000</td>\n",
       "      <td>0.000000</td>\n",
       "      <td>0.066667</td>\n",
       "      <td>0.0</td>\n",
       "      <td>0.0</td>\n",
       "      <td>Mar</td>\n",
       "      <td>2</td>\n",
       "      <td>4</td>\n",
       "      <td>1</td>\n",
       "      <td>7</td>\n",
       "      <td>Returning_Visitor</td>\n",
       "      <td>False</td>\n",
       "      <td>False</td>\n",
       "    </tr>\n",
       "  </tbody>\n",
       "</table>\n",
       "</div>"
      ],
      "text/plain": [
       "      Administrative  Administrative_Duration  Informational  Informational_Duration  ProductRelated  ProductRelated_Duration  BounceRates  ExitRates  PageValues  SpecialDay Month  OperatingSystems  Browser  Region  TrafficType        VisitorType  Weekend  Revenue\n",
       "3694               3                65.928571              0                     0.0              17               557.686905     0.000000   0.009804         NaN         0.0   Dec                 2        2       2            2  Returning_Visitor    False     True\n",
       "3695               0                 0.000000              0                     0.0              52              2086.242857     0.015385   0.020353         0.0         0.0   Feb                 2        2       7            1  Returning_Visitor    False    False\n",
       "3696               1                63.500000              0                     0.0               7                58.900000     0.000000   0.025000         0.0         0.0   Dec                 1        1       2            2        New_Visitor    False    False\n",
       "3697               6                90.100000              0                     0.0              35               643.050000     0.000000   0.015789         0.0         0.0   Oct                 1        1       3            4  Returning_Visitor     True    False\n",
       "3698               0                 0.000000              0                     NaN               3                73.000000     0.000000   0.066667         0.0         0.0   Mar                 2        4       1            7  Returning_Visitor    False    False"
      ]
     },
     "execution_count": 97,
     "metadata": {},
     "output_type": "execute_result"
    }
   ],
   "source": [
    "df.tail()"
   ]
  },
  {
   "cell_type": "code",
   "execution_count": 98,
   "id": "c03bc1b1-4de7-423a-b9f5-99d415a47fbe",
   "metadata": {},
   "outputs": [
    {
     "data": {
      "text/plain": [
       "(3699, 18)"
      ]
     },
     "execution_count": 98,
     "metadata": {},
     "output_type": "execute_result"
    }
   ],
   "source": [
    "df.shape"
   ]
  },
  {
   "cell_type": "code",
   "execution_count": 99,
   "id": "3faca024-4820-4c63-a435-af9f7a4cd6c7",
   "metadata": {},
   "outputs": [
    {
     "data": {
      "text/html": [
       "<div>\n",
       "<style scoped>\n",
       "    .dataframe tbody tr th:only-of-type {\n",
       "        vertical-align: middle;\n",
       "    }\n",
       "\n",
       "    .dataframe tbody tr th {\n",
       "        vertical-align: top;\n",
       "    }\n",
       "\n",
       "    .dataframe thead th {\n",
       "        text-align: right;\n",
       "    }\n",
       "</style>\n",
       "<table border=\"1\" class=\"dataframe\">\n",
       "  <thead>\n",
       "    <tr style=\"text-align: right;\">\n",
       "      <th></th>\n",
       "      <th>Administrative</th>\n",
       "      <th>Administrative_Duration</th>\n",
       "      <th>Informational</th>\n",
       "      <th>Informational_Duration</th>\n",
       "      <th>ProductRelated</th>\n",
       "      <th>ProductRelated_Duration</th>\n",
       "      <th>BounceRates</th>\n",
       "      <th>ExitRates</th>\n",
       "      <th>PageValues</th>\n",
       "      <th>SpecialDay</th>\n",
       "      <th>Month</th>\n",
       "      <th>OperatingSystems</th>\n",
       "      <th>Browser</th>\n",
       "      <th>Region</th>\n",
       "      <th>TrafficType</th>\n",
       "      <th>VisitorType</th>\n",
       "      <th>Weekend</th>\n",
       "      <th>Revenue</th>\n",
       "    </tr>\n",
       "  </thead>\n",
       "  <tbody>\n",
       "    <tr>\n",
       "      <th>0</th>\n",
       "      <td>1</td>\n",
       "      <td>21.25</td>\n",
       "      <td>0</td>\n",
       "      <td>0.0</td>\n",
       "      <td>92</td>\n",
       "      <td>2716.519048</td>\n",
       "      <td>0.006738</td>\n",
       "      <td>0.037885</td>\n",
       "      <td>23.738911</td>\n",
       "      <td>0.0</td>\n",
       "      <td>Nov</td>\n",
       "      <td>2</td>\n",
       "      <td>2</td>\n",
       "      <td>3</td>\n",
       "      <td>2</td>\n",
       "      <td>Returning_Visitor</td>\n",
       "      <td>True</td>\n",
       "      <td>False</td>\n",
       "    </tr>\n",
       "    <tr>\n",
       "      <th>3698</th>\n",
       "      <td>0</td>\n",
       "      <td>0.00</td>\n",
       "      <td>0</td>\n",
       "      <td>NaN</td>\n",
       "      <td>3</td>\n",
       "      <td>73.000000</td>\n",
       "      <td>0.000000</td>\n",
       "      <td>0.066667</td>\n",
       "      <td>0.000000</td>\n",
       "      <td>0.0</td>\n",
       "      <td>Mar</td>\n",
       "      <td>2</td>\n",
       "      <td>4</td>\n",
       "      <td>1</td>\n",
       "      <td>7</td>\n",
       "      <td>Returning_Visitor</td>\n",
       "      <td>False</td>\n",
       "      <td>False</td>\n",
       "    </tr>\n",
       "  </tbody>\n",
       "</table>\n",
       "</div>"
      ],
      "text/plain": [
       "      Administrative  Administrative_Duration  Informational  Informational_Duration  ProductRelated  ProductRelated_Duration  BounceRates  ExitRates  PageValues  SpecialDay Month  OperatingSystems  Browser  Region  TrafficType        VisitorType  Weekend  Revenue\n",
       "0                  1                    21.25              0                     0.0              92              2716.519048     0.006738   0.037885   23.738911         0.0   Nov                 2        2       3            2  Returning_Visitor     True    False\n",
       "3698               0                     0.00              0                     NaN               3                73.000000     0.000000   0.066667    0.000000         0.0   Mar                 2        4       1            7  Returning_Visitor    False    False"
      ]
     },
     "execution_count": 99,
     "metadata": {},
     "output_type": "execute_result"
    }
   ],
   "source": [
    "df.iloc[[0, -1], :]"
   ]
  },
  {
   "cell_type": "code",
   "execution_count": 100,
   "id": "9af9d200-71c2-44aa-9b91-4565ca8c8286",
   "metadata": {},
   "outputs": [
    {
     "data": {
      "text/plain": [
       "True"
      ]
     },
     "execution_count": 100,
     "metadata": {},
     "output_type": "execute_result"
    }
   ],
   "source": [
    "any(df.isna())"
   ]
  },
  {
   "cell_type": "code",
   "execution_count": 101,
   "id": "e4e0fe1c-c09c-474e-ab48-dadb766d9675",
   "metadata": {},
   "outputs": [
    {
     "data": {
      "text/html": [
       "<div>\n",
       "<style scoped>\n",
       "    .dataframe tbody tr th:only-of-type {\n",
       "        vertical-align: middle;\n",
       "    }\n",
       "\n",
       "    .dataframe tbody tr th {\n",
       "        vertical-align: top;\n",
       "    }\n",
       "\n",
       "    .dataframe thead th {\n",
       "        text-align: right;\n",
       "    }\n",
       "</style>\n",
       "<table border=\"1\" class=\"dataframe\">\n",
       "  <thead>\n",
       "    <tr style=\"text-align: right;\">\n",
       "      <th></th>\n",
       "      <th>Administrative</th>\n",
       "      <th>Administrative_Duration</th>\n",
       "      <th>Informational</th>\n",
       "      <th>Informational_Duration</th>\n",
       "      <th>ProductRelated</th>\n",
       "      <th>ProductRelated_Duration</th>\n",
       "      <th>BounceRates</th>\n",
       "      <th>ExitRates</th>\n",
       "      <th>PageValues</th>\n",
       "      <th>SpecialDay</th>\n",
       "      <th>Month</th>\n",
       "      <th>OperatingSystems</th>\n",
       "      <th>Browser</th>\n",
       "      <th>Region</th>\n",
       "      <th>TrafficType</th>\n",
       "      <th>VisitorType</th>\n",
       "      <th>Weekend</th>\n",
       "      <th>Revenue</th>\n",
       "    </tr>\n",
       "  </thead>\n",
       "  <tbody>\n",
       "    <tr>\n",
       "      <th>0</th>\n",
       "      <td>False</td>\n",
       "      <td>False</td>\n",
       "      <td>False</td>\n",
       "      <td>False</td>\n",
       "      <td>False</td>\n",
       "      <td>False</td>\n",
       "      <td>False</td>\n",
       "      <td>False</td>\n",
       "      <td>False</td>\n",
       "      <td>False</td>\n",
       "      <td>False</td>\n",
       "      <td>False</td>\n",
       "      <td>False</td>\n",
       "      <td>False</td>\n",
       "      <td>False</td>\n",
       "      <td>False</td>\n",
       "      <td>False</td>\n",
       "      <td>False</td>\n",
       "    </tr>\n",
       "    <tr>\n",
       "      <th>1</th>\n",
       "      <td>False</td>\n",
       "      <td>False</td>\n",
       "      <td>False</td>\n",
       "      <td>False</td>\n",
       "      <td>False</td>\n",
       "      <td>False</td>\n",
       "      <td>False</td>\n",
       "      <td>False</td>\n",
       "      <td>False</td>\n",
       "      <td>False</td>\n",
       "      <td>False</td>\n",
       "      <td>False</td>\n",
       "      <td>False</td>\n",
       "      <td>False</td>\n",
       "      <td>False</td>\n",
       "      <td>False</td>\n",
       "      <td>False</td>\n",
       "      <td>False</td>\n",
       "    </tr>\n",
       "    <tr>\n",
       "      <th>2</th>\n",
       "      <td>False</td>\n",
       "      <td>False</td>\n",
       "      <td>False</td>\n",
       "      <td>False</td>\n",
       "      <td>False</td>\n",
       "      <td>False</td>\n",
       "      <td>False</td>\n",
       "      <td>False</td>\n",
       "      <td>False</td>\n",
       "      <td>False</td>\n",
       "      <td>False</td>\n",
       "      <td>False</td>\n",
       "      <td>False</td>\n",
       "      <td>False</td>\n",
       "      <td>False</td>\n",
       "      <td>False</td>\n",
       "      <td>False</td>\n",
       "      <td>False</td>\n",
       "    </tr>\n",
       "    <tr>\n",
       "      <th>3</th>\n",
       "      <td>False</td>\n",
       "      <td>False</td>\n",
       "      <td>False</td>\n",
       "      <td>False</td>\n",
       "      <td>False</td>\n",
       "      <td>False</td>\n",
       "      <td>False</td>\n",
       "      <td>False</td>\n",
       "      <td>True</td>\n",
       "      <td>True</td>\n",
       "      <td>False</td>\n",
       "      <td>False</td>\n",
       "      <td>False</td>\n",
       "      <td>False</td>\n",
       "      <td>False</td>\n",
       "      <td>False</td>\n",
       "      <td>False</td>\n",
       "      <td>False</td>\n",
       "    </tr>\n",
       "    <tr>\n",
       "      <th>4</th>\n",
       "      <td>False</td>\n",
       "      <td>False</td>\n",
       "      <td>False</td>\n",
       "      <td>False</td>\n",
       "      <td>False</td>\n",
       "      <td>False</td>\n",
       "      <td>False</td>\n",
       "      <td>False</td>\n",
       "      <td>False</td>\n",
       "      <td>False</td>\n",
       "      <td>False</td>\n",
       "      <td>False</td>\n",
       "      <td>False</td>\n",
       "      <td>False</td>\n",
       "      <td>False</td>\n",
       "      <td>False</td>\n",
       "      <td>False</td>\n",
       "      <td>False</td>\n",
       "    </tr>\n",
       "    <tr>\n",
       "      <th>...</th>\n",
       "      <td>...</td>\n",
       "      <td>...</td>\n",
       "      <td>...</td>\n",
       "      <td>...</td>\n",
       "      <td>...</td>\n",
       "      <td>...</td>\n",
       "      <td>...</td>\n",
       "      <td>...</td>\n",
       "      <td>...</td>\n",
       "      <td>...</td>\n",
       "      <td>...</td>\n",
       "      <td>...</td>\n",
       "      <td>...</td>\n",
       "      <td>...</td>\n",
       "      <td>...</td>\n",
       "      <td>...</td>\n",
       "      <td>...</td>\n",
       "      <td>...</td>\n",
       "    </tr>\n",
       "    <tr>\n",
       "      <th>3694</th>\n",
       "      <td>False</td>\n",
       "      <td>False</td>\n",
       "      <td>False</td>\n",
       "      <td>False</td>\n",
       "      <td>False</td>\n",
       "      <td>False</td>\n",
       "      <td>False</td>\n",
       "      <td>False</td>\n",
       "      <td>True</td>\n",
       "      <td>False</td>\n",
       "      <td>False</td>\n",
       "      <td>False</td>\n",
       "      <td>False</td>\n",
       "      <td>False</td>\n",
       "      <td>False</td>\n",
       "      <td>False</td>\n",
       "      <td>False</td>\n",
       "      <td>False</td>\n",
       "    </tr>\n",
       "    <tr>\n",
       "      <th>3695</th>\n",
       "      <td>False</td>\n",
       "      <td>False</td>\n",
       "      <td>False</td>\n",
       "      <td>False</td>\n",
       "      <td>False</td>\n",
       "      <td>False</td>\n",
       "      <td>False</td>\n",
       "      <td>False</td>\n",
       "      <td>False</td>\n",
       "      <td>False</td>\n",
       "      <td>False</td>\n",
       "      <td>False</td>\n",
       "      <td>False</td>\n",
       "      <td>False</td>\n",
       "      <td>False</td>\n",
       "      <td>False</td>\n",
       "      <td>False</td>\n",
       "      <td>False</td>\n",
       "    </tr>\n",
       "    <tr>\n",
       "      <th>3696</th>\n",
       "      <td>False</td>\n",
       "      <td>False</td>\n",
       "      <td>False</td>\n",
       "      <td>False</td>\n",
       "      <td>False</td>\n",
       "      <td>False</td>\n",
       "      <td>False</td>\n",
       "      <td>False</td>\n",
       "      <td>False</td>\n",
       "      <td>False</td>\n",
       "      <td>False</td>\n",
       "      <td>False</td>\n",
       "      <td>False</td>\n",
       "      <td>False</td>\n",
       "      <td>False</td>\n",
       "      <td>False</td>\n",
       "      <td>False</td>\n",
       "      <td>False</td>\n",
       "    </tr>\n",
       "    <tr>\n",
       "      <th>3697</th>\n",
       "      <td>False</td>\n",
       "      <td>False</td>\n",
       "      <td>False</td>\n",
       "      <td>False</td>\n",
       "      <td>False</td>\n",
       "      <td>False</td>\n",
       "      <td>False</td>\n",
       "      <td>False</td>\n",
       "      <td>False</td>\n",
       "      <td>False</td>\n",
       "      <td>False</td>\n",
       "      <td>False</td>\n",
       "      <td>False</td>\n",
       "      <td>False</td>\n",
       "      <td>False</td>\n",
       "      <td>False</td>\n",
       "      <td>False</td>\n",
       "      <td>False</td>\n",
       "    </tr>\n",
       "    <tr>\n",
       "      <th>3698</th>\n",
       "      <td>False</td>\n",
       "      <td>False</td>\n",
       "      <td>False</td>\n",
       "      <td>True</td>\n",
       "      <td>False</td>\n",
       "      <td>False</td>\n",
       "      <td>False</td>\n",
       "      <td>False</td>\n",
       "      <td>False</td>\n",
       "      <td>False</td>\n",
       "      <td>False</td>\n",
       "      <td>False</td>\n",
       "      <td>False</td>\n",
       "      <td>False</td>\n",
       "      <td>False</td>\n",
       "      <td>False</td>\n",
       "      <td>False</td>\n",
       "      <td>False</td>\n",
       "    </tr>\n",
       "  </tbody>\n",
       "</table>\n",
       "<p>3699 rows × 18 columns</p>\n",
       "</div>"
      ],
      "text/plain": [
       "      Administrative  Administrative_Duration  Informational  Informational_Duration  ProductRelated  ProductRelated_Duration  BounceRates  ExitRates  PageValues  SpecialDay  Month  OperatingSystems  Browser  Region  TrafficType  VisitorType  Weekend  Revenue\n",
       "0              False                    False          False                   False           False                    False        False      False       False       False  False             False    False   False        False        False    False    False\n",
       "1              False                    False          False                   False           False                    False        False      False       False       False  False             False    False   False        False        False    False    False\n",
       "2              False                    False          False                   False           False                    False        False      False       False       False  False             False    False   False        False        False    False    False\n",
       "3              False                    False          False                   False           False                    False        False      False        True        True  False             False    False   False        False        False    False    False\n",
       "4              False                    False          False                   False           False                    False        False      False       False       False  False             False    False   False        False        False    False    False\n",
       "...              ...                      ...            ...                     ...             ...                      ...          ...        ...         ...         ...    ...               ...      ...     ...          ...          ...      ...      ...\n",
       "3694           False                    False          False                   False           False                    False        False      False        True       False  False             False    False   False        False        False    False    False\n",
       "3695           False                    False          False                   False           False                    False        False      False       False       False  False             False    False   False        False        False    False    False\n",
       "3696           False                    False          False                   False           False                    False        False      False       False       False  False             False    False   False        False        False    False    False\n",
       "3697           False                    False          False                   False           False                    False        False      False       False       False  False             False    False   False        False        False    False    False\n",
       "3698           False                    False          False                    True           False                    False        False      False       False       False  False             False    False   False        False        False    False    False\n",
       "\n",
       "[3699 rows x 18 columns]"
      ]
     },
     "execution_count": 101,
     "metadata": {},
     "output_type": "execute_result"
    }
   ],
   "source": [
    "df.isnull()"
   ]
  },
  {
   "cell_type": "code",
   "execution_count": 102,
   "id": "6361be3d-f7ae-4fac-abea-e58766fcddae",
   "metadata": {},
   "outputs": [
    {
     "data": {
      "text/html": [
       "<div>\n",
       "<style scoped>\n",
       "    .dataframe tbody tr th:only-of-type {\n",
       "        vertical-align: middle;\n",
       "    }\n",
       "\n",
       "    .dataframe tbody tr th {\n",
       "        vertical-align: top;\n",
       "    }\n",
       "\n",
       "    .dataframe thead th {\n",
       "        text-align: right;\n",
       "    }\n",
       "</style>\n",
       "<table border=\"1\" class=\"dataframe\">\n",
       "  <thead>\n",
       "    <tr style=\"text-align: right;\">\n",
       "      <th></th>\n",
       "      <th>Administrative</th>\n",
       "      <th>Administrative_Duration</th>\n",
       "      <th>Informational</th>\n",
       "      <th>Informational_Duration</th>\n",
       "      <th>ProductRelated</th>\n",
       "      <th>ProductRelated_Duration</th>\n",
       "      <th>BounceRates</th>\n",
       "      <th>ExitRates</th>\n",
       "      <th>PageValues</th>\n",
       "      <th>SpecialDay</th>\n",
       "      <th>Month</th>\n",
       "      <th>OperatingSystems</th>\n",
       "      <th>Browser</th>\n",
       "      <th>Region</th>\n",
       "      <th>TrafficType</th>\n",
       "      <th>VisitorType</th>\n",
       "      <th>Weekend</th>\n",
       "      <th>Revenue</th>\n",
       "    </tr>\n",
       "  </thead>\n",
       "  <tbody>\n",
       "    <tr>\n",
       "      <th>0</th>\n",
       "      <td>NaN</td>\n",
       "      <td>NaN</td>\n",
       "      <td>NaN</td>\n",
       "      <td>NaN</td>\n",
       "      <td>NaN</td>\n",
       "      <td>NaN</td>\n",
       "      <td>NaN</td>\n",
       "      <td>NaN</td>\n",
       "      <td>NaN</td>\n",
       "      <td>NaN</td>\n",
       "      <td>NaN</td>\n",
       "      <td>NaN</td>\n",
       "      <td>NaN</td>\n",
       "      <td>NaN</td>\n",
       "      <td>NaN</td>\n",
       "      <td>NaN</td>\n",
       "      <td>NaN</td>\n",
       "      <td>NaN</td>\n",
       "    </tr>\n",
       "    <tr>\n",
       "      <th>1</th>\n",
       "      <td>NaN</td>\n",
       "      <td>NaN</td>\n",
       "      <td>NaN</td>\n",
       "      <td>NaN</td>\n",
       "      <td>NaN</td>\n",
       "      <td>NaN</td>\n",
       "      <td>NaN</td>\n",
       "      <td>NaN</td>\n",
       "      <td>NaN</td>\n",
       "      <td>NaN</td>\n",
       "      <td>NaN</td>\n",
       "      <td>NaN</td>\n",
       "      <td>NaN</td>\n",
       "      <td>NaN</td>\n",
       "      <td>NaN</td>\n",
       "      <td>NaN</td>\n",
       "      <td>NaN</td>\n",
       "      <td>NaN</td>\n",
       "    </tr>\n",
       "    <tr>\n",
       "      <th>2</th>\n",
       "      <td>NaN</td>\n",
       "      <td>NaN</td>\n",
       "      <td>NaN</td>\n",
       "      <td>NaN</td>\n",
       "      <td>NaN</td>\n",
       "      <td>NaN</td>\n",
       "      <td>NaN</td>\n",
       "      <td>NaN</td>\n",
       "      <td>NaN</td>\n",
       "      <td>NaN</td>\n",
       "      <td>NaN</td>\n",
       "      <td>NaN</td>\n",
       "      <td>NaN</td>\n",
       "      <td>NaN</td>\n",
       "      <td>NaN</td>\n",
       "      <td>NaN</td>\n",
       "      <td>NaN</td>\n",
       "      <td>NaN</td>\n",
       "    </tr>\n",
       "    <tr>\n",
       "      <th>3</th>\n",
       "      <td>NaN</td>\n",
       "      <td>NaN</td>\n",
       "      <td>NaN</td>\n",
       "      <td>NaN</td>\n",
       "      <td>NaN</td>\n",
       "      <td>NaN</td>\n",
       "      <td>NaN</td>\n",
       "      <td>NaN</td>\n",
       "      <td>NaN</td>\n",
       "      <td>NaN</td>\n",
       "      <td>NaN</td>\n",
       "      <td>NaN</td>\n",
       "      <td>NaN</td>\n",
       "      <td>NaN</td>\n",
       "      <td>NaN</td>\n",
       "      <td>NaN</td>\n",
       "      <td>NaN</td>\n",
       "      <td>NaN</td>\n",
       "    </tr>\n",
       "    <tr>\n",
       "      <th>4</th>\n",
       "      <td>NaN</td>\n",
       "      <td>NaN</td>\n",
       "      <td>NaN</td>\n",
       "      <td>NaN</td>\n",
       "      <td>NaN</td>\n",
       "      <td>NaN</td>\n",
       "      <td>NaN</td>\n",
       "      <td>NaN</td>\n",
       "      <td>NaN</td>\n",
       "      <td>NaN</td>\n",
       "      <td>NaN</td>\n",
       "      <td>NaN</td>\n",
       "      <td>NaN</td>\n",
       "      <td>NaN</td>\n",
       "      <td>NaN</td>\n",
       "      <td>NaN</td>\n",
       "      <td>NaN</td>\n",
       "      <td>NaN</td>\n",
       "    </tr>\n",
       "    <tr>\n",
       "      <th>...</th>\n",
       "      <td>...</td>\n",
       "      <td>...</td>\n",
       "      <td>...</td>\n",
       "      <td>...</td>\n",
       "      <td>...</td>\n",
       "      <td>...</td>\n",
       "      <td>...</td>\n",
       "      <td>...</td>\n",
       "      <td>...</td>\n",
       "      <td>...</td>\n",
       "      <td>...</td>\n",
       "      <td>...</td>\n",
       "      <td>...</td>\n",
       "      <td>...</td>\n",
       "      <td>...</td>\n",
       "      <td>...</td>\n",
       "      <td>...</td>\n",
       "      <td>...</td>\n",
       "    </tr>\n",
       "    <tr>\n",
       "      <th>3694</th>\n",
       "      <td>NaN</td>\n",
       "      <td>NaN</td>\n",
       "      <td>NaN</td>\n",
       "      <td>NaN</td>\n",
       "      <td>NaN</td>\n",
       "      <td>NaN</td>\n",
       "      <td>NaN</td>\n",
       "      <td>NaN</td>\n",
       "      <td>NaN</td>\n",
       "      <td>NaN</td>\n",
       "      <td>NaN</td>\n",
       "      <td>NaN</td>\n",
       "      <td>NaN</td>\n",
       "      <td>NaN</td>\n",
       "      <td>NaN</td>\n",
       "      <td>NaN</td>\n",
       "      <td>NaN</td>\n",
       "      <td>NaN</td>\n",
       "    </tr>\n",
       "    <tr>\n",
       "      <th>3695</th>\n",
       "      <td>NaN</td>\n",
       "      <td>NaN</td>\n",
       "      <td>NaN</td>\n",
       "      <td>NaN</td>\n",
       "      <td>NaN</td>\n",
       "      <td>NaN</td>\n",
       "      <td>NaN</td>\n",
       "      <td>NaN</td>\n",
       "      <td>NaN</td>\n",
       "      <td>NaN</td>\n",
       "      <td>NaN</td>\n",
       "      <td>NaN</td>\n",
       "      <td>NaN</td>\n",
       "      <td>NaN</td>\n",
       "      <td>NaN</td>\n",
       "      <td>NaN</td>\n",
       "      <td>NaN</td>\n",
       "      <td>NaN</td>\n",
       "    </tr>\n",
       "    <tr>\n",
       "      <th>3696</th>\n",
       "      <td>NaN</td>\n",
       "      <td>NaN</td>\n",
       "      <td>NaN</td>\n",
       "      <td>NaN</td>\n",
       "      <td>NaN</td>\n",
       "      <td>NaN</td>\n",
       "      <td>NaN</td>\n",
       "      <td>NaN</td>\n",
       "      <td>NaN</td>\n",
       "      <td>NaN</td>\n",
       "      <td>NaN</td>\n",
       "      <td>NaN</td>\n",
       "      <td>NaN</td>\n",
       "      <td>NaN</td>\n",
       "      <td>NaN</td>\n",
       "      <td>NaN</td>\n",
       "      <td>NaN</td>\n",
       "      <td>NaN</td>\n",
       "    </tr>\n",
       "    <tr>\n",
       "      <th>3697</th>\n",
       "      <td>NaN</td>\n",
       "      <td>NaN</td>\n",
       "      <td>NaN</td>\n",
       "      <td>NaN</td>\n",
       "      <td>NaN</td>\n",
       "      <td>NaN</td>\n",
       "      <td>NaN</td>\n",
       "      <td>NaN</td>\n",
       "      <td>NaN</td>\n",
       "      <td>NaN</td>\n",
       "      <td>NaN</td>\n",
       "      <td>NaN</td>\n",
       "      <td>NaN</td>\n",
       "      <td>NaN</td>\n",
       "      <td>NaN</td>\n",
       "      <td>NaN</td>\n",
       "      <td>NaN</td>\n",
       "      <td>NaN</td>\n",
       "    </tr>\n",
       "    <tr>\n",
       "      <th>3698</th>\n",
       "      <td>NaN</td>\n",
       "      <td>NaN</td>\n",
       "      <td>NaN</td>\n",
       "      <td>NaN</td>\n",
       "      <td>NaN</td>\n",
       "      <td>NaN</td>\n",
       "      <td>NaN</td>\n",
       "      <td>NaN</td>\n",
       "      <td>NaN</td>\n",
       "      <td>NaN</td>\n",
       "      <td>NaN</td>\n",
       "      <td>NaN</td>\n",
       "      <td>NaN</td>\n",
       "      <td>NaN</td>\n",
       "      <td>NaN</td>\n",
       "      <td>NaN</td>\n",
       "      <td>NaN</td>\n",
       "      <td>NaN</td>\n",
       "    </tr>\n",
       "  </tbody>\n",
       "</table>\n",
       "<p>3699 rows × 18 columns</p>\n",
       "</div>"
      ],
      "text/plain": [
       "      Administrative  Administrative_Duration  Informational  Informational_Duration  ProductRelated  ProductRelated_Duration  BounceRates  ExitRates  PageValues  SpecialDay Month  OperatingSystems  Browser  Region  TrafficType VisitorType  Weekend  Revenue\n",
       "0                NaN                      NaN            NaN                     NaN             NaN                      NaN          NaN        NaN         NaN         NaN   NaN               NaN      NaN     NaN          NaN         NaN      NaN      NaN\n",
       "1                NaN                      NaN            NaN                     NaN             NaN                      NaN          NaN        NaN         NaN         NaN   NaN               NaN      NaN     NaN          NaN         NaN      NaN      NaN\n",
       "2                NaN                      NaN            NaN                     NaN             NaN                      NaN          NaN        NaN         NaN         NaN   NaN               NaN      NaN     NaN          NaN         NaN      NaN      NaN\n",
       "3                NaN                      NaN            NaN                     NaN             NaN                      NaN          NaN        NaN         NaN         NaN   NaN               NaN      NaN     NaN          NaN         NaN      NaN      NaN\n",
       "4                NaN                      NaN            NaN                     NaN             NaN                      NaN          NaN        NaN         NaN         NaN   NaN               NaN      NaN     NaN          NaN         NaN      NaN      NaN\n",
       "...              ...                      ...            ...                     ...             ...                      ...          ...        ...         ...         ...   ...               ...      ...     ...          ...         ...      ...      ...\n",
       "3694             NaN                      NaN            NaN                     NaN             NaN                      NaN          NaN        NaN         NaN         NaN   NaN               NaN      NaN     NaN          NaN         NaN      NaN      NaN\n",
       "3695             NaN                      NaN            NaN                     NaN             NaN                      NaN          NaN        NaN         NaN         NaN   NaN               NaN      NaN     NaN          NaN         NaN      NaN      NaN\n",
       "3696             NaN                      NaN            NaN                     NaN             NaN                      NaN          NaN        NaN         NaN         NaN   NaN               NaN      NaN     NaN          NaN         NaN      NaN      NaN\n",
       "3697             NaN                      NaN            NaN                     NaN             NaN                      NaN          NaN        NaN         NaN         NaN   NaN               NaN      NaN     NaN          NaN         NaN      NaN      NaN\n",
       "3698             NaN                      NaN            NaN                     NaN             NaN                      NaN          NaN        NaN         NaN         NaN   NaN               NaN      NaN     NaN          NaN         NaN      NaN      NaN\n",
       "\n",
       "[3699 rows x 18 columns]"
      ]
     },
     "execution_count": 102,
     "metadata": {},
     "output_type": "execute_result"
    }
   ],
   "source": [
    "df[df.isnull()]"
   ]
  },
  {
   "cell_type": "code",
   "execution_count": 103,
   "id": "7b1fe70d-2357-468a-93eb-5249802a6c47",
   "metadata": {},
   "outputs": [
    {
     "data": {
      "text/plain": [
       "(3699, 18)"
      ]
     },
     "execution_count": 103,
     "metadata": {},
     "output_type": "execute_result"
    }
   ],
   "source": [
    "df[df.isnull()].shape"
   ]
  },
  {
   "cell_type": "code",
   "execution_count": 104,
   "id": "d349386b-a37c-43b8-bd44-d1a74ea0a882",
   "metadata": {},
   "outputs": [
    {
     "data": {
      "text/plain": [
       "pandas.core.frame.DataFrame"
      ]
     },
     "execution_count": 104,
     "metadata": {},
     "output_type": "execute_result"
    }
   ],
   "source": [
    "type(df.isnull())"
   ]
  },
  {
   "cell_type": "code",
   "execution_count": 105,
   "id": "8dba0883-2806-4a97-b02e-198dd98c14d4",
   "metadata": {},
   "outputs": [
    {
     "data": {
      "text/html": [
       "<div>\n",
       "<style scoped>\n",
       "    .dataframe tbody tr th:only-of-type {\n",
       "        vertical-align: middle;\n",
       "    }\n",
       "\n",
       "    .dataframe tbody tr th {\n",
       "        vertical-align: top;\n",
       "    }\n",
       "\n",
       "    .dataframe thead th {\n",
       "        text-align: right;\n",
       "    }\n",
       "</style>\n",
       "<table border=\"1\" class=\"dataframe\">\n",
       "  <thead>\n",
       "    <tr style=\"text-align: right;\">\n",
       "      <th></th>\n",
       "      <th>Administrative</th>\n",
       "      <th>Administrative_Duration</th>\n",
       "      <th>Informational</th>\n",
       "      <th>Informational_Duration</th>\n",
       "      <th>ProductRelated</th>\n",
       "      <th>ProductRelated_Duration</th>\n",
       "      <th>BounceRates</th>\n",
       "      <th>ExitRates</th>\n",
       "      <th>PageValues</th>\n",
       "      <th>SpecialDay</th>\n",
       "      <th>Month</th>\n",
       "      <th>OperatingSystems</th>\n",
       "      <th>Browser</th>\n",
       "      <th>Region</th>\n",
       "      <th>TrafficType</th>\n",
       "      <th>VisitorType</th>\n",
       "      <th>Weekend</th>\n",
       "      <th>Revenue</th>\n",
       "    </tr>\n",
       "  </thead>\n",
       "  <tbody>\n",
       "    <tr>\n",
       "      <th>0</th>\n",
       "      <td>False</td>\n",
       "      <td>False</td>\n",
       "      <td>False</td>\n",
       "      <td>False</td>\n",
       "      <td>False</td>\n",
       "      <td>False</td>\n",
       "      <td>False</td>\n",
       "      <td>False</td>\n",
       "      <td>False</td>\n",
       "      <td>False</td>\n",
       "      <td>False</td>\n",
       "      <td>False</td>\n",
       "      <td>False</td>\n",
       "      <td>False</td>\n",
       "      <td>False</td>\n",
       "      <td>False</td>\n",
       "      <td>False</td>\n",
       "      <td>False</td>\n",
       "    </tr>\n",
       "    <tr>\n",
       "      <th>1</th>\n",
       "      <td>False</td>\n",
       "      <td>False</td>\n",
       "      <td>False</td>\n",
       "      <td>False</td>\n",
       "      <td>False</td>\n",
       "      <td>False</td>\n",
       "      <td>False</td>\n",
       "      <td>False</td>\n",
       "      <td>False</td>\n",
       "      <td>False</td>\n",
       "      <td>False</td>\n",
       "      <td>False</td>\n",
       "      <td>False</td>\n",
       "      <td>False</td>\n",
       "      <td>False</td>\n",
       "      <td>False</td>\n",
       "      <td>False</td>\n",
       "      <td>False</td>\n",
       "    </tr>\n",
       "    <tr>\n",
       "      <th>2</th>\n",
       "      <td>False</td>\n",
       "      <td>False</td>\n",
       "      <td>False</td>\n",
       "      <td>False</td>\n",
       "      <td>False</td>\n",
       "      <td>False</td>\n",
       "      <td>False</td>\n",
       "      <td>False</td>\n",
       "      <td>False</td>\n",
       "      <td>False</td>\n",
       "      <td>False</td>\n",
       "      <td>False</td>\n",
       "      <td>False</td>\n",
       "      <td>False</td>\n",
       "      <td>False</td>\n",
       "      <td>False</td>\n",
       "      <td>False</td>\n",
       "      <td>False</td>\n",
       "    </tr>\n",
       "    <tr>\n",
       "      <th>3</th>\n",
       "      <td>False</td>\n",
       "      <td>False</td>\n",
       "      <td>False</td>\n",
       "      <td>False</td>\n",
       "      <td>False</td>\n",
       "      <td>False</td>\n",
       "      <td>False</td>\n",
       "      <td>False</td>\n",
       "      <td>True</td>\n",
       "      <td>True</td>\n",
       "      <td>False</td>\n",
       "      <td>False</td>\n",
       "      <td>False</td>\n",
       "      <td>False</td>\n",
       "      <td>False</td>\n",
       "      <td>False</td>\n",
       "      <td>False</td>\n",
       "      <td>False</td>\n",
       "    </tr>\n",
       "    <tr>\n",
       "      <th>4</th>\n",
       "      <td>False</td>\n",
       "      <td>False</td>\n",
       "      <td>False</td>\n",
       "      <td>False</td>\n",
       "      <td>False</td>\n",
       "      <td>False</td>\n",
       "      <td>False</td>\n",
       "      <td>False</td>\n",
       "      <td>False</td>\n",
       "      <td>False</td>\n",
       "      <td>False</td>\n",
       "      <td>False</td>\n",
       "      <td>False</td>\n",
       "      <td>False</td>\n",
       "      <td>False</td>\n",
       "      <td>False</td>\n",
       "      <td>False</td>\n",
       "      <td>False</td>\n",
       "    </tr>\n",
       "    <tr>\n",
       "      <th>...</th>\n",
       "      <td>...</td>\n",
       "      <td>...</td>\n",
       "      <td>...</td>\n",
       "      <td>...</td>\n",
       "      <td>...</td>\n",
       "      <td>...</td>\n",
       "      <td>...</td>\n",
       "      <td>...</td>\n",
       "      <td>...</td>\n",
       "      <td>...</td>\n",
       "      <td>...</td>\n",
       "      <td>...</td>\n",
       "      <td>...</td>\n",
       "      <td>...</td>\n",
       "      <td>...</td>\n",
       "      <td>...</td>\n",
       "      <td>...</td>\n",
       "      <td>...</td>\n",
       "    </tr>\n",
       "    <tr>\n",
       "      <th>3694</th>\n",
       "      <td>False</td>\n",
       "      <td>False</td>\n",
       "      <td>False</td>\n",
       "      <td>False</td>\n",
       "      <td>False</td>\n",
       "      <td>False</td>\n",
       "      <td>False</td>\n",
       "      <td>False</td>\n",
       "      <td>True</td>\n",
       "      <td>False</td>\n",
       "      <td>False</td>\n",
       "      <td>False</td>\n",
       "      <td>False</td>\n",
       "      <td>False</td>\n",
       "      <td>False</td>\n",
       "      <td>False</td>\n",
       "      <td>False</td>\n",
       "      <td>False</td>\n",
       "    </tr>\n",
       "    <tr>\n",
       "      <th>3695</th>\n",
       "      <td>False</td>\n",
       "      <td>False</td>\n",
       "      <td>False</td>\n",
       "      <td>False</td>\n",
       "      <td>False</td>\n",
       "      <td>False</td>\n",
       "      <td>False</td>\n",
       "      <td>False</td>\n",
       "      <td>False</td>\n",
       "      <td>False</td>\n",
       "      <td>False</td>\n",
       "      <td>False</td>\n",
       "      <td>False</td>\n",
       "      <td>False</td>\n",
       "      <td>False</td>\n",
       "      <td>False</td>\n",
       "      <td>False</td>\n",
       "      <td>False</td>\n",
       "    </tr>\n",
       "    <tr>\n",
       "      <th>3696</th>\n",
       "      <td>False</td>\n",
       "      <td>False</td>\n",
       "      <td>False</td>\n",
       "      <td>False</td>\n",
       "      <td>False</td>\n",
       "      <td>False</td>\n",
       "      <td>False</td>\n",
       "      <td>False</td>\n",
       "      <td>False</td>\n",
       "      <td>False</td>\n",
       "      <td>False</td>\n",
       "      <td>False</td>\n",
       "      <td>False</td>\n",
       "      <td>False</td>\n",
       "      <td>False</td>\n",
       "      <td>False</td>\n",
       "      <td>False</td>\n",
       "      <td>False</td>\n",
       "    </tr>\n",
       "    <tr>\n",
       "      <th>3697</th>\n",
       "      <td>False</td>\n",
       "      <td>False</td>\n",
       "      <td>False</td>\n",
       "      <td>False</td>\n",
       "      <td>False</td>\n",
       "      <td>False</td>\n",
       "      <td>False</td>\n",
       "      <td>False</td>\n",
       "      <td>False</td>\n",
       "      <td>False</td>\n",
       "      <td>False</td>\n",
       "      <td>False</td>\n",
       "      <td>False</td>\n",
       "      <td>False</td>\n",
       "      <td>False</td>\n",
       "      <td>False</td>\n",
       "      <td>False</td>\n",
       "      <td>False</td>\n",
       "    </tr>\n",
       "    <tr>\n",
       "      <th>3698</th>\n",
       "      <td>False</td>\n",
       "      <td>False</td>\n",
       "      <td>False</td>\n",
       "      <td>True</td>\n",
       "      <td>False</td>\n",
       "      <td>False</td>\n",
       "      <td>False</td>\n",
       "      <td>False</td>\n",
       "      <td>False</td>\n",
       "      <td>False</td>\n",
       "      <td>False</td>\n",
       "      <td>False</td>\n",
       "      <td>False</td>\n",
       "      <td>False</td>\n",
       "      <td>False</td>\n",
       "      <td>False</td>\n",
       "      <td>False</td>\n",
       "      <td>False</td>\n",
       "    </tr>\n",
       "  </tbody>\n",
       "</table>\n",
       "<p>3699 rows × 18 columns</p>\n",
       "</div>"
      ],
      "text/plain": [
       "      Administrative  Administrative_Duration  Informational  Informational_Duration  ProductRelated  ProductRelated_Duration  BounceRates  ExitRates  PageValues  SpecialDay  Month  OperatingSystems  Browser  Region  TrafficType  VisitorType  Weekend  Revenue\n",
       "0              False                    False          False                   False           False                    False        False      False       False       False  False             False    False   False        False        False    False    False\n",
       "1              False                    False          False                   False           False                    False        False      False       False       False  False             False    False   False        False        False    False    False\n",
       "2              False                    False          False                   False           False                    False        False      False       False       False  False             False    False   False        False        False    False    False\n",
       "3              False                    False          False                   False           False                    False        False      False        True        True  False             False    False   False        False        False    False    False\n",
       "4              False                    False          False                   False           False                    False        False      False       False       False  False             False    False   False        False        False    False    False\n",
       "...              ...                      ...            ...                     ...             ...                      ...          ...        ...         ...         ...    ...               ...      ...     ...          ...          ...      ...      ...\n",
       "3694           False                    False          False                   False           False                    False        False      False        True       False  False             False    False   False        False        False    False    False\n",
       "3695           False                    False          False                   False           False                    False        False      False       False       False  False             False    False   False        False        False    False    False\n",
       "3696           False                    False          False                   False           False                    False        False      False       False       False  False             False    False   False        False        False    False    False\n",
       "3697           False                    False          False                   False           False                    False        False      False       False       False  False             False    False   False        False        False    False    False\n",
       "3698           False                    False          False                    True           False                    False        False      False       False       False  False             False    False   False        False        False    False    False\n",
       "\n",
       "[3699 rows x 18 columns]"
      ]
     },
     "execution_count": 105,
     "metadata": {},
     "output_type": "execute_result"
    }
   ],
   "source": [
    "df.isnull()"
   ]
  },
  {
   "cell_type": "code",
   "execution_count": 106,
   "id": "bf619789-b489-4923-84b1-cf34a9bed39b",
   "metadata": {},
   "outputs": [
    {
     "data": {
      "text/plain": [
       "Administrative               0\n",
       "Administrative_Duration      0\n",
       "Informational                0\n",
       "Informational_Duration     206\n",
       "ProductRelated               0\n",
       "ProductRelated_Duration    200\n",
       "BounceRates                171\n",
       "ExitRates                  182\n",
       "PageValues                 161\n",
       "SpecialDay                 190\n",
       "Month                        0\n",
       "OperatingSystems             0\n",
       "Browser                      0\n",
       "Region                       0\n",
       "TrafficType                  0\n",
       "VisitorType                  0\n",
       "Weekend                      0\n",
       "Revenue                      0\n",
       "dtype: int64"
      ]
     },
     "execution_count": 106,
     "metadata": {},
     "output_type": "execute_result"
    }
   ],
   "source": [
    "dataset = df\n",
    "dataset.isnull().sum()"
   ]
  },
  {
   "cell_type": "code",
   "execution_count": 107,
   "id": "624bb235-c4ce-4877-8b6a-aabdced1f0f1",
   "metadata": {},
   "outputs": [
    {
     "data": {
      "text/plain": [
       "Administrative               0\n",
       "Administrative_Duration      0\n",
       "Informational                0\n",
       "Informational_Duration     206\n",
       "ProductRelated               0\n",
       "ProductRelated_Duration    200\n",
       "BounceRates                171\n",
       "ExitRates                  182\n",
       "PageValues                 161\n",
       "SpecialDay                 190\n",
       "Month                        0\n",
       "OperatingSystems             0\n",
       "Browser                      0\n",
       "Region                       0\n",
       "TrafficType                  0\n",
       "VisitorType                  0\n",
       "Weekend                      0\n",
       "Revenue                      0\n",
       "dtype: int64"
      ]
     },
     "execution_count": 107,
     "metadata": {},
     "output_type": "execute_result"
    }
   ],
   "source": [
    "import numpy as np\n",
    "np.sum(dataset.isnull())"
   ]
  },
  {
   "cell_type": "code",
   "execution_count": 108,
   "id": "f14f29bb-293d-43fd-b2eb-1a0585d5771b",
   "metadata": {},
   "outputs": [],
   "source": [
    "## 4.   Exchange the positions of the **10th** and **11th** column with each other. Then output the header of the dataframes."
   ]
  },
  {
   "cell_type": "code",
   "execution_count": 109,
   "id": "312c05e5-a611-4532-84d6-5724c7b5114a",
   "metadata": {},
   "outputs": [
    {
     "data": {
      "text/plain": [
       "['Administrative',\n",
       " 'Administrative_Duration',\n",
       " 'Informational',\n",
       " 'Informational_Duration',\n",
       " 'ProductRelated',\n",
       " 'ProductRelated_Duration',\n",
       " 'BounceRates',\n",
       " 'ExitRates',\n",
       " 'PageValues',\n",
       " 'SpecialDay',\n",
       " 'Month',\n",
       " 'OperatingSystems',\n",
       " 'Browser',\n",
       " 'Region',\n",
       " 'TrafficType',\n",
       " 'VisitorType',\n",
       " 'Weekend',\n",
       " 'Revenue']"
      ]
     },
     "execution_count": 109,
     "metadata": {},
     "output_type": "execute_result"
    }
   ],
   "source": [
    "cols = list(df.columns)\n",
    "cols"
   ]
  },
  {
   "cell_type": "code",
   "execution_count": 110,
   "id": "56da605f-20db-4672-9893-0a71f8bcf5d1",
   "metadata": {},
   "outputs": [
    {
     "data": {
      "text/plain": [
       "18"
      ]
     },
     "execution_count": 110,
     "metadata": {},
     "output_type": "execute_result"
    }
   ],
   "source": [
    "len(cols)"
   ]
  },
  {
   "cell_type": "code",
   "execution_count": 111,
   "id": "8bbea3c8-77a0-46a5-9de1-eb17469998dc",
   "metadata": {},
   "outputs": [
    {
     "data": {
      "text/plain": [
       "9"
      ]
     },
     "execution_count": 111,
     "metadata": {},
     "output_type": "execute_result"
    }
   ],
   "source": [
    "new = cols[:9] \n",
    "len(new)"
   ]
  },
  {
   "cell_type": "code",
   "execution_count": 112,
   "id": "fa86249f-39ed-42c1-b619-b306cbff9174",
   "metadata": {},
   "outputs": [
    {
     "data": {
      "text/plain": [
       "'SpecialDay'"
      ]
     },
     "execution_count": 112,
     "metadata": {},
     "output_type": "execute_result"
    }
   ],
   "source": [
    "col10 = cols[9]\n",
    "col10"
   ]
  },
  {
   "cell_type": "code",
   "execution_count": 113,
   "id": "cb59619e-d7c7-4bb6-8727-57314a07ef6a",
   "metadata": {},
   "outputs": [
    {
     "data": {
      "text/plain": [
       "'Month'"
      ]
     },
     "execution_count": 113,
     "metadata": {},
     "output_type": "execute_result"
    }
   ],
   "source": [
    "col11 = cols[10]\n",
    "col11"
   ]
  },
  {
   "cell_type": "code",
   "execution_count": 114,
   "id": "a25c3c48-bd10-426f-b21b-c912476998b2",
   "metadata": {},
   "outputs": [
    {
     "data": {
      "text/plain": [
       "['Administrative',\n",
       " 'Administrative_Duration',\n",
       " 'Informational',\n",
       " 'Informational_Duration',\n",
       " 'ProductRelated',\n",
       " 'ProductRelated_Duration',\n",
       " 'BounceRates',\n",
       " 'ExitRates',\n",
       " 'PageValues',\n",
       " 'Month',\n",
       " 'SpecialDay',\n",
       " 'OperatingSystems',\n",
       " 'Browser',\n",
       " 'Region',\n",
       " 'TrafficType',\n",
       " 'VisitorType',\n",
       " 'Weekend',\n",
       " 'Revenue']"
      ]
     },
     "execution_count": 114,
     "metadata": {},
     "output_type": "execute_result"
    }
   ],
   "source": [
    "new = cols[:9] + [col11] + [col10] + cols[11:]\n",
    "new"
   ]
  },
  {
   "cell_type": "code",
   "execution_count": 115,
   "id": "11bc80a0-6da8-45d5-93ff-ea8209f4691a",
   "metadata": {},
   "outputs": [
    {
     "data": {
      "text/plain": [
       "18"
      ]
     },
     "execution_count": 115,
     "metadata": {},
     "output_type": "execute_result"
    }
   ],
   "source": [
    "len(new)"
   ]
  },
  {
   "cell_type": "code",
   "execution_count": 116,
   "id": "d3c7aa2e-955c-479f-862e-163086c6f58f",
   "metadata": {},
   "outputs": [
    {
     "data": {
      "text/html": [
       "<div>\n",
       "<style scoped>\n",
       "    .dataframe tbody tr th:only-of-type {\n",
       "        vertical-align: middle;\n",
       "    }\n",
       "\n",
       "    .dataframe tbody tr th {\n",
       "        vertical-align: top;\n",
       "    }\n",
       "\n",
       "    .dataframe thead th {\n",
       "        text-align: right;\n",
       "    }\n",
       "</style>\n",
       "<table border=\"1\" class=\"dataframe\">\n",
       "  <thead>\n",
       "    <tr style=\"text-align: right;\">\n",
       "      <th></th>\n",
       "      <th>Administrative</th>\n",
       "      <th>Administrative_Duration</th>\n",
       "      <th>Informational</th>\n",
       "      <th>Informational_Duration</th>\n",
       "      <th>ProductRelated</th>\n",
       "      <th>ProductRelated_Duration</th>\n",
       "      <th>BounceRates</th>\n",
       "      <th>ExitRates</th>\n",
       "      <th>PageValues</th>\n",
       "      <th>Month</th>\n",
       "      <th>SpecialDay</th>\n",
       "      <th>OperatingSystems</th>\n",
       "      <th>Browser</th>\n",
       "      <th>Region</th>\n",
       "      <th>TrafficType</th>\n",
       "      <th>VisitorType</th>\n",
       "      <th>Weekend</th>\n",
       "      <th>Revenue</th>\n",
       "    </tr>\n",
       "  </thead>\n",
       "  <tbody>\n",
       "    <tr>\n",
       "      <th>0</th>\n",
       "      <td>1</td>\n",
       "      <td>21.25</td>\n",
       "      <td>0</td>\n",
       "      <td>0.0</td>\n",
       "      <td>92</td>\n",
       "      <td>2716.519048</td>\n",
       "      <td>0.006738</td>\n",
       "      <td>0.037885</td>\n",
       "      <td>23.738911</td>\n",
       "      <td>Nov</td>\n",
       "      <td>0.0</td>\n",
       "      <td>2</td>\n",
       "      <td>2</td>\n",
       "      <td>3</td>\n",
       "      <td>2</td>\n",
       "      <td>Returning_Visitor</td>\n",
       "      <td>True</td>\n",
       "      <td>False</td>\n",
       "    </tr>\n",
       "  </tbody>\n",
       "</table>\n",
       "</div>"
      ],
      "text/plain": [
       "   Administrative  Administrative_Duration  Informational  Informational_Duration  ProductRelated  ProductRelated_Duration  BounceRates  ExitRates  PageValues Month  SpecialDay  OperatingSystems  Browser  Region  TrafficType        VisitorType  Weekend  Revenue\n",
       "0               1                    21.25              0                     0.0              92              2716.519048     0.006738   0.037885   23.738911   Nov         0.0                 2        2       3            2  Returning_Visitor     True    False"
      ]
     },
     "execution_count": 116,
     "metadata": {},
     "output_type": "execute_result"
    }
   ],
   "source": [
    "df = df[new]\n",
    "df.head(1)"
   ]
  },
  {
   "cell_type": "markdown",
   "id": "eb82211a-0371-4db2-a5f8-f4b76425174d",
   "metadata": {},
   "source": [
    "## 5.   Change the name of \"**VisitorType**\" feature to \"**new_VisitorType**\".\n",
    "# "
   ]
  },
  {
   "cell_type": "code",
   "execution_count": 117,
   "id": "ca66d9d8-207a-42d9-ab74-0d902e8160a6",
   "metadata": {},
   "outputs": [
    {
     "data": {
      "text/plain": [
       "Index(['Administrative', 'Administrative_Duration', 'Informational', 'Informational_Duration', 'ProductRelated', 'ProductRelated_Duration', 'BounceRates', 'ExitRates', 'PageValues', 'Month', 'SpecialDay', 'OperatingSystems', 'Browser', 'Region', 'TrafficType', 'VisitorType', 'Weekend', 'Revenue'], dtype='object')"
      ]
     },
     "execution_count": 117,
     "metadata": {},
     "output_type": "execute_result"
    }
   ],
   "source": [
    "df.columns"
   ]
  },
  {
   "cell_type": "code",
   "execution_count": 118,
   "id": "da728ec7-4baa-405e-9078-67de5d039790",
   "metadata": {},
   "outputs": [],
   "source": [
    "#help(df.rename)"
   ]
  },
  {
   "cell_type": "code",
   "execution_count": 119,
   "id": "70446a3a-ba2e-4404-81ea-58ffa74e7dcc",
   "metadata": {},
   "outputs": [
    {
     "data": {
      "text/plain": [
       "Index(['Administrative', 'Administrative_Duration', 'Informational', 'Informational_Duration', 'ProductRelated', 'ProductRelated_Duration', 'BounceRates', 'ExitRates', 'PageValues', 'Month', 'SpecialDay', 'OperatingSystems', 'Browser', 'Region', 'TrafficType', 'new_VisitorType', 'Weekend', 'Revenue'], dtype='object')"
      ]
     },
     "execution_count": 119,
     "metadata": {},
     "output_type": "execute_result"
    }
   ],
   "source": [
    "df = df.rename(columns={\"VisitorType\":\"new_VisitorType\"})\n",
    "df.columns"
   ]
  },
  {
   "cell_type": "markdown",
   "id": "6366d3fd-fb7a-4bee-bdb0-2297f872f3a4",
   "metadata": {},
   "source": [
    "## 6.   Print out the row index of the cell with the highest **“ProductRelated_Duration”** value."
   ]
  },
  {
   "cell_type": "code",
   "execution_count": 120,
   "id": "ae9ce52f-5627-4f58-a0a0-2bb67a519a2c",
   "metadata": {},
   "outputs": [
    {
     "data": {
      "text/plain": [
       "0    2716.519048\n",
       "1    3161.074762\n",
       "2     331.837500\n",
       "3     914.229437\n",
       "4    2248.914286\n",
       "Name: ProductRelated_Duration, dtype: float64"
      ]
     },
     "execution_count": 120,
     "metadata": {},
     "output_type": "execute_result"
    }
   ],
   "source": [
    "df['ProductRelated_Duration'].head()"
   ]
  },
  {
   "cell_type": "code",
   "execution_count": 121,
   "id": "489e71c7-233e-48b7-94ef-b43ac50038ba",
   "metadata": {},
   "outputs": [
    {
     "data": {
      "text/plain": [
       "18171.79454"
      ]
     },
     "execution_count": 121,
     "metadata": {},
     "output_type": "execute_result"
    }
   ],
   "source": [
    "df['ProductRelated_Duration'].max()"
   ]
  },
  {
   "cell_type": "code",
   "execution_count": 122,
   "id": "6bdb6ec0-35b9-45a7-9fe9-6504bab6e0ee",
   "metadata": {},
   "outputs": [
    {
     "name": "stdout",
     "output_type": "stream",
     "text": [
      "     Administrative  Administrative_Duration  Informational  Informational_Duration  ProductRelated  ProductRelated_Duration  BounceRates  ExitRates  PageValues Month  SpecialDay  OperatingSystems  Browser  Region  TrafficType    new_VisitorType  Weekend  Revenue\n",
      "836              14              1220.914286              4                  1005.4             280              18171.79454     0.017486    0.03898    5.697659   Jul         0.0                 2        2       1            3  Returning_Visitor    False    False\n"
     ]
    }
   ],
   "source": [
    "print(df[df['ProductRelated_Duration'] == df['ProductRelated_Duration'].max()])"
   ]
  },
  {
   "cell_type": "code",
   "execution_count": 123,
   "id": "2a9f06c4-6ab5-4317-b71b-c6ae8a80d352",
   "metadata": {},
   "outputs": [
    {
     "data": {
      "text/html": [
       "<div>\n",
       "<style scoped>\n",
       "    .dataframe tbody tr th:only-of-type {\n",
       "        vertical-align: middle;\n",
       "    }\n",
       "\n",
       "    .dataframe tbody tr th {\n",
       "        vertical-align: top;\n",
       "    }\n",
       "\n",
       "    .dataframe thead th {\n",
       "        text-align: right;\n",
       "    }\n",
       "</style>\n",
       "<table border=\"1\" class=\"dataframe\">\n",
       "  <thead>\n",
       "    <tr style=\"text-align: right;\">\n",
       "      <th></th>\n",
       "      <th>Administrative</th>\n",
       "      <th>Administrative_Duration</th>\n",
       "      <th>Informational</th>\n",
       "      <th>Informational_Duration</th>\n",
       "      <th>ProductRelated</th>\n",
       "      <th>ProductRelated_Duration</th>\n",
       "      <th>BounceRates</th>\n",
       "      <th>ExitRates</th>\n",
       "      <th>PageValues</th>\n",
       "      <th>Month</th>\n",
       "      <th>SpecialDay</th>\n",
       "      <th>OperatingSystems</th>\n",
       "      <th>Browser</th>\n",
       "      <th>Region</th>\n",
       "      <th>TrafficType</th>\n",
       "      <th>new_VisitorType</th>\n",
       "      <th>Weekend</th>\n",
       "      <th>Revenue</th>\n",
       "    </tr>\n",
       "  </thead>\n",
       "  <tbody>\n",
       "    <tr>\n",
       "      <th>836</th>\n",
       "      <td>14</td>\n",
       "      <td>1220.914286</td>\n",
       "      <td>4</td>\n",
       "      <td>1005.4</td>\n",
       "      <td>280</td>\n",
       "      <td>18171.79454</td>\n",
       "      <td>0.017486</td>\n",
       "      <td>0.03898</td>\n",
       "      <td>5.697659</td>\n",
       "      <td>Jul</td>\n",
       "      <td>0.0</td>\n",
       "      <td>2</td>\n",
       "      <td>2</td>\n",
       "      <td>1</td>\n",
       "      <td>3</td>\n",
       "      <td>Returning_Visitor</td>\n",
       "      <td>False</td>\n",
       "      <td>False</td>\n",
       "    </tr>\n",
       "  </tbody>\n",
       "</table>\n",
       "</div>"
      ],
      "text/plain": [
       "     Administrative  Administrative_Duration  Informational  Informational_Duration  ProductRelated  ProductRelated_Duration  BounceRates  ExitRates  PageValues Month  SpecialDay  OperatingSystems  Browser  Region  TrafficType    new_VisitorType  Weekend  Revenue\n",
       "836              14              1220.914286              4                  1005.4             280              18171.79454     0.017486    0.03898    5.697659   Jul         0.0                 2        2       1            3  Returning_Visitor    False    False"
      ]
     },
     "execution_count": 123,
     "metadata": {},
     "output_type": "execute_result"
    }
   ],
   "source": [
    "df[df['ProductRelated_Duration'] == df['ProductRelated_Duration'].max()]"
   ]
  },
  {
   "cell_type": "code",
   "execution_count": 124,
   "id": "d4580a58-bf3c-43a6-be07-b0a63edf989b",
   "metadata": {},
   "outputs": [
    {
     "data": {
      "text/plain": [
       "836    18171.79454\n",
       "Name: ProductRelated_Duration, dtype: float64"
      ]
     },
     "execution_count": 124,
     "metadata": {},
     "output_type": "execute_result"
    }
   ],
   "source": [
    "df['ProductRelated_Duration'].sort_values(ascending=False).head(1)"
   ]
  },
  {
   "cell_type": "code",
   "execution_count": 125,
   "id": "2da23969-617d-49e2-9551-e0e89a3c1be6",
   "metadata": {},
   "outputs": [
    {
     "data": {
      "text/plain": [
       "0       False\n",
       "1       False\n",
       "2       False\n",
       "3       False\n",
       "4       False\n",
       "        ...  \n",
       "3694    False\n",
       "3695    False\n",
       "3696    False\n",
       "3697    False\n",
       "3698    False\n",
       "Name: ProductRelated_Duration, Length: 3699, dtype: bool"
      ]
     },
     "execution_count": 125,
     "metadata": {},
     "output_type": "execute_result"
    }
   ],
   "source": [
    "cond = df['ProductRelated_Duration'] == df['ProductRelated_Duration'].max()\n",
    "cond"
   ]
  },
  {
   "cell_type": "code",
   "execution_count": 126,
   "id": "672a9c1b-f2a8-447d-b233-3e67d3a118aa",
   "metadata": {},
   "outputs": [
    {
     "data": {
      "text/plain": [
       "Int64Index([836], dtype='int64')"
      ]
     },
     "execution_count": 126,
     "metadata": {},
     "output_type": "execute_result"
    }
   ],
   "source": [
    "df[cond].index"
   ]
  },
  {
   "cell_type": "code",
   "execution_count": 127,
   "id": "bd1cb3d2-4c22-41c9-8059-c93bec7b2589",
   "metadata": {},
   "outputs": [
    {
     "data": {
      "text/plain": [
       "[836]"
      ]
     },
     "execution_count": 127,
     "metadata": {},
     "output_type": "execute_result"
    }
   ],
   "source": [
    "list(df[cond].index)"
   ]
  },
  {
   "cell_type": "code",
   "execution_count": 128,
   "id": "d4e4c913-21db-4b86-9a44-8aaab3d2d7da",
   "metadata": {},
   "outputs": [
    {
     "data": {
      "text/plain": [
       "[836]"
      ]
     },
     "execution_count": 128,
     "metadata": {},
     "output_type": "execute_result"
    }
   ],
   "source": [
    "df[cond].index.to_list()"
   ]
  },
  {
   "cell_type": "markdown",
   "id": "d91d0acc-6d67-4da4-9a5b-3bb00c65bd7b",
   "metadata": {},
   "source": [
    "## 7.   Please remove the **“Informational”** feature from the dataset. Then output the header of the dataframe."
   ]
  },
  {
   "cell_type": "code",
   "execution_count": 129,
   "id": "0265bba9-2740-4c46-ac07-1c8564397f06",
   "metadata": {},
   "outputs": [
    {
     "data": {
      "text/html": [
       "<div>\n",
       "<style scoped>\n",
       "    .dataframe tbody tr th:only-of-type {\n",
       "        vertical-align: middle;\n",
       "    }\n",
       "\n",
       "    .dataframe tbody tr th {\n",
       "        vertical-align: top;\n",
       "    }\n",
       "\n",
       "    .dataframe thead th {\n",
       "        text-align: right;\n",
       "    }\n",
       "</style>\n",
       "<table border=\"1\" class=\"dataframe\">\n",
       "  <thead>\n",
       "    <tr style=\"text-align: right;\">\n",
       "      <th></th>\n",
       "      <th>Administrative</th>\n",
       "      <th>Administrative_Duration</th>\n",
       "      <th>Informational</th>\n",
       "      <th>Informational_Duration</th>\n",
       "      <th>ProductRelated</th>\n",
       "      <th>ProductRelated_Duration</th>\n",
       "      <th>BounceRates</th>\n",
       "      <th>ExitRates</th>\n",
       "      <th>PageValues</th>\n",
       "      <th>Month</th>\n",
       "      <th>SpecialDay</th>\n",
       "      <th>OperatingSystems</th>\n",
       "      <th>Browser</th>\n",
       "      <th>Region</th>\n",
       "      <th>TrafficType</th>\n",
       "      <th>new_VisitorType</th>\n",
       "      <th>Weekend</th>\n",
       "      <th>Revenue</th>\n",
       "    </tr>\n",
       "  </thead>\n",
       "  <tbody>\n",
       "    <tr>\n",
       "      <th>0</th>\n",
       "      <td>1</td>\n",
       "      <td>21.25</td>\n",
       "      <td>0</td>\n",
       "      <td>0.0</td>\n",
       "      <td>92</td>\n",
       "      <td>2716.519048</td>\n",
       "      <td>0.006738</td>\n",
       "      <td>0.037885</td>\n",
       "      <td>23.738911</td>\n",
       "      <td>Nov</td>\n",
       "      <td>0.0</td>\n",
       "      <td>2</td>\n",
       "      <td>2</td>\n",
       "      <td>3</td>\n",
       "      <td>2</td>\n",
       "      <td>Returning_Visitor</td>\n",
       "      <td>True</td>\n",
       "      <td>False</td>\n",
       "    </tr>\n",
       "    <tr>\n",
       "      <th>1</th>\n",
       "      <td>2</td>\n",
       "      <td>28.20</td>\n",
       "      <td>1</td>\n",
       "      <td>0.0</td>\n",
       "      <td>114</td>\n",
       "      <td>3161.074762</td>\n",
       "      <td>0.017699</td>\n",
       "      <td>0.042576</td>\n",
       "      <td>0.000000</td>\n",
       "      <td>Aug</td>\n",
       "      <td>0.0</td>\n",
       "      <td>2</td>\n",
       "      <td>2</td>\n",
       "      <td>2</td>\n",
       "      <td>1</td>\n",
       "      <td>Returning_Visitor</td>\n",
       "      <td>False</td>\n",
       "      <td>False</td>\n",
       "    </tr>\n",
       "    <tr>\n",
       "      <th>2</th>\n",
       "      <td>3</td>\n",
       "      <td>143.00</td>\n",
       "      <td>0</td>\n",
       "      <td>0.0</td>\n",
       "      <td>17</td>\n",
       "      <td>331.837500</td>\n",
       "      <td>0.033333</td>\n",
       "      <td>0.051235</td>\n",
       "      <td>0.000000</td>\n",
       "      <td>Dec</td>\n",
       "      <td>0.0</td>\n",
       "      <td>2</td>\n",
       "      <td>2</td>\n",
       "      <td>1</td>\n",
       "      <td>1</td>\n",
       "      <td>Returning_Visitor</td>\n",
       "      <td>True</td>\n",
       "      <td>False</td>\n",
       "    </tr>\n",
       "  </tbody>\n",
       "</table>\n",
       "</div>"
      ],
      "text/plain": [
       "   Administrative  Administrative_Duration  Informational  Informational_Duration  ProductRelated  ProductRelated_Duration  BounceRates  ExitRates  PageValues Month  SpecialDay  OperatingSystems  Browser  Region  TrafficType    new_VisitorType  Weekend  Revenue\n",
       "0               1                    21.25              0                     0.0              92              2716.519048     0.006738   0.037885   23.738911   Nov         0.0                 2        2       3            2  Returning_Visitor     True    False\n",
       "1               2                    28.20              1                     0.0             114              3161.074762     0.017699   0.042576    0.000000   Aug         0.0                 2        2       2            1  Returning_Visitor    False    False\n",
       "2               3                   143.00              0                     0.0              17               331.837500     0.033333   0.051235    0.000000   Dec         0.0                 2        2       1            1  Returning_Visitor     True    False"
      ]
     },
     "execution_count": 129,
     "metadata": {},
     "output_type": "execute_result"
    }
   ],
   "source": [
    "df.head(3)"
   ]
  },
  {
   "cell_type": "code",
   "execution_count": 130,
   "id": "3a22fcab-d635-47ec-ab2c-5f9c36c88dcf",
   "metadata": {},
   "outputs": [
    {
     "data": {
      "text/html": [
       "<div>\n",
       "<style scoped>\n",
       "    .dataframe tbody tr th:only-of-type {\n",
       "        vertical-align: middle;\n",
       "    }\n",
       "\n",
       "    .dataframe tbody tr th {\n",
       "        vertical-align: top;\n",
       "    }\n",
       "\n",
       "    .dataframe thead th {\n",
       "        text-align: right;\n",
       "    }\n",
       "</style>\n",
       "<table border=\"1\" class=\"dataframe\">\n",
       "  <thead>\n",
       "    <tr style=\"text-align: right;\">\n",
       "      <th></th>\n",
       "      <th>Administrative</th>\n",
       "      <th>Administrative_Duration</th>\n",
       "      <th>Informational_Duration</th>\n",
       "      <th>ProductRelated</th>\n",
       "      <th>ProductRelated_Duration</th>\n",
       "      <th>BounceRates</th>\n",
       "      <th>ExitRates</th>\n",
       "      <th>PageValues</th>\n",
       "      <th>Month</th>\n",
       "      <th>SpecialDay</th>\n",
       "      <th>OperatingSystems</th>\n",
       "      <th>Browser</th>\n",
       "      <th>Region</th>\n",
       "      <th>TrafficType</th>\n",
       "      <th>new_VisitorType</th>\n",
       "      <th>Weekend</th>\n",
       "      <th>Revenue</th>\n",
       "    </tr>\n",
       "  </thead>\n",
       "  <tbody>\n",
       "    <tr>\n",
       "      <th>0</th>\n",
       "      <td>1</td>\n",
       "      <td>21.25</td>\n",
       "      <td>0.0</td>\n",
       "      <td>92</td>\n",
       "      <td>2716.519048</td>\n",
       "      <td>0.006738</td>\n",
       "      <td>0.037885</td>\n",
       "      <td>23.738911</td>\n",
       "      <td>Nov</td>\n",
       "      <td>0.0</td>\n",
       "      <td>2</td>\n",
       "      <td>2</td>\n",
       "      <td>3</td>\n",
       "      <td>2</td>\n",
       "      <td>Returning_Visitor</td>\n",
       "      <td>True</td>\n",
       "      <td>False</td>\n",
       "    </tr>\n",
       "    <tr>\n",
       "      <th>1</th>\n",
       "      <td>2</td>\n",
       "      <td>28.20</td>\n",
       "      <td>0.0</td>\n",
       "      <td>114</td>\n",
       "      <td>3161.074762</td>\n",
       "      <td>0.017699</td>\n",
       "      <td>0.042576</td>\n",
       "      <td>0.000000</td>\n",
       "      <td>Aug</td>\n",
       "      <td>0.0</td>\n",
       "      <td>2</td>\n",
       "      <td>2</td>\n",
       "      <td>2</td>\n",
       "      <td>1</td>\n",
       "      <td>Returning_Visitor</td>\n",
       "      <td>False</td>\n",
       "      <td>False</td>\n",
       "    </tr>\n",
       "    <tr>\n",
       "      <th>2</th>\n",
       "      <td>3</td>\n",
       "      <td>143.00</td>\n",
       "      <td>0.0</td>\n",
       "      <td>17</td>\n",
       "      <td>331.837500</td>\n",
       "      <td>0.033333</td>\n",
       "      <td>0.051235</td>\n",
       "      <td>0.000000</td>\n",
       "      <td>Dec</td>\n",
       "      <td>0.0</td>\n",
       "      <td>2</td>\n",
       "      <td>2</td>\n",
       "      <td>1</td>\n",
       "      <td>1</td>\n",
       "      <td>Returning_Visitor</td>\n",
       "      <td>True</td>\n",
       "      <td>False</td>\n",
       "    </tr>\n",
       "  </tbody>\n",
       "</table>\n",
       "</div>"
      ],
      "text/plain": [
       "   Administrative  Administrative_Duration  Informational_Duration  ProductRelated  ProductRelated_Duration  BounceRates  ExitRates  PageValues Month  SpecialDay  OperatingSystems  Browser  Region  TrafficType    new_VisitorType  Weekend  Revenue\n",
       "0               1                    21.25                     0.0              92              2716.519048     0.006738   0.037885   23.738911   Nov         0.0                 2        2       3            2  Returning_Visitor     True    False\n",
       "1               2                    28.20                     0.0             114              3161.074762     0.017699   0.042576    0.000000   Aug         0.0                 2        2       2            1  Returning_Visitor    False    False\n",
       "2               3                   143.00                     0.0              17               331.837500     0.033333   0.051235    0.000000   Dec         0.0                 2        2       1            1  Returning_Visitor     True    False"
      ]
     },
     "execution_count": 130,
     "metadata": {},
     "output_type": "execute_result"
    }
   ],
   "source": [
    "h = df.drop(columns=['Informational'])\n",
    "h.head(3)"
   ]
  },
  {
   "cell_type": "code",
   "execution_count": 131,
   "id": "117dc63f-2c24-47c2-aef4-74519babd9d1",
   "metadata": {},
   "outputs": [
    {
     "data": {
      "text/html": [
       "<div>\n",
       "<style scoped>\n",
       "    .dataframe tbody tr th:only-of-type {\n",
       "        vertical-align: middle;\n",
       "    }\n",
       "\n",
       "    .dataframe tbody tr th {\n",
       "        vertical-align: top;\n",
       "    }\n",
       "\n",
       "    .dataframe thead th {\n",
       "        text-align: right;\n",
       "    }\n",
       "</style>\n",
       "<table border=\"1\" class=\"dataframe\">\n",
       "  <thead>\n",
       "    <tr style=\"text-align: right;\">\n",
       "      <th></th>\n",
       "      <th>Administrative</th>\n",
       "      <th>Administrative_Duration</th>\n",
       "      <th>Informational</th>\n",
       "      <th>Informational_Duration</th>\n",
       "      <th>ProductRelated</th>\n",
       "      <th>ProductRelated_Duration</th>\n",
       "      <th>BounceRates</th>\n",
       "      <th>ExitRates</th>\n",
       "      <th>PageValues</th>\n",
       "      <th>Month</th>\n",
       "      <th>SpecialDay</th>\n",
       "      <th>OperatingSystems</th>\n",
       "      <th>Browser</th>\n",
       "      <th>Region</th>\n",
       "      <th>TrafficType</th>\n",
       "      <th>new_VisitorType</th>\n",
       "      <th>Weekend</th>\n",
       "      <th>Revenue</th>\n",
       "    </tr>\n",
       "  </thead>\n",
       "  <tbody>\n",
       "    <tr>\n",
       "      <th>0</th>\n",
       "      <td>1</td>\n",
       "      <td>21.25</td>\n",
       "      <td>0</td>\n",
       "      <td>0.0</td>\n",
       "      <td>92</td>\n",
       "      <td>2716.519048</td>\n",
       "      <td>0.006738</td>\n",
       "      <td>0.037885</td>\n",
       "      <td>23.738911</td>\n",
       "      <td>Nov</td>\n",
       "      <td>0.0</td>\n",
       "      <td>2</td>\n",
       "      <td>2</td>\n",
       "      <td>3</td>\n",
       "      <td>2</td>\n",
       "      <td>Returning_Visitor</td>\n",
       "      <td>True</td>\n",
       "      <td>False</td>\n",
       "    </tr>\n",
       "    <tr>\n",
       "      <th>1</th>\n",
       "      <td>2</td>\n",
       "      <td>28.20</td>\n",
       "      <td>1</td>\n",
       "      <td>0.0</td>\n",
       "      <td>114</td>\n",
       "      <td>3161.074762</td>\n",
       "      <td>0.017699</td>\n",
       "      <td>0.042576</td>\n",
       "      <td>0.000000</td>\n",
       "      <td>Aug</td>\n",
       "      <td>0.0</td>\n",
       "      <td>2</td>\n",
       "      <td>2</td>\n",
       "      <td>2</td>\n",
       "      <td>1</td>\n",
       "      <td>Returning_Visitor</td>\n",
       "      <td>False</td>\n",
       "      <td>False</td>\n",
       "    </tr>\n",
       "  </tbody>\n",
       "</table>\n",
       "</div>"
      ],
      "text/plain": [
       "   Administrative  Administrative_Duration  Informational  Informational_Duration  ProductRelated  ProductRelated_Duration  BounceRates  ExitRates  PageValues Month  SpecialDay  OperatingSystems  Browser  Region  TrafficType    new_VisitorType  Weekend  Revenue\n",
       "0               1                    21.25              0                     0.0              92              2716.519048     0.006738   0.037885   23.738911   Nov         0.0                 2        2       3            2  Returning_Visitor     True    False\n",
       "1               2                    28.20              1                     0.0             114              3161.074762     0.017699   0.042576    0.000000   Aug         0.0                 2        2       2            1  Returning_Visitor    False    False"
      ]
     },
     "execution_count": 131,
     "metadata": {},
     "output_type": "execute_result"
    }
   ],
   "source": [
    "df.head(2)"
   ]
  },
  {
   "cell_type": "code",
   "execution_count": 132,
   "id": "b764d0a8-5f41-484c-83db-b906521aaa18",
   "metadata": {},
   "outputs": [
    {
     "data": {
      "text/html": [
       "<div>\n",
       "<style scoped>\n",
       "    .dataframe tbody tr th:only-of-type {\n",
       "        vertical-align: middle;\n",
       "    }\n",
       "\n",
       "    .dataframe tbody tr th {\n",
       "        vertical-align: top;\n",
       "    }\n",
       "\n",
       "    .dataframe thead th {\n",
       "        text-align: right;\n",
       "    }\n",
       "</style>\n",
       "<table border=\"1\" class=\"dataframe\">\n",
       "  <thead>\n",
       "    <tr style=\"text-align: right;\">\n",
       "      <th></th>\n",
       "      <th>Administrative</th>\n",
       "      <th>Administrative_Duration</th>\n",
       "      <th>Informational_Duration</th>\n",
       "      <th>ProductRelated</th>\n",
       "      <th>ProductRelated_Duration</th>\n",
       "      <th>BounceRates</th>\n",
       "      <th>ExitRates</th>\n",
       "      <th>PageValues</th>\n",
       "      <th>Month</th>\n",
       "      <th>SpecialDay</th>\n",
       "      <th>OperatingSystems</th>\n",
       "      <th>Browser</th>\n",
       "      <th>Region</th>\n",
       "      <th>TrafficType</th>\n",
       "      <th>new_VisitorType</th>\n",
       "      <th>Weekend</th>\n",
       "      <th>Revenue</th>\n",
       "    </tr>\n",
       "  </thead>\n",
       "  <tbody>\n",
       "    <tr>\n",
       "      <th>0</th>\n",
       "      <td>1</td>\n",
       "      <td>21.25</td>\n",
       "      <td>0.0</td>\n",
       "      <td>92</td>\n",
       "      <td>2716.519048</td>\n",
       "      <td>0.006738</td>\n",
       "      <td>0.037885</td>\n",
       "      <td>23.738911</td>\n",
       "      <td>Nov</td>\n",
       "      <td>0.0</td>\n",
       "      <td>2</td>\n",
       "      <td>2</td>\n",
       "      <td>3</td>\n",
       "      <td>2</td>\n",
       "      <td>Returning_Visitor</td>\n",
       "      <td>True</td>\n",
       "      <td>False</td>\n",
       "    </tr>\n",
       "    <tr>\n",
       "      <th>1</th>\n",
       "      <td>2</td>\n",
       "      <td>28.20</td>\n",
       "      <td>0.0</td>\n",
       "      <td>114</td>\n",
       "      <td>3161.074762</td>\n",
       "      <td>0.017699</td>\n",
       "      <td>0.042576</td>\n",
       "      <td>0.000000</td>\n",
       "      <td>Aug</td>\n",
       "      <td>0.0</td>\n",
       "      <td>2</td>\n",
       "      <td>2</td>\n",
       "      <td>2</td>\n",
       "      <td>1</td>\n",
       "      <td>Returning_Visitor</td>\n",
       "      <td>False</td>\n",
       "      <td>False</td>\n",
       "    </tr>\n",
       "    <tr>\n",
       "      <th>2</th>\n",
       "      <td>3</td>\n",
       "      <td>143.00</td>\n",
       "      <td>0.0</td>\n",
       "      <td>17</td>\n",
       "      <td>331.837500</td>\n",
       "      <td>0.033333</td>\n",
       "      <td>0.051235</td>\n",
       "      <td>0.000000</td>\n",
       "      <td>Dec</td>\n",
       "      <td>0.0</td>\n",
       "      <td>2</td>\n",
       "      <td>2</td>\n",
       "      <td>1</td>\n",
       "      <td>1</td>\n",
       "      <td>Returning_Visitor</td>\n",
       "      <td>True</td>\n",
       "      <td>False</td>\n",
       "    </tr>\n",
       "  </tbody>\n",
       "</table>\n",
       "</div>"
      ],
      "text/plain": [
       "   Administrative  Administrative_Duration  Informational_Duration  ProductRelated  ProductRelated_Duration  BounceRates  ExitRates  PageValues Month  SpecialDay  OperatingSystems  Browser  Region  TrafficType    new_VisitorType  Weekend  Revenue\n",
       "0               1                    21.25                     0.0              92              2716.519048     0.006738   0.037885   23.738911   Nov         0.0                 2        2       3            2  Returning_Visitor     True    False\n",
       "1               2                    28.20                     0.0             114              3161.074762     0.017699   0.042576    0.000000   Aug         0.0                 2        2       2            1  Returning_Visitor    False    False\n",
       "2               3                   143.00                     0.0              17               331.837500     0.033333   0.051235    0.000000   Dec         0.0                 2        2       1            1  Returning_Visitor     True    False"
      ]
     },
     "execution_count": 132,
     "metadata": {},
     "output_type": "execute_result"
    }
   ],
   "source": [
    "#alternativ\n",
    "\n",
    "del df['Informational']\n",
    "df.head(3)"
   ]
  },
  {
   "cell_type": "markdown",
   "id": "06560034-7ad6-448e-b9db-4bc4711dedf9",
   "metadata": {},
   "source": [
    "## 8.   Print out the first and third quantile of **“PageValues”** feature."
   ]
  },
  {
   "cell_type": "code",
   "execution_count": 133,
   "id": "9584ae25-4a85-4d3b-b71a-e243b86b24ba",
   "metadata": {},
   "outputs": [
    {
     "data": {
      "text/plain": [
       "0.0"
      ]
     },
     "execution_count": 133,
     "metadata": {},
     "output_type": "execute_result"
    }
   ],
   "source": [
    "df['PageValues'].quantile(0.2)"
   ]
  },
  {
   "cell_type": "code",
   "execution_count": 134,
   "id": "8af3b871-5eff-4f2a-976e-11d774d5ff37",
   "metadata": {},
   "outputs": [
    {
     "data": {
      "text/plain": [
       "0.0"
      ]
     },
     "execution_count": 134,
     "metadata": {},
     "output_type": "execute_result"
    }
   ],
   "source": [
    "df['PageValues'].quantile(0.6)"
   ]
  },
  {
   "cell_type": "code",
   "execution_count": 135,
   "id": "f05c8367-41e6-4f95-972f-ed9e41c12fbd",
   "metadata": {},
   "outputs": [
    {
     "data": {
      "text/plain": [
       "0.000000     2734\n",
       "40.401448       2\n",
       "40.278152       2\n",
       "39.292163       1\n",
       "32.913009       1\n",
       "             ... \n",
       "7.448243        1\n",
       "26.937924       1\n",
       "20.608364       1\n",
       "3.170426        1\n",
       "15.756363       1\n",
       "Name: PageValues, Length: 803, dtype: int64"
      ]
     },
     "execution_count": 135,
     "metadata": {},
     "output_type": "execute_result"
    }
   ],
   "source": [
    "df['PageValues'].value_counts()"
   ]
  },
  {
   "cell_type": "code",
   "execution_count": 136,
   "id": "10186c54-f464-4c25-8be3-222d5b802515",
   "metadata": {},
   "outputs": [
    {
     "data": {
      "text/plain": [
       "0.0"
      ]
     },
     "execution_count": 136,
     "metadata": {},
     "output_type": "execute_result"
    }
   ],
   "source": [
    "df['PageValues'].dropna().quantile(0.6)"
   ]
  },
  {
   "cell_type": "code",
   "execution_count": 137,
   "id": "ab436ac1-c2fc-4546-959b-b10a6c9557ab",
   "metadata": {},
   "outputs": [
    {
     "data": {
      "text/plain": [
       "0.2    0.0\n",
       "0.6    0.0\n",
       "Name: PageValues, dtype: float64"
      ]
     },
     "execution_count": 137,
     "metadata": {},
     "output_type": "execute_result"
    }
   ],
   "source": [
    "df['PageValues'].quantile([0.2, 0.6])"
   ]
  },
  {
   "cell_type": "code",
   "execution_count": 138,
   "id": "8d928beb-f20f-4226-92df-f8b84ca63c14",
   "metadata": {},
   "outputs": [
    {
     "data": {
      "text/plain": [
       "count    3538.000000\n",
       "mean        5.916432\n",
       "std        19.432088\n",
       "min         0.000000\n",
       "25%         0.000000\n",
       "50%         0.000000\n",
       "75%         0.000000\n",
       "max       361.763742\n",
       "Name: PageValues, dtype: float64"
      ]
     },
     "execution_count": 138,
     "metadata": {},
     "output_type": "execute_result"
    }
   ],
   "source": [
    "df['PageValues'].describe()"
   ]
  },
  {
   "cell_type": "code",
   "execution_count": 139,
   "id": "9604bcf4-087c-4eaa-955c-cb2171486784",
   "metadata": {},
   "outputs": [
    {
     "data": {
      "text/plain": [
       "Index(['count', 'mean', 'std', 'min', '25%', '50%', '75%', 'max'], dtype='object')"
      ]
     },
     "execution_count": 139,
     "metadata": {},
     "output_type": "execute_result"
    }
   ],
   "source": [
    "df.describe().index"
   ]
  },
  {
   "cell_type": "code",
   "execution_count": 140,
   "id": "388e4d22-bda0-4a04-9cd4-a9121c0210cb",
   "metadata": {},
   "outputs": [
    {
     "data": {
      "text/html": [
       "<div>\n",
       "<style scoped>\n",
       "    .dataframe tbody tr th:only-of-type {\n",
       "        vertical-align: middle;\n",
       "    }\n",
       "\n",
       "    .dataframe tbody tr th {\n",
       "        vertical-align: top;\n",
       "    }\n",
       "\n",
       "    .dataframe thead th {\n",
       "        text-align: right;\n",
       "    }\n",
       "</style>\n",
       "<table border=\"1\" class=\"dataframe\">\n",
       "  <thead>\n",
       "    <tr style=\"text-align: right;\">\n",
       "      <th></th>\n",
       "      <th>Administrative</th>\n",
       "      <th>Administrative_Duration</th>\n",
       "      <th>Informational_Duration</th>\n",
       "      <th>ProductRelated</th>\n",
       "      <th>ProductRelated_Duration</th>\n",
       "      <th>BounceRates</th>\n",
       "      <th>ExitRates</th>\n",
       "      <th>PageValues</th>\n",
       "      <th>SpecialDay</th>\n",
       "      <th>OperatingSystems</th>\n",
       "      <th>Browser</th>\n",
       "      <th>Region</th>\n",
       "      <th>TrafficType</th>\n",
       "    </tr>\n",
       "  </thead>\n",
       "  <tbody>\n",
       "    <tr>\n",
       "      <th>25%</th>\n",
       "      <td>0.0</td>\n",
       "      <td>0.0</td>\n",
       "      <td>0.0</td>\n",
       "      <td>8.0</td>\n",
       "      <td>190.479167</td>\n",
       "      <td>0.0</td>\n",
       "      <td>0.014286</td>\n",
       "      <td>0.0</td>\n",
       "      <td>0.0</td>\n",
       "      <td>2.0</td>\n",
       "      <td>2.0</td>\n",
       "      <td>1.0</td>\n",
       "      <td>2.0</td>\n",
       "    </tr>\n",
       "  </tbody>\n",
       "</table>\n",
       "</div>"
      ],
      "text/plain": [
       "     Administrative  Administrative_Duration  Informational_Duration  ProductRelated  ProductRelated_Duration  BounceRates  ExitRates  PageValues  SpecialDay  OperatingSystems  Browser  Region  TrafficType\n",
       "25%             0.0                      0.0                     0.0             8.0               190.479167          0.0   0.014286         0.0         0.0               2.0      2.0     1.0          2.0"
      ]
     },
     "execution_count": 140,
     "metadata": {},
     "output_type": "execute_result"
    }
   ],
   "source": [
    "df.describe()[df.describe().index == \"25%\"]"
   ]
  },
  {
   "cell_type": "code",
   "execution_count": 141,
   "id": "03bd4a93-04db-44b3-adc7-6166de3fe6db",
   "metadata": {},
   "outputs": [
    {
     "name": "stdout",
     "output_type": "stream",
     "text": [
      "25%    0.0\n",
      "Name: PageValues, dtype: float64\n",
      "75%    0.0\n",
      "Name: PageValues, dtype: float64\n"
     ]
    }
   ],
   "source": [
    "print(df.describe()[df.describe().index == \"25%\"]['PageValues'])\n",
    "print(df.describe()[df.describe().index == \"75%\"]['PageValues'])\n"
   ]
  },
  {
   "cell_type": "markdown",
   "id": "d17ae433-0b61-44f2-83af-9c9d6222a454",
   "metadata": {},
   "source": [
    "## 9.   Output the number of missing values in each column."
   ]
  },
  {
   "cell_type": "code",
   "execution_count": 142,
   "id": "d3a58716-895d-44b0-8f99-bebab1c946c1",
   "metadata": {},
   "outputs": [
    {
     "data": {
      "text/plain": [
       "Administrative               0\n",
       "Administrative_Duration      0\n",
       "Informational_Duration     206\n",
       "ProductRelated               0\n",
       "ProductRelated_Duration    200\n",
       "BounceRates                171\n",
       "ExitRates                  182\n",
       "PageValues                 161\n",
       "Month                        0\n",
       "SpecialDay                 190\n",
       "OperatingSystems             0\n",
       "Browser                      0\n",
       "Region                       0\n",
       "TrafficType                  0\n",
       "new_VisitorType              0\n",
       "Weekend                      0\n",
       "Revenue                      0\n",
       "dtype: int64"
      ]
     },
     "execution_count": 142,
     "metadata": {},
     "output_type": "execute_result"
    }
   ],
   "source": [
    "df.isnull().sum()"
   ]
  },
  {
   "cell_type": "code",
   "execution_count": 143,
   "id": "2bcab5ec-c780-4023-bec2-96df4ca0ded5",
   "metadata": {},
   "outputs": [
    {
     "data": {
      "text/plain": [
       "3699"
      ]
     },
     "execution_count": 143,
     "metadata": {},
     "output_type": "execute_result"
    }
   ],
   "source": [
    "len(df)"
   ]
  },
  {
   "cell_type": "markdown",
   "id": "3a65886a-af93-4c5d-b09c-4a068ecf0678",
   "metadata": {},
   "source": [
    "## 10.   From the dataset, filter every 250th row in the data for the features **“Month”**, **“ExitRates”** and **“SpecialDay”**, starting from row 0."
   ]
  },
  {
   "cell_type": "code",
   "execution_count": 144,
   "id": "3a75096a-f4ca-484d-8a11-b3fec4a8fb88",
   "metadata": {},
   "outputs": [
    {
     "data": {
      "text/plain": [
       "range(0, 3699, 249)"
      ]
     },
     "execution_count": 144,
     "metadata": {},
     "output_type": "execute_result"
    }
   ],
   "source": [
    "frange = range(0,len(df), 249)\n",
    "frange"
   ]
  },
  {
   "cell_type": "code",
   "execution_count": 145,
   "id": "7b8c9af3-0f05-4178-91db-1717310a7994",
   "metadata": {},
   "outputs": [
    {
     "data": {
      "text/plain": [
       "[0,\n",
       " 249,\n",
       " 498,\n",
       " 747,\n",
       " 996,\n",
       " 1245,\n",
       " 1494,\n",
       " 1743,\n",
       " 1992,\n",
       " 2241,\n",
       " 2490,\n",
       " 2739,\n",
       " 2988,\n",
       " 3237,\n",
       " 3486]"
      ]
     },
     "execution_count": 145,
     "metadata": {},
     "output_type": "execute_result"
    }
   ],
   "source": [
    "list(frange)"
   ]
  },
  {
   "cell_type": "code",
   "execution_count": 146,
   "id": "0f980923-a9f9-41da-9705-94ed1657a3b4",
   "metadata": {},
   "outputs": [
    {
     "data": {
      "text/plain": [
       "['Month', 'ExitRates', 'SpecialDay']"
      ]
     },
     "execution_count": 146,
     "metadata": {},
     "output_type": "execute_result"
    }
   ],
   "source": [
    "cols = ['Month', 'ExitRates', 'SpecialDay']\n",
    "cols"
   ]
  },
  {
   "cell_type": "code",
   "execution_count": 147,
   "id": "c119b2c9-30d7-446b-a346-a4c903c3a46f",
   "metadata": {},
   "outputs": [
    {
     "data": {
      "text/html": [
       "<div>\n",
       "<style scoped>\n",
       "    .dataframe tbody tr th:only-of-type {\n",
       "        vertical-align: middle;\n",
       "    }\n",
       "\n",
       "    .dataframe tbody tr th {\n",
       "        vertical-align: top;\n",
       "    }\n",
       "\n",
       "    .dataframe thead th {\n",
       "        text-align: right;\n",
       "    }\n",
       "</style>\n",
       "<table border=\"1\" class=\"dataframe\">\n",
       "  <thead>\n",
       "    <tr style=\"text-align: right;\">\n",
       "      <th></th>\n",
       "      <th>Administrative</th>\n",
       "      <th>Administrative_Duration</th>\n",
       "      <th>Informational_Duration</th>\n",
       "      <th>ProductRelated</th>\n",
       "      <th>ProductRelated_Duration</th>\n",
       "      <th>BounceRates</th>\n",
       "      <th>ExitRates</th>\n",
       "      <th>PageValues</th>\n",
       "      <th>Month</th>\n",
       "      <th>SpecialDay</th>\n",
       "      <th>OperatingSystems</th>\n",
       "      <th>Browser</th>\n",
       "      <th>Region</th>\n",
       "      <th>TrafficType</th>\n",
       "      <th>new_VisitorType</th>\n",
       "      <th>Weekend</th>\n",
       "      <th>Revenue</th>\n",
       "    </tr>\n",
       "  </thead>\n",
       "  <tbody>\n",
       "    <tr>\n",
       "      <th>0</th>\n",
       "      <td>1</td>\n",
       "      <td>21.250000</td>\n",
       "      <td>0.0</td>\n",
       "      <td>92</td>\n",
       "      <td>2716.519048</td>\n",
       "      <td>0.006738</td>\n",
       "      <td>0.037885</td>\n",
       "      <td>23.738911</td>\n",
       "      <td>Nov</td>\n",
       "      <td>0.0</td>\n",
       "      <td>2</td>\n",
       "      <td>2</td>\n",
       "      <td>3</td>\n",
       "      <td>2</td>\n",
       "      <td>Returning_Visitor</td>\n",
       "      <td>True</td>\n",
       "      <td>False</td>\n",
       "    </tr>\n",
       "    <tr>\n",
       "      <th>249</th>\n",
       "      <td>0</td>\n",
       "      <td>0.000000</td>\n",
       "      <td>0.0</td>\n",
       "      <td>53</td>\n",
       "      <td>952.159820</td>\n",
       "      <td>0.015839</td>\n",
       "      <td>0.037802</td>\n",
       "      <td>0.000000</td>\n",
       "      <td>Jul</td>\n",
       "      <td>0.0</td>\n",
       "      <td>3</td>\n",
       "      <td>2</td>\n",
       "      <td>8</td>\n",
       "      <td>1</td>\n",
       "      <td>Returning_Visitor</td>\n",
       "      <td>True</td>\n",
       "      <td>False</td>\n",
       "    </tr>\n",
       "    <tr>\n",
       "      <th>498</th>\n",
       "      <td>2</td>\n",
       "      <td>56.400000</td>\n",
       "      <td>0.0</td>\n",
       "      <td>72</td>\n",
       "      <td>2101.467925</td>\n",
       "      <td>0.006140</td>\n",
       "      <td>0.029987</td>\n",
       "      <td>0.000000</td>\n",
       "      <td>Aug</td>\n",
       "      <td>0.0</td>\n",
       "      <td>1</td>\n",
       "      <td>1</td>\n",
       "      <td>2</td>\n",
       "      <td>2</td>\n",
       "      <td>Returning_Visitor</td>\n",
       "      <td>False</td>\n",
       "      <td>False</td>\n",
       "    </tr>\n",
       "    <tr>\n",
       "      <th>747</th>\n",
       "      <td>9</td>\n",
       "      <td>160.000000</td>\n",
       "      <td>0.0</td>\n",
       "      <td>48</td>\n",
       "      <td>3946.008333</td>\n",
       "      <td>0.007273</td>\n",
       "      <td>0.011515</td>\n",
       "      <td>20.323881</td>\n",
       "      <td>Mar</td>\n",
       "      <td>0.0</td>\n",
       "      <td>2</td>\n",
       "      <td>6</td>\n",
       "      <td>1</td>\n",
       "      <td>8</td>\n",
       "      <td>Returning_Visitor</td>\n",
       "      <td>True</td>\n",
       "      <td>True</td>\n",
       "    </tr>\n",
       "    <tr>\n",
       "      <th>996</th>\n",
       "      <td>2</td>\n",
       "      <td>67.500000</td>\n",
       "      <td>0.0</td>\n",
       "      <td>11</td>\n",
       "      <td>294.000000</td>\n",
       "      <td>0.000000</td>\n",
       "      <td>0.009091</td>\n",
       "      <td>0.000000</td>\n",
       "      <td>Dec</td>\n",
       "      <td>NaN</td>\n",
       "      <td>1</td>\n",
       "      <td>1</td>\n",
       "      <td>3</td>\n",
       "      <td>8</td>\n",
       "      <td>Returning_Visitor</td>\n",
       "      <td>True</td>\n",
       "      <td>False</td>\n",
       "    </tr>\n",
       "    <tr>\n",
       "      <th>1245</th>\n",
       "      <td>6</td>\n",
       "      <td>72.040000</td>\n",
       "      <td>206.6</td>\n",
       "      <td>24</td>\n",
       "      <td>709.433333</td>\n",
       "      <td>0.007143</td>\n",
       "      <td>0.016667</td>\n",
       "      <td>15.709429</td>\n",
       "      <td>Aug</td>\n",
       "      <td>0.0</td>\n",
       "      <td>2</td>\n",
       "      <td>2</td>\n",
       "      <td>2</td>\n",
       "      <td>2</td>\n",
       "      <td>Returning_Visitor</td>\n",
       "      <td>False</td>\n",
       "      <td>True</td>\n",
       "    </tr>\n",
       "    <tr>\n",
       "      <th>1494</th>\n",
       "      <td>0</td>\n",
       "      <td>0.000000</td>\n",
       "      <td>0.0</td>\n",
       "      <td>5</td>\n",
       "      <td>41.000000</td>\n",
       "      <td>0.040000</td>\n",
       "      <td>0.080000</td>\n",
       "      <td>0.000000</td>\n",
       "      <td>Dec</td>\n",
       "      <td>0.0</td>\n",
       "      <td>2</td>\n",
       "      <td>5</td>\n",
       "      <td>1</td>\n",
       "      <td>1</td>\n",
       "      <td>Returning_Visitor</td>\n",
       "      <td>False</td>\n",
       "      <td>False</td>\n",
       "    </tr>\n",
       "    <tr>\n",
       "      <th>1743</th>\n",
       "      <td>0</td>\n",
       "      <td>0.000000</td>\n",
       "      <td>0.0</td>\n",
       "      <td>15</td>\n",
       "      <td>455.500000</td>\n",
       "      <td>0.000000</td>\n",
       "      <td>NaN</td>\n",
       "      <td>0.000000</td>\n",
       "      <td>May</td>\n",
       "      <td>0.0</td>\n",
       "      <td>2</td>\n",
       "      <td>10</td>\n",
       "      <td>3</td>\n",
       "      <td>2</td>\n",
       "      <td>New_Visitor</td>\n",
       "      <td>False</td>\n",
       "      <td>False</td>\n",
       "    </tr>\n",
       "    <tr>\n",
       "      <th>1992</th>\n",
       "      <td>10</td>\n",
       "      <td>164.500000</td>\n",
       "      <td>3.0</td>\n",
       "      <td>61</td>\n",
       "      <td>2292.679762</td>\n",
       "      <td>0.000000</td>\n",
       "      <td>NaN</td>\n",
       "      <td>0.000000</td>\n",
       "      <td>Mar</td>\n",
       "      <td>0.0</td>\n",
       "      <td>2</td>\n",
       "      <td>2</td>\n",
       "      <td>1</td>\n",
       "      <td>1</td>\n",
       "      <td>Returning_Visitor</td>\n",
       "      <td>False</td>\n",
       "      <td>False</td>\n",
       "    </tr>\n",
       "    <tr>\n",
       "      <th>2241</th>\n",
       "      <td>9</td>\n",
       "      <td>122.000000</td>\n",
       "      <td>87.0</td>\n",
       "      <td>50</td>\n",
       "      <td>1694.797619</td>\n",
       "      <td>0.008929</td>\n",
       "      <td>0.018155</td>\n",
       "      <td>0.000000</td>\n",
       "      <td>Mar</td>\n",
       "      <td>0.0</td>\n",
       "      <td>1</td>\n",
       "      <td>1</td>\n",
       "      <td>1</td>\n",
       "      <td>3</td>\n",
       "      <td>Returning_Visitor</td>\n",
       "      <td>True</td>\n",
       "      <td>False</td>\n",
       "    </tr>\n",
       "    <tr>\n",
       "      <th>2490</th>\n",
       "      <td>4</td>\n",
       "      <td>43.000000</td>\n",
       "      <td>0.0</td>\n",
       "      <td>66</td>\n",
       "      <td>2544.053571</td>\n",
       "      <td>0.000000</td>\n",
       "      <td>0.015920</td>\n",
       "      <td>62.405762</td>\n",
       "      <td>Nov</td>\n",
       "      <td>0.0</td>\n",
       "      <td>4</td>\n",
       "      <td>1</td>\n",
       "      <td>2</td>\n",
       "      <td>2</td>\n",
       "      <td>Returning_Visitor</td>\n",
       "      <td>False</td>\n",
       "      <td>False</td>\n",
       "    </tr>\n",
       "    <tr>\n",
       "      <th>2739</th>\n",
       "      <td>17</td>\n",
       "      <td>626.493333</td>\n",
       "      <td>0.0</td>\n",
       "      <td>76</td>\n",
       "      <td>1985.894203</td>\n",
       "      <td>0.015630</td>\n",
       "      <td>0.031102</td>\n",
       "      <td>0.000000</td>\n",
       "      <td>Oct</td>\n",
       "      <td>0.0</td>\n",
       "      <td>2</td>\n",
       "      <td>2</td>\n",
       "      <td>1</td>\n",
       "      <td>1</td>\n",
       "      <td>Returning_Visitor</td>\n",
       "      <td>False</td>\n",
       "      <td>False</td>\n",
       "    </tr>\n",
       "    <tr>\n",
       "      <th>2988</th>\n",
       "      <td>2</td>\n",
       "      <td>49.800000</td>\n",
       "      <td>0.0</td>\n",
       "      <td>41</td>\n",
       "      <td>857.266667</td>\n",
       "      <td>0.012195</td>\n",
       "      <td>0.024274</td>\n",
       "      <td>5.850665</td>\n",
       "      <td>Nov</td>\n",
       "      <td>0.0</td>\n",
       "      <td>2</td>\n",
       "      <td>2</td>\n",
       "      <td>1</td>\n",
       "      <td>1</td>\n",
       "      <td>Returning_Visitor</td>\n",
       "      <td>False</td>\n",
       "      <td>False</td>\n",
       "    </tr>\n",
       "    <tr>\n",
       "      <th>3237</th>\n",
       "      <td>5</td>\n",
       "      <td>73.800000</td>\n",
       "      <td>0.0</td>\n",
       "      <td>5</td>\n",
       "      <td>82.500000</td>\n",
       "      <td>NaN</td>\n",
       "      <td>0.028571</td>\n",
       "      <td>NaN</td>\n",
       "      <td>Aug</td>\n",
       "      <td>0.0</td>\n",
       "      <td>2</td>\n",
       "      <td>5</td>\n",
       "      <td>6</td>\n",
       "      <td>5</td>\n",
       "      <td>New_Visitor</td>\n",
       "      <td>False</td>\n",
       "      <td>False</td>\n",
       "    </tr>\n",
       "    <tr>\n",
       "      <th>3486</th>\n",
       "      <td>0</td>\n",
       "      <td>0.000000</td>\n",
       "      <td>0.0</td>\n",
       "      <td>9</td>\n",
       "      <td>83.000000</td>\n",
       "      <td>0.044444</td>\n",
       "      <td>NaN</td>\n",
       "      <td>0.000000</td>\n",
       "      <td>May</td>\n",
       "      <td>0.6</td>\n",
       "      <td>2</td>\n",
       "      <td>2</td>\n",
       "      <td>1</td>\n",
       "      <td>2</td>\n",
       "      <td>Returning_Visitor</td>\n",
       "      <td>False</td>\n",
       "      <td>False</td>\n",
       "    </tr>\n",
       "  </tbody>\n",
       "</table>\n",
       "</div>"
      ],
      "text/plain": [
       "      Administrative  Administrative_Duration  Informational_Duration  ProductRelated  ProductRelated_Duration  BounceRates  ExitRates  PageValues Month  SpecialDay  OperatingSystems  Browser  Region  TrafficType    new_VisitorType  Weekend  Revenue\n",
       "0                  1                21.250000                     0.0              92              2716.519048     0.006738   0.037885   23.738911   Nov         0.0                 2        2       3            2  Returning_Visitor     True    False\n",
       "249                0                 0.000000                     0.0              53               952.159820     0.015839   0.037802    0.000000   Jul         0.0                 3        2       8            1  Returning_Visitor     True    False\n",
       "498                2                56.400000                     0.0              72              2101.467925     0.006140   0.029987    0.000000   Aug         0.0                 1        1       2            2  Returning_Visitor    False    False\n",
       "747                9               160.000000                     0.0              48              3946.008333     0.007273   0.011515   20.323881   Mar         0.0                 2        6       1            8  Returning_Visitor     True     True\n",
       "996                2                67.500000                     0.0              11               294.000000     0.000000   0.009091    0.000000   Dec         NaN                 1        1       3            8  Returning_Visitor     True    False\n",
       "1245               6                72.040000                   206.6              24               709.433333     0.007143   0.016667   15.709429   Aug         0.0                 2        2       2            2  Returning_Visitor    False     True\n",
       "1494               0                 0.000000                     0.0               5                41.000000     0.040000   0.080000    0.000000   Dec         0.0                 2        5       1            1  Returning_Visitor    False    False\n",
       "1743               0                 0.000000                     0.0              15               455.500000     0.000000        NaN    0.000000   May         0.0                 2       10       3            2        New_Visitor    False    False\n",
       "1992              10               164.500000                     3.0              61              2292.679762     0.000000        NaN    0.000000   Mar         0.0                 2        2       1            1  Returning_Visitor    False    False\n",
       "2241               9               122.000000                    87.0              50              1694.797619     0.008929   0.018155    0.000000   Mar         0.0                 1        1       1            3  Returning_Visitor     True    False\n",
       "2490               4                43.000000                     0.0              66              2544.053571     0.000000   0.015920   62.405762   Nov         0.0                 4        1       2            2  Returning_Visitor    False    False\n",
       "2739              17               626.493333                     0.0              76              1985.894203     0.015630   0.031102    0.000000   Oct         0.0                 2        2       1            1  Returning_Visitor    False    False\n",
       "2988               2                49.800000                     0.0              41               857.266667     0.012195   0.024274    5.850665   Nov         0.0                 2        2       1            1  Returning_Visitor    False    False\n",
       "3237               5                73.800000                     0.0               5                82.500000          NaN   0.028571         NaN   Aug         0.0                 2        5       6            5        New_Visitor    False    False\n",
       "3486               0                 0.000000                     0.0               9                83.000000     0.044444        NaN    0.000000   May         0.6                 2        2       1            2  Returning_Visitor    False    False"
      ]
     },
     "execution_count": 147,
     "metadata": {},
     "output_type": "execute_result"
    }
   ],
   "source": [
    "df.iloc[frange, :]"
   ]
  },
  {
   "cell_type": "code",
   "execution_count": 148,
   "id": "a9b254b2-1376-488d-9be9-4b136b38327b",
   "metadata": {},
   "outputs": [
    {
     "data": {
      "text/html": [
       "<div>\n",
       "<style scoped>\n",
       "    .dataframe tbody tr th:only-of-type {\n",
       "        vertical-align: middle;\n",
       "    }\n",
       "\n",
       "    .dataframe tbody tr th {\n",
       "        vertical-align: top;\n",
       "    }\n",
       "\n",
       "    .dataframe thead th {\n",
       "        text-align: right;\n",
       "    }\n",
       "</style>\n",
       "<table border=\"1\" class=\"dataframe\">\n",
       "  <thead>\n",
       "    <tr style=\"text-align: right;\">\n",
       "      <th></th>\n",
       "      <th>Month</th>\n",
       "      <th>ExitRates</th>\n",
       "      <th>SpecialDay</th>\n",
       "    </tr>\n",
       "  </thead>\n",
       "  <tbody>\n",
       "    <tr>\n",
       "      <th>0</th>\n",
       "      <td>Nov</td>\n",
       "      <td>0.037885</td>\n",
       "      <td>0.0</td>\n",
       "    </tr>\n",
       "    <tr>\n",
       "      <th>249</th>\n",
       "      <td>Jul</td>\n",
       "      <td>0.037802</td>\n",
       "      <td>0.0</td>\n",
       "    </tr>\n",
       "    <tr>\n",
       "      <th>498</th>\n",
       "      <td>Aug</td>\n",
       "      <td>0.029987</td>\n",
       "      <td>0.0</td>\n",
       "    </tr>\n",
       "    <tr>\n",
       "      <th>747</th>\n",
       "      <td>Mar</td>\n",
       "      <td>0.011515</td>\n",
       "      <td>0.0</td>\n",
       "    </tr>\n",
       "    <tr>\n",
       "      <th>996</th>\n",
       "      <td>Dec</td>\n",
       "      <td>0.009091</td>\n",
       "      <td>NaN</td>\n",
       "    </tr>\n",
       "    <tr>\n",
       "      <th>1245</th>\n",
       "      <td>Aug</td>\n",
       "      <td>0.016667</td>\n",
       "      <td>0.0</td>\n",
       "    </tr>\n",
       "    <tr>\n",
       "      <th>1494</th>\n",
       "      <td>Dec</td>\n",
       "      <td>0.080000</td>\n",
       "      <td>0.0</td>\n",
       "    </tr>\n",
       "    <tr>\n",
       "      <th>1743</th>\n",
       "      <td>May</td>\n",
       "      <td>NaN</td>\n",
       "      <td>0.0</td>\n",
       "    </tr>\n",
       "    <tr>\n",
       "      <th>1992</th>\n",
       "      <td>Mar</td>\n",
       "      <td>NaN</td>\n",
       "      <td>0.0</td>\n",
       "    </tr>\n",
       "    <tr>\n",
       "      <th>2241</th>\n",
       "      <td>Mar</td>\n",
       "      <td>0.018155</td>\n",
       "      <td>0.0</td>\n",
       "    </tr>\n",
       "    <tr>\n",
       "      <th>2490</th>\n",
       "      <td>Nov</td>\n",
       "      <td>0.015920</td>\n",
       "      <td>0.0</td>\n",
       "    </tr>\n",
       "    <tr>\n",
       "      <th>2739</th>\n",
       "      <td>Oct</td>\n",
       "      <td>0.031102</td>\n",
       "      <td>0.0</td>\n",
       "    </tr>\n",
       "    <tr>\n",
       "      <th>2988</th>\n",
       "      <td>Nov</td>\n",
       "      <td>0.024274</td>\n",
       "      <td>0.0</td>\n",
       "    </tr>\n",
       "    <tr>\n",
       "      <th>3237</th>\n",
       "      <td>Aug</td>\n",
       "      <td>0.028571</td>\n",
       "      <td>0.0</td>\n",
       "    </tr>\n",
       "    <tr>\n",
       "      <th>3486</th>\n",
       "      <td>May</td>\n",
       "      <td>NaN</td>\n",
       "      <td>0.6</td>\n",
       "    </tr>\n",
       "  </tbody>\n",
       "</table>\n",
       "</div>"
      ],
      "text/plain": [
       "     Month  ExitRates  SpecialDay\n",
       "0      Nov   0.037885         0.0\n",
       "249    Jul   0.037802         0.0\n",
       "498    Aug   0.029987         0.0\n",
       "747    Mar   0.011515         0.0\n",
       "996    Dec   0.009091         NaN\n",
       "1245   Aug   0.016667         0.0\n",
       "1494   Dec   0.080000         0.0\n",
       "1743   May        NaN         0.0\n",
       "1992   Mar        NaN         0.0\n",
       "2241   Mar   0.018155         0.0\n",
       "2490   Nov   0.015920         0.0\n",
       "2739   Oct   0.031102         0.0\n",
       "2988   Nov   0.024274         0.0\n",
       "3237   Aug   0.028571         0.0\n",
       "3486   May        NaN         0.6"
      ]
     },
     "execution_count": 148,
     "metadata": {},
     "output_type": "execute_result"
    }
   ],
   "source": [
    "df.iloc[frange, :][cols]"
   ]
  },
  {
   "cell_type": "code",
   "execution_count": 149,
   "id": "9740d76e-4391-405b-92d9-46f6aa58d8a3",
   "metadata": {},
   "outputs": [
    {
     "name": "stdout",
     "output_type": "stream",
     "text": [
      "Month              Nov\n",
      "ExitRates     0.037885\n",
      "SpecialDay         0.0\n",
      "Name: 0, dtype: object\n",
      "Month              Jul\n",
      "ExitRates     0.037802\n",
      "SpecialDay         0.0\n",
      "Name: 249, dtype: object\n",
      "Month              Aug\n",
      "ExitRates     0.029987\n",
      "SpecialDay         0.0\n",
      "Name: 498, dtype: object\n",
      "Month              Mar\n",
      "ExitRates     0.011515\n",
      "SpecialDay         0.0\n",
      "Name: 747, dtype: object\n",
      "Month              Dec\n",
      "ExitRates     0.009091\n",
      "SpecialDay         NaN\n",
      "Name: 996, dtype: object\n",
      "Month              Aug\n",
      "ExitRates     0.016667\n",
      "SpecialDay         0.0\n",
      "Name: 1245, dtype: object\n",
      "Month          Dec\n",
      "ExitRates     0.08\n",
      "SpecialDay     0.0\n",
      "Name: 1494, dtype: object\n",
      "Month         May\n",
      "ExitRates     NaN\n",
      "SpecialDay    0.0\n",
      "Name: 1743, dtype: object\n",
      "Month         Mar\n",
      "ExitRates     NaN\n",
      "SpecialDay    0.0\n",
      "Name: 1992, dtype: object\n",
      "Month              Mar\n",
      "ExitRates     0.018155\n",
      "SpecialDay         0.0\n",
      "Name: 2241, dtype: object\n",
      "Month             Nov\n",
      "ExitRates     0.01592\n",
      "SpecialDay        0.0\n",
      "Name: 2490, dtype: object\n",
      "Month              Oct\n",
      "ExitRates     0.031102\n",
      "SpecialDay         0.0\n",
      "Name: 2739, dtype: object\n",
      "Month              Nov\n",
      "ExitRates     0.024274\n",
      "SpecialDay         0.0\n",
      "Name: 2988, dtype: object\n",
      "Month              Aug\n",
      "ExitRates     0.028571\n",
      "SpecialDay         0.0\n",
      "Name: 3237, dtype: object\n"
     ]
    }
   ],
   "source": [
    "ds_length = len(df)\n",
    "frequency = 249\n",
    "loopies = ds_length/frequency\n",
    "loopint = int(loopies)\n",
    "\n",
    "for i in range(0, loopint):\n",
    "  row = df.loc[i*frequency, ['Month', 'ExitRates', 'SpecialDay']]\n",
    "  print(row)\n"
   ]
  },
  {
   "cell_type": "markdown",
   "id": "a5e59dc4-e4ab-4c09-a4c0-1b4ff7cc5ab5",
   "metadata": {},
   "source": [
    "## 11.   Scales and transfer the values of all of the numerical features in the range of 0 to 5, using min-max normalization method. Then output the first 10 lines of the dataframe. "
   ]
  },
  {
   "cell_type": "code",
   "execution_count": 150,
   "id": "1c9b1d31-61be-428b-97e9-c995e53aaf0e",
   "metadata": {},
   "outputs": [
    {
     "name": "stdout",
     "output_type": "stream",
     "text": [
      "<class 'pandas.core.frame.DataFrame'>\n",
      "RangeIndex: 3699 entries, 0 to 3698\n",
      "Data columns (total 17 columns):\n",
      " #   Column                   Non-Null Count  Dtype  \n",
      "---  ------                   --------------  -----  \n",
      " 0   Administrative           3699 non-null   int64  \n",
      " 1   Administrative_Duration  3699 non-null   float64\n",
      " 2   Informational_Duration   3493 non-null   float64\n",
      " 3   ProductRelated           3699 non-null   int64  \n",
      " 4   ProductRelated_Duration  3499 non-null   float64\n",
      " 5   BounceRates              3528 non-null   float64\n",
      " 6   ExitRates                3517 non-null   float64\n",
      " 7   PageValues               3538 non-null   float64\n",
      " 8   Month                    3699 non-null   object \n",
      " 9   SpecialDay               3509 non-null   float64\n",
      " 10  OperatingSystems         3699 non-null   int64  \n",
      " 11  Browser                  3699 non-null   int64  \n",
      " 12  Region                   3699 non-null   int64  \n",
      " 13  TrafficType              3699 non-null   int64  \n",
      " 14  new_VisitorType          3699 non-null   object \n",
      " 15  Weekend                  3699 non-null   bool   \n",
      " 16  Revenue                  3699 non-null   bool   \n",
      "dtypes: bool(2), float64(7), int64(6), object(2)\n",
      "memory usage: 440.8+ KB\n"
     ]
    }
   ],
   "source": [
    "df.info()"
   ]
  },
  {
   "cell_type": "code",
   "execution_count": 151,
   "id": "8f92f0fa-2188-4e69-897d-62e843c54e9c",
   "metadata": {},
   "outputs": [
    {
     "data": {
      "text/plain": [
       "True"
      ]
     },
     "execution_count": 151,
     "metadata": {},
     "output_type": "execute_result"
    }
   ],
   "source": [
    "import numpy as np\n",
    "df['Administrative'].dtype == np.int64"
   ]
  },
  {
   "cell_type": "code",
   "execution_count": 152,
   "id": "dc285d48-2c16-40e1-be6b-8523f1e13725",
   "metadata": {},
   "outputs": [
    {
     "name": "stdout",
     "output_type": "stream",
     "text": [
      "Administrative\n",
      "Administrative_Duration\n",
      "Informational_Duration\n",
      "ProductRelated\n",
      "ProductRelated_Duration\n",
      "BounceRates\n",
      "ExitRates\n",
      "PageValues\n",
      "SpecialDay\n",
      "OperatingSystems\n",
      "Browser\n",
      "Region\n",
      "TrafficType\n"
     ]
    }
   ],
   "source": [
    "for col in df:\n",
    "    if (df[col].dtype == np.int64 or df[col].dtype == np.float64):\n",
    "        print(col)"
   ]
  },
  {
   "cell_type": "code",
   "execution_count": 153,
   "id": "be1e7e8b-1355-478e-a501-68423f5ede54",
   "metadata": {},
   "outputs": [
    {
     "data": {
      "text/plain": [
       "count    3699.000000\n",
       "mean        2.366045\n",
       "std         3.410066\n",
       "min         0.000000\n",
       "25%         0.000000\n",
       "50%         1.000000\n",
       "75%         4.000000\n",
       "max        23.000000\n",
       "Name: Administrative, dtype: float64"
      ]
     },
     "execution_count": 153,
     "metadata": {},
     "output_type": "execute_result"
    }
   ],
   "source": [
    "df['Administrative'].describe()"
   ]
  },
  {
   "cell_type": "code",
   "execution_count": 154,
   "id": "9a3e7536-e6b5-4f1e-9b81-920bdb5e5ff1",
   "metadata": {},
   "outputs": [
    {
     "data": {
      "text/plain": [
       "0    1\n",
       "1    2\n",
       "2    3\n",
       "3    1\n",
       "4    5\n",
       "Name: Administrative, dtype: int64"
      ]
     },
     "execution_count": 154,
     "metadata": {},
     "output_type": "execute_result"
    }
   ],
   "source": [
    "df['Administrative'].head()"
   ]
  },
  {
   "cell_type": "code",
   "execution_count": 155,
   "id": "1dcfe2ed-e645-4ef7-b793-140893856ecd",
   "metadata": {},
   "outputs": [
    {
     "data": {
      "text/plain": [
       "0    0\n",
       "1    1\n",
       "2    2\n",
       "3    0\n",
       "4    4\n",
       "Name: Administrative, dtype: int64"
      ]
     },
     "execution_count": 155,
     "metadata": {},
     "output_type": "execute_result"
    }
   ],
   "source": [
    "x = df['Administrative'] - 1\n",
    "x.head()"
   ]
  },
  {
   "cell_type": "code",
   "execution_count": 156,
   "id": "200a5c8d-0786-4986-ba4a-5a516ab56b52",
   "metadata": {},
   "outputs": [
    {
     "data": {
      "text/plain": [
       "0     2\n",
       "1     4\n",
       "2     6\n",
       "3     2\n",
       "4    10\n",
       "Name: Administrative, dtype: int64"
      ]
     },
     "execution_count": 156,
     "metadata": {},
     "output_type": "execute_result"
    }
   ],
   "source": [
    "x = df['Administrative'] *2\n",
    "x.head()"
   ]
  },
  {
   "cell_type": "code",
   "execution_count": 157,
   "id": "d3a6ff9f-f58a-4f1a-bd8e-4e23d9b1c46b",
   "metadata": {},
   "outputs": [],
   "source": [
    "for col in df:\n",
    "    if (df[col].dtype == np.int64 or df[col].dtype == np.float64):\n",
    "        mn = df[col].min()\n",
    "        mx = df[col].max()\n",
    "        df[col] = (df[col]-mn)/(mx-mn)"
   ]
  },
  {
   "cell_type": "code",
   "execution_count": 158,
   "id": "b2fec585-4cb6-44dd-ae6f-419b939d00f8",
   "metadata": {},
   "outputs": [
    {
     "data": {
      "text/html": [
       "<div>\n",
       "<style scoped>\n",
       "    .dataframe tbody tr th:only-of-type {\n",
       "        vertical-align: middle;\n",
       "    }\n",
       "\n",
       "    .dataframe tbody tr th {\n",
       "        vertical-align: top;\n",
       "    }\n",
       "\n",
       "    .dataframe thead th {\n",
       "        text-align: right;\n",
       "    }\n",
       "</style>\n",
       "<table border=\"1\" class=\"dataframe\">\n",
       "  <thead>\n",
       "    <tr style=\"text-align: right;\">\n",
       "      <th></th>\n",
       "      <th>Administrative</th>\n",
       "      <th>Administrative_Duration</th>\n",
       "      <th>Informational_Duration</th>\n",
       "      <th>ProductRelated</th>\n",
       "      <th>ProductRelated_Duration</th>\n",
       "      <th>BounceRates</th>\n",
       "      <th>ExitRates</th>\n",
       "      <th>PageValues</th>\n",
       "      <th>Month</th>\n",
       "      <th>SpecialDay</th>\n",
       "      <th>OperatingSystems</th>\n",
       "      <th>Browser</th>\n",
       "      <th>Region</th>\n",
       "      <th>TrafficType</th>\n",
       "      <th>new_VisitorType</th>\n",
       "      <th>Weekend</th>\n",
       "      <th>Revenue</th>\n",
       "    </tr>\n",
       "  </thead>\n",
       "  <tbody>\n",
       "    <tr>\n",
       "      <th>0</th>\n",
       "      <td>0.043478</td>\n",
       "      <td>0.009943</td>\n",
       "      <td>0.0</td>\n",
       "      <td>0.209091</td>\n",
       "      <td>0.149491</td>\n",
       "      <td>0.033688</td>\n",
       "      <td>0.189426</td>\n",
       "      <td>0.065620</td>\n",
       "      <td>Nov</td>\n",
       "      <td>0.0</td>\n",
       "      <td>0.142857</td>\n",
       "      <td>0.083333</td>\n",
       "      <td>0.250</td>\n",
       "      <td>0.052632</td>\n",
       "      <td>Returning_Visitor</td>\n",
       "      <td>True</td>\n",
       "      <td>False</td>\n",
       "    </tr>\n",
       "    <tr>\n",
       "      <th>1</th>\n",
       "      <td>0.086957</td>\n",
       "      <td>0.013195</td>\n",
       "      <td>0.0</td>\n",
       "      <td>0.259091</td>\n",
       "      <td>0.173955</td>\n",
       "      <td>0.088496</td>\n",
       "      <td>0.212881</td>\n",
       "      <td>0.000000</td>\n",
       "      <td>Aug</td>\n",
       "      <td>0.0</td>\n",
       "      <td>0.142857</td>\n",
       "      <td>0.083333</td>\n",
       "      <td>0.125</td>\n",
       "      <td>0.000000</td>\n",
       "      <td>Returning_Visitor</td>\n",
       "      <td>False</td>\n",
       "      <td>False</td>\n",
       "    </tr>\n",
       "    <tr>\n",
       "      <th>2</th>\n",
       "      <td>0.130435</td>\n",
       "      <td>0.066913</td>\n",
       "      <td>0.0</td>\n",
       "      <td>0.038636</td>\n",
       "      <td>0.018261</td>\n",
       "      <td>0.166667</td>\n",
       "      <td>0.256173</td>\n",
       "      <td>0.000000</td>\n",
       "      <td>Dec</td>\n",
       "      <td>0.0</td>\n",
       "      <td>0.142857</td>\n",
       "      <td>0.083333</td>\n",
       "      <td>0.000</td>\n",
       "      <td>0.000000</td>\n",
       "      <td>Returning_Visitor</td>\n",
       "      <td>True</td>\n",
       "      <td>False</td>\n",
       "    </tr>\n",
       "    <tr>\n",
       "      <th>3</th>\n",
       "      <td>0.043478</td>\n",
       "      <td>0.011932</td>\n",
       "      <td>0.0</td>\n",
       "      <td>0.097727</td>\n",
       "      <td>0.050310</td>\n",
       "      <td>0.068182</td>\n",
       "      <td>0.128815</td>\n",
       "      <td>NaN</td>\n",
       "      <td>Nov</td>\n",
       "      <td>NaN</td>\n",
       "      <td>0.000000</td>\n",
       "      <td>0.000000</td>\n",
       "      <td>0.000</td>\n",
       "      <td>0.000000</td>\n",
       "      <td>Returning_Visitor</td>\n",
       "      <td>False</td>\n",
       "      <td>False</td>\n",
       "    </tr>\n",
       "    <tr>\n",
       "      <th>4</th>\n",
       "      <td>0.217391</td>\n",
       "      <td>0.021768</td>\n",
       "      <td>0.0</td>\n",
       "      <td>0.302273</td>\n",
       "      <td>0.123759</td>\n",
       "      <td>0.060390</td>\n",
       "      <td>0.146748</td>\n",
       "      <td>0.017619</td>\n",
       "      <td>Jul</td>\n",
       "      <td>0.0</td>\n",
       "      <td>0.000000</td>\n",
       "      <td>0.000000</td>\n",
       "      <td>0.000</td>\n",
       "      <td>0.157895</td>\n",
       "      <td>Returning_Visitor</td>\n",
       "      <td>False</td>\n",
       "      <td>True</td>\n",
       "    </tr>\n",
       "    <tr>\n",
       "      <th>5</th>\n",
       "      <td>0.000000</td>\n",
       "      <td>0.000000</td>\n",
       "      <td>0.0</td>\n",
       "      <td>0.020455</td>\n",
       "      <td>0.021352</td>\n",
       "      <td>0.333333</td>\n",
       "      <td>0.444444</td>\n",
       "      <td>0.000000</td>\n",
       "      <td>Mar</td>\n",
       "      <td>NaN</td>\n",
       "      <td>0.285714</td>\n",
       "      <td>0.083333</td>\n",
       "      <td>0.125</td>\n",
       "      <td>0.000000</td>\n",
       "      <td>Returning_Visitor</td>\n",
       "      <td>False</td>\n",
       "      <td>False</td>\n",
       "    </tr>\n",
       "    <tr>\n",
       "      <th>6</th>\n",
       "      <td>0.000000</td>\n",
       "      <td>0.000000</td>\n",
       "      <td>0.0</td>\n",
       "      <td>0.006818</td>\n",
       "      <td>0.003907</td>\n",
       "      <td>0.500000</td>\n",
       "      <td>0.500000</td>\n",
       "      <td>0.000000</td>\n",
       "      <td>May</td>\n",
       "      <td>0.0</td>\n",
       "      <td>0.285714</td>\n",
       "      <td>0.083333</td>\n",
       "      <td>0.625</td>\n",
       "      <td>0.631579</td>\n",
       "      <td>Returning_Visitor</td>\n",
       "      <td>False</td>\n",
       "      <td>False</td>\n",
       "    </tr>\n",
       "    <tr>\n",
       "      <th>7</th>\n",
       "      <td>0.130435</td>\n",
       "      <td>0.051003</td>\n",
       "      <td>0.0</td>\n",
       "      <td>0.070455</td>\n",
       "      <td>0.171502</td>\n",
       "      <td>0.000000</td>\n",
       "      <td>0.026042</td>\n",
       "      <td>NaN</td>\n",
       "      <td>Dec</td>\n",
       "      <td>NaN</td>\n",
       "      <td>0.285714</td>\n",
       "      <td>0.083333</td>\n",
       "      <td>0.000</td>\n",
       "      <td>0.473684</td>\n",
       "      <td>Returning_Visitor</td>\n",
       "      <td>False</td>\n",
       "      <td>True</td>\n",
       "    </tr>\n",
       "    <tr>\n",
       "      <th>8</th>\n",
       "      <td>0.217391</td>\n",
       "      <td>0.046324</td>\n",
       "      <td>0.0</td>\n",
       "      <td>0.079545</td>\n",
       "      <td>0.031532</td>\n",
       "      <td>0.000000</td>\n",
       "      <td>NaN</td>\n",
       "      <td>0.026529</td>\n",
       "      <td>May</td>\n",
       "      <td>NaN</td>\n",
       "      <td>0.142857</td>\n",
       "      <td>0.083333</td>\n",
       "      <td>0.000</td>\n",
       "      <td>0.157895</td>\n",
       "      <td>Returning_Visitor</td>\n",
       "      <td>False</td>\n",
       "      <td>False</td>\n",
       "    </tr>\n",
       "    <tr>\n",
       "      <th>9</th>\n",
       "      <td>0.173913</td>\n",
       "      <td>0.030181</td>\n",
       "      <td>0.0</td>\n",
       "      <td>0.063636</td>\n",
       "      <td>0.046904</td>\n",
       "      <td>0.068966</td>\n",
       "      <td>0.122742</td>\n",
       "      <td>0.000000</td>\n",
       "      <td>May</td>\n",
       "      <td>0.0</td>\n",
       "      <td>0.142857</td>\n",
       "      <td>0.083333</td>\n",
       "      <td>0.000</td>\n",
       "      <td>0.315789</td>\n",
       "      <td>Returning_Visitor</td>\n",
       "      <td>True</td>\n",
       "      <td>False</td>\n",
       "    </tr>\n",
       "  </tbody>\n",
       "</table>\n",
       "</div>"
      ],
      "text/plain": [
       "   Administrative  Administrative_Duration  Informational_Duration  ProductRelated  ProductRelated_Duration  BounceRates  ExitRates  PageValues Month  SpecialDay  OperatingSystems   Browser  Region  TrafficType    new_VisitorType  Weekend  Revenue\n",
       "0        0.043478                 0.009943                     0.0        0.209091                 0.149491     0.033688   0.189426    0.065620   Nov         0.0          0.142857  0.083333   0.250     0.052632  Returning_Visitor     True    False\n",
       "1        0.086957                 0.013195                     0.0        0.259091                 0.173955     0.088496   0.212881    0.000000   Aug         0.0          0.142857  0.083333   0.125     0.000000  Returning_Visitor    False    False\n",
       "2        0.130435                 0.066913                     0.0        0.038636                 0.018261     0.166667   0.256173    0.000000   Dec         0.0          0.142857  0.083333   0.000     0.000000  Returning_Visitor     True    False\n",
       "3        0.043478                 0.011932                     0.0        0.097727                 0.050310     0.068182   0.128815         NaN   Nov         NaN          0.000000  0.000000   0.000     0.000000  Returning_Visitor    False    False\n",
       "4        0.217391                 0.021768                     0.0        0.302273                 0.123759     0.060390   0.146748    0.017619   Jul         0.0          0.000000  0.000000   0.000     0.157895  Returning_Visitor    False     True\n",
       "5        0.000000                 0.000000                     0.0        0.020455                 0.021352     0.333333   0.444444    0.000000   Mar         NaN          0.285714  0.083333   0.125     0.000000  Returning_Visitor    False    False\n",
       "6        0.000000                 0.000000                     0.0        0.006818                 0.003907     0.500000   0.500000    0.000000   May         0.0          0.285714  0.083333   0.625     0.631579  Returning_Visitor    False    False\n",
       "7        0.130435                 0.051003                     0.0        0.070455                 0.171502     0.000000   0.026042         NaN   Dec         NaN          0.285714  0.083333   0.000     0.473684  Returning_Visitor    False     True\n",
       "8        0.217391                 0.046324                     0.0        0.079545                 0.031532     0.000000        NaN    0.026529   May         NaN          0.142857  0.083333   0.000     0.157895  Returning_Visitor    False    False\n",
       "9        0.173913                 0.030181                     0.0        0.063636                 0.046904     0.068966   0.122742    0.000000   May         0.0          0.142857  0.083333   0.000     0.315789  Returning_Visitor     True    False"
      ]
     },
     "execution_count": 158,
     "metadata": {},
     "output_type": "execute_result"
    }
   ],
   "source": [
    "df.head(10)"
   ]
  },
  {
   "cell_type": "markdown",
   "id": "51b1c39a-f705-4cbf-8af0-259aabfb95d1",
   "metadata": {},
   "source": [
    "### Musterlösung"
   ]
  },
  {
   "cell_type": "code",
   "execution_count": 159,
   "id": "730aab92-31e0-4c31-bf41-7acfcfc6b814",
   "metadata": {
    "colab": {
     "base_uri": "https://localhost:8080/",
     "height": 204
    },
    "id": "Lm2WYhMUPQX1",
    "outputId": "d7644e51-58b9-43bb-cefb-4d965d1fb193"
   },
   "outputs": [
    {
     "data": {
      "text/html": [
       "<div>\n",
       "<style scoped>\n",
       "    .dataframe tbody tr th:only-of-type {\n",
       "        vertical-align: middle;\n",
       "    }\n",
       "\n",
       "    .dataframe tbody tr th {\n",
       "        vertical-align: top;\n",
       "    }\n",
       "\n",
       "    .dataframe thead th {\n",
       "        text-align: right;\n",
       "    }\n",
       "</style>\n",
       "<table border=\"1\" class=\"dataframe\">\n",
       "  <thead>\n",
       "    <tr style=\"text-align: right;\">\n",
       "      <th></th>\n",
       "      <th>0</th>\n",
       "      <th>1</th>\n",
       "      <th>2</th>\n",
       "      <th>3</th>\n",
       "      <th>4</th>\n",
       "      <th>5</th>\n",
       "      <th>6</th>\n",
       "      <th>7</th>\n",
       "      <th>8</th>\n",
       "      <th>9</th>\n",
       "      <th>10</th>\n",
       "      <th>11</th>\n",
       "      <th>12</th>\n",
       "    </tr>\n",
       "  </thead>\n",
       "  <tbody>\n",
       "    <tr>\n",
       "      <th>0</th>\n",
       "      <td>0.043478</td>\n",
       "      <td>0.009943</td>\n",
       "      <td>0.0</td>\n",
       "      <td>0.209091</td>\n",
       "      <td>0.149491</td>\n",
       "      <td>0.033688</td>\n",
       "      <td>0.189426</td>\n",
       "      <td>0.065620</td>\n",
       "      <td>0.0</td>\n",
       "      <td>0.142857</td>\n",
       "      <td>0.083333</td>\n",
       "      <td>0.250</td>\n",
       "      <td>0.052632</td>\n",
       "    </tr>\n",
       "    <tr>\n",
       "      <th>1</th>\n",
       "      <td>0.086957</td>\n",
       "      <td>0.013195</td>\n",
       "      <td>0.0</td>\n",
       "      <td>0.259091</td>\n",
       "      <td>0.173955</td>\n",
       "      <td>0.088496</td>\n",
       "      <td>0.212881</td>\n",
       "      <td>0.000000</td>\n",
       "      <td>0.0</td>\n",
       "      <td>0.142857</td>\n",
       "      <td>0.083333</td>\n",
       "      <td>0.125</td>\n",
       "      <td>0.000000</td>\n",
       "    </tr>\n",
       "    <tr>\n",
       "      <th>2</th>\n",
       "      <td>0.130435</td>\n",
       "      <td>0.066913</td>\n",
       "      <td>0.0</td>\n",
       "      <td>0.038636</td>\n",
       "      <td>0.018261</td>\n",
       "      <td>0.166667</td>\n",
       "      <td>0.256173</td>\n",
       "      <td>0.000000</td>\n",
       "      <td>0.0</td>\n",
       "      <td>0.142857</td>\n",
       "      <td>0.083333</td>\n",
       "      <td>0.000</td>\n",
       "      <td>0.000000</td>\n",
       "    </tr>\n",
       "    <tr>\n",
       "      <th>3</th>\n",
       "      <td>0.043478</td>\n",
       "      <td>0.011932</td>\n",
       "      <td>0.0</td>\n",
       "      <td>0.097727</td>\n",
       "      <td>0.050310</td>\n",
       "      <td>0.068182</td>\n",
       "      <td>0.128815</td>\n",
       "      <td>NaN</td>\n",
       "      <td>NaN</td>\n",
       "      <td>0.000000</td>\n",
       "      <td>0.000000</td>\n",
       "      <td>0.000</td>\n",
       "      <td>0.000000</td>\n",
       "    </tr>\n",
       "    <tr>\n",
       "      <th>4</th>\n",
       "      <td>0.217391</td>\n",
       "      <td>0.021768</td>\n",
       "      <td>0.0</td>\n",
       "      <td>0.302273</td>\n",
       "      <td>0.123759</td>\n",
       "      <td>0.060390</td>\n",
       "      <td>0.146748</td>\n",
       "      <td>0.017619</td>\n",
       "      <td>0.0</td>\n",
       "      <td>0.000000</td>\n",
       "      <td>0.000000</td>\n",
       "      <td>0.000</td>\n",
       "      <td>0.157895</td>\n",
       "    </tr>\n",
       "  </tbody>\n",
       "</table>\n",
       "</div>"
      ],
      "text/plain": [
       "         0         1    2         3         4         5         6         7    8         9         10     11        12\n",
       "0  0.043478  0.009943  0.0  0.209091  0.149491  0.033688  0.189426  0.065620  0.0  0.142857  0.083333  0.250  0.052632\n",
       "1  0.086957  0.013195  0.0  0.259091  0.173955  0.088496  0.212881  0.000000  0.0  0.142857  0.083333  0.125  0.000000\n",
       "2  0.130435  0.066913  0.0  0.038636  0.018261  0.166667  0.256173  0.000000  0.0  0.142857  0.083333  0.000  0.000000\n",
       "3  0.043478  0.011932  0.0  0.097727  0.050310  0.068182  0.128815       NaN  NaN  0.000000  0.000000  0.000  0.000000\n",
       "4  0.217391  0.021768  0.0  0.302273  0.123759  0.060390  0.146748  0.017619  0.0  0.000000  0.000000  0.000  0.157895"
      ]
     },
     "execution_count": 159,
     "metadata": {},
     "output_type": "execute_result"
    }
   ],
   "source": [
    "import numpy as np\n",
    "from sklearn import preprocessing\n",
    "\n",
    "float_arr = df.select_dtypes(include = np.number).values.astype(float)\n",
    "min_max_scale = preprocessing.MinMaxScaler()\n",
    "scaled = min_max_scale.fit_transform(float_arr)\n",
    "min_max_scaled_df = pd.DataFrame(scaled)\n",
    "min_max_scaled_df.head()\n",
    "\n"
   ]
  },
  {
   "cell_type": "markdown",
   "id": "79a25724-5e49-4882-bb50-36c96b699cb6",
   "metadata": {},
   "source": [
    "## 12.   Print out the head name and variance of the numerical feature with highest variance"
   ]
  },
  {
   "cell_type": "code",
   "execution_count": 160,
   "id": "6731e748-0c68-4a56-a935-192897ff2d94",
   "metadata": {},
   "outputs": [
    {
     "name": "stdout",
     "output_type": "stream",
     "text": [
      "<class 'pandas.core.frame.DataFrame'>\n",
      "RangeIndex: 3699 entries, 0 to 3698\n",
      "Data columns (total 17 columns):\n",
      " #   Column                   Non-Null Count  Dtype  \n",
      "---  ------                   --------------  -----  \n",
      " 0   Administrative           3699 non-null   float64\n",
      " 1   Administrative_Duration  3699 non-null   float64\n",
      " 2   Informational_Duration   3493 non-null   float64\n",
      " 3   ProductRelated           3699 non-null   float64\n",
      " 4   ProductRelated_Duration  3499 non-null   float64\n",
      " 5   BounceRates              3528 non-null   float64\n",
      " 6   ExitRates                3517 non-null   float64\n",
      " 7   PageValues               3538 non-null   float64\n",
      " 8   Month                    3699 non-null   object \n",
      " 9   SpecialDay               3509 non-null   float64\n",
      " 10  OperatingSystems         3699 non-null   float64\n",
      " 11  Browser                  3699 non-null   float64\n",
      " 12  Region                   3699 non-null   float64\n",
      " 13  TrafficType              3699 non-null   float64\n",
      " 14  new_VisitorType          3699 non-null   object \n",
      " 15  Weekend                  3699 non-null   bool   \n",
      " 16  Revenue                  3699 non-null   bool   \n",
      "dtypes: bool(2), float64(13), object(2)\n",
      "memory usage: 440.8+ KB\n"
     ]
    }
   ],
   "source": [
    "df.info()"
   ]
  },
  {
   "cell_type": "code",
   "execution_count": 161,
   "id": "5cab5465-6ef9-47b5-9856-35b12ef3911b",
   "metadata": {},
   "outputs": [
    {
     "data": {
      "text/plain": [
       "Administrative             0.021982\n",
       "Administrative_Duration    0.006366\n",
       "Informational_Duration     0.004884\n",
       "ProductRelated             0.009850\n",
       "ProductRelated_Duration    0.009247\n",
       "BounceRates                0.059067\n",
       "ExitRates                  0.058493\n",
       "PageValues                 0.002885\n",
       "SpecialDay                 0.042701\n",
       "OperatingSystems           0.017634\n",
       "Browser                    0.019301\n",
       "Region                     0.088783\n",
       "TrafficType                0.045239\n",
       "Weekend                    0.178055\n",
       "Revenue                    0.136297\n",
       "dtype: float64"
      ]
     },
     "execution_count": 161,
     "metadata": {},
     "output_type": "execute_result"
    }
   ],
   "source": [
    "v = df.var()\n",
    "v"
   ]
  },
  {
   "cell_type": "code",
   "execution_count": 162,
   "id": "2dfeaf2f-931b-4438-851d-ab10e7768a66",
   "metadata": {},
   "outputs": [
    {
     "data": {
      "text/plain": [
       "0.17805478831561186"
      ]
     },
     "execution_count": 162,
     "metadata": {},
     "output_type": "execute_result"
    }
   ],
   "source": [
    "v.max()"
   ]
  },
  {
   "cell_type": "code",
   "execution_count": 163,
   "id": "295dd8c3-bb68-4579-8367-a1c7eda718c8",
   "metadata": {},
   "outputs": [
    {
     "data": {
      "text/plain": [
       "pandas.core.series.Series"
      ]
     },
     "execution_count": 163,
     "metadata": {},
     "output_type": "execute_result"
    }
   ],
   "source": [
    "type(v)"
   ]
  },
  {
   "cell_type": "code",
   "execution_count": 164,
   "id": "fac78669-b691-4591-8abc-3725451048db",
   "metadata": {},
   "outputs": [
    {
     "data": {
      "text/plain": [
       "Administrative             False\n",
       "Administrative_Duration    False\n",
       "Informational_Duration     False\n",
       "ProductRelated             False\n",
       "ProductRelated_Duration    False\n",
       "BounceRates                False\n",
       "ExitRates                  False\n",
       "PageValues                 False\n",
       "SpecialDay                 False\n",
       "OperatingSystems           False\n",
       "Browser                    False\n",
       "Region                     False\n",
       "TrafficType                False\n",
       "Weekend                     True\n",
       "Revenue                    False\n",
       "dtype: bool"
      ]
     },
     "execution_count": 164,
     "metadata": {},
     "output_type": "execute_result"
    }
   ],
   "source": [
    "cond = v == v.max()\n",
    "cond"
   ]
  },
  {
   "cell_type": "code",
   "execution_count": 165,
   "id": "42b3c616-ab4d-48be-93c7-4bc9eb1a7d33",
   "metadata": {},
   "outputs": [
    {
     "data": {
      "text/plain": [
       "['Weekend']"
      ]
     },
     "execution_count": 165,
     "metadata": {},
     "output_type": "execute_result"
    }
   ],
   "source": [
    "v[cond].index.to_list()"
   ]
  },
  {
   "cell_type": "code",
   "execution_count": 166,
   "id": "1d2483f4-5369-4865-99de-bf7862cede59",
   "metadata": {},
   "outputs": [
    {
     "data": {
      "text/plain": [
       "'Weekend'"
      ]
     },
     "execution_count": 166,
     "metadata": {},
     "output_type": "execute_result"
    }
   ],
   "source": [
    "list(v[cond].index)[0]"
   ]
  },
  {
   "cell_type": "code",
   "execution_count": 167,
   "id": "0ca33764-66d9-4d91-9162-3acccce2c3db",
   "metadata": {},
   "outputs": [
    {
     "data": {
      "text/plain": [
       "'Weekend'"
      ]
     },
     "execution_count": 167,
     "metadata": {},
     "output_type": "execute_result"
    }
   ],
   "source": [
    "idx = list(v[cond].index)[0]\n",
    "idx"
   ]
  },
  {
   "cell_type": "code",
   "execution_count": 168,
   "id": "ed83b37e-dc59-4fbe-b865-b60e287a79a7",
   "metadata": {},
   "outputs": [
    {
     "name": "stdout",
     "output_type": "stream",
     "text": [
      "Weekend 0.17805478831561186\n"
     ]
    }
   ],
   "source": [
    "print(idx, v.loc[idx])"
   ]
  },
  {
   "cell_type": "markdown",
   "id": "515ff7b8-78d7-4c3a-b6da-1117d8d43f0b",
   "metadata": {},
   "source": [
    "### Musterlösung"
   ]
  },
  {
   "cell_type": "code",
   "execution_count": 169,
   "id": "2663aedf-05bc-40f9-8f80-eb5ee61a1cc3",
   "metadata": {},
   "outputs": [
    {
     "name": "stdout",
     "output_type": "stream",
     "text": [
      "0.17805478831561186\n",
      "Administrative             0.021982\n",
      "Administrative_Duration    0.006366\n",
      "Informational_Duration     0.004884\n",
      "ProductRelated             0.009850\n",
      "ProductRelated_Duration    0.009247\n",
      "BounceRates                0.059067\n",
      "ExitRates                  0.058493\n",
      "PageValues                 0.002885\n",
      "SpecialDay                 0.042701\n",
      "OperatingSystems           0.017634\n",
      "Browser                    0.019301\n",
      "Region                     0.088783\n",
      "TrafficType                0.045239\n",
      "Weekend                    0.178055\n",
      "Revenue                    0.136297\n",
      "dtype: float64\n"
     ]
    }
   ],
   "source": [
    "dataset = df\n",
    "print(dataset.var().max())\n",
    "print(dataset.var())"
   ]
  },
  {
   "cell_type": "markdown",
   "id": "087b1524-2f3a-4d2f-95b5-e93d2108e414",
   "metadata": {},
   "source": [
    "## 13.   Use the “apply” function (or an equivalent function) to replace missing values in the columns \"**Informational_Duration**\" and \"**ProductRelated_Duration**\" with the **mean value** of the respective  attribute."
   ]
  },
  {
   "cell_type": "code",
   "execution_count": 170,
   "id": "5532d993-57af-4809-99ff-65799f0a6f36",
   "metadata": {},
   "outputs": [
    {
     "data": {
      "text/html": [
       "<div>\n",
       "<style scoped>\n",
       "    .dataframe tbody tr th:only-of-type {\n",
       "        vertical-align: middle;\n",
       "    }\n",
       "\n",
       "    .dataframe tbody tr th {\n",
       "        vertical-align: top;\n",
       "    }\n",
       "\n",
       "    .dataframe thead th {\n",
       "        text-align: right;\n",
       "    }\n",
       "</style>\n",
       "<table border=\"1\" class=\"dataframe\">\n",
       "  <thead>\n",
       "    <tr style=\"text-align: right;\">\n",
       "      <th></th>\n",
       "      <th>Informational_Duration</th>\n",
       "      <th>ProductRelated_Duration</th>\n",
       "    </tr>\n",
       "  </thead>\n",
       "  <tbody>\n",
       "    <tr>\n",
       "      <th>0</th>\n",
       "      <td>0.0</td>\n",
       "      <td>0.149491</td>\n",
       "    </tr>\n",
       "    <tr>\n",
       "      <th>1</th>\n",
       "      <td>0.0</td>\n",
       "      <td>0.173955</td>\n",
       "    </tr>\n",
       "    <tr>\n",
       "      <th>2</th>\n",
       "      <td>0.0</td>\n",
       "      <td>0.018261</td>\n",
       "    </tr>\n",
       "  </tbody>\n",
       "</table>\n",
       "</div>"
      ],
      "text/plain": [
       "   Informational_Duration  ProductRelated_Duration\n",
       "0                     0.0                 0.149491\n",
       "1                     0.0                 0.173955\n",
       "2                     0.0                 0.018261"
      ]
     },
     "execution_count": 170,
     "metadata": {},
     "output_type": "execute_result"
    }
   ],
   "source": [
    "df[[\"Informational_Duration\", \"ProductRelated_Duration\"]].head(3)"
   ]
  },
  {
   "cell_type": "code",
   "execution_count": 171,
   "id": "e8458a95-2258-4e90-9cc7-3d750b89cbcb",
   "metadata": {},
   "outputs": [
    {
     "name": "stdout",
     "output_type": "stream",
     "text": [
      "<class 'pandas.core.frame.DataFrame'>\n",
      "RangeIndex: 3699 entries, 0 to 3698\n",
      "Data columns (total 2 columns):\n",
      " #   Column                   Non-Null Count  Dtype  \n",
      "---  ------                   --------------  -----  \n",
      " 0   Informational_Duration   3493 non-null   float64\n",
      " 1   ProductRelated_Duration  3499 non-null   float64\n",
      "dtypes: float64(2)\n",
      "memory usage: 57.9 KB\n"
     ]
    }
   ],
   "source": [
    "df[[\"Informational_Duration\", \"ProductRelated_Duration\"]].info()"
   ]
  },
  {
   "cell_type": "code",
   "execution_count": 172,
   "id": "b743e618-fd5b-4761-9e8d-b3e447fb8e48",
   "metadata": {},
   "outputs": [
    {
     "data": {
      "text/plain": [
       "0.01730876350971753"
      ]
     },
     "execution_count": 172,
     "metadata": {},
     "output_type": "execute_result"
    }
   ],
   "source": [
    "mi = df[\"Informational_Duration\"].mean()\n",
    "mi"
   ]
  },
  {
   "cell_type": "code",
   "execution_count": 173,
   "id": "db5c0478-a76b-44c1-922f-a81b341101b6",
   "metadata": {},
   "outputs": [
    {
     "data": {
      "text/plain": [
       "0       False\n",
       "1       False\n",
       "2       False\n",
       "3       False\n",
       "4       False\n",
       "        ...  \n",
       "3694    False\n",
       "3695    False\n",
       "3696    False\n",
       "3697    False\n",
       "3698     True\n",
       "Name: Informational_Duration, Length: 3699, dtype: bool"
      ]
     },
     "execution_count": 173,
     "metadata": {},
     "output_type": "execute_result"
    }
   ],
   "source": [
    "df[\"Informational_Duration\"].isnull()"
   ]
  },
  {
   "cell_type": "code",
   "execution_count": 174,
   "id": "dd0214d6-f20b-4d0a-97ee-ee8f245883e5",
   "metadata": {},
   "outputs": [
    {
     "data": {
      "text/plain": [
       "0       False\n",
       "1       False\n",
       "2       False\n",
       "3       False\n",
       "4       False\n",
       "        ...  \n",
       "3694    False\n",
       "3695    False\n",
       "3696    False\n",
       "3697    False\n",
       "3698     True\n",
       "Name: Informational_Duration, Length: 3699, dtype: bool"
      ]
     },
     "execution_count": 174,
     "metadata": {},
     "output_type": "execute_result"
    }
   ],
   "source": [
    "df[\"Informational_Duration\"].isna()"
   ]
  },
  {
   "cell_type": "code",
   "execution_count": 175,
   "id": "10991b20-f41d-42e7-94d2-90ff262b404a",
   "metadata": {},
   "outputs": [
    {
     "data": {
      "text/html": [
       "<div>\n",
       "<style scoped>\n",
       "    .dataframe tbody tr th:only-of-type {\n",
       "        vertical-align: middle;\n",
       "    }\n",
       "\n",
       "    .dataframe tbody tr th {\n",
       "        vertical-align: top;\n",
       "    }\n",
       "\n",
       "    .dataframe thead th {\n",
       "        text-align: right;\n",
       "    }\n",
       "</style>\n",
       "<table border=\"1\" class=\"dataframe\">\n",
       "  <thead>\n",
       "    <tr style=\"text-align: right;\">\n",
       "      <th></th>\n",
       "      <th>Administrative</th>\n",
       "      <th>Administrative_Duration</th>\n",
       "      <th>Informational_Duration</th>\n",
       "      <th>ProductRelated</th>\n",
       "      <th>ProductRelated_Duration</th>\n",
       "      <th>BounceRates</th>\n",
       "      <th>ExitRates</th>\n",
       "      <th>PageValues</th>\n",
       "      <th>Month</th>\n",
       "      <th>SpecialDay</th>\n",
       "      <th>OperatingSystems</th>\n",
       "      <th>Browser</th>\n",
       "      <th>Region</th>\n",
       "      <th>TrafficType</th>\n",
       "      <th>new_VisitorType</th>\n",
       "      <th>Weekend</th>\n",
       "      <th>Revenue</th>\n",
       "    </tr>\n",
       "  </thead>\n",
       "  <tbody>\n",
       "    <tr>\n",
       "      <th>10</th>\n",
       "      <td>0.000000</td>\n",
       "      <td>0.000000</td>\n",
       "      <td>NaN</td>\n",
       "      <td>0.006818</td>\n",
       "      <td>0.004402</td>\n",
       "      <td>0.833333</td>\n",
       "      <td>0.888889</td>\n",
       "      <td>0.000000</td>\n",
       "      <td>Nov</td>\n",
       "      <td>0.0</td>\n",
       "      <td>0.000000</td>\n",
       "      <td>0.000000</td>\n",
       "      <td>0.625</td>\n",
       "      <td>0.000000</td>\n",
       "      <td>Returning_Visitor</td>\n",
       "      <td>False</td>\n",
       "      <td>False</td>\n",
       "    </tr>\n",
       "    <tr>\n",
       "      <th>14</th>\n",
       "      <td>0.000000</td>\n",
       "      <td>0.000000</td>\n",
       "      <td>NaN</td>\n",
       "      <td>0.120455</td>\n",
       "      <td>0.036400</td>\n",
       "      <td>0.003774</td>\n",
       "      <td>0.032640</td>\n",
       "      <td>0.000000</td>\n",
       "      <td>Nov</td>\n",
       "      <td>0.0</td>\n",
       "      <td>0.285714</td>\n",
       "      <td>0.083333</td>\n",
       "      <td>0.000</td>\n",
       "      <td>0.526316</td>\n",
       "      <td>Returning_Visitor</td>\n",
       "      <td>True</td>\n",
       "      <td>False</td>\n",
       "    </tr>\n",
       "    <tr>\n",
       "      <th>22</th>\n",
       "      <td>0.086957</td>\n",
       "      <td>0.015675</td>\n",
       "      <td>NaN</td>\n",
       "      <td>0.052273</td>\n",
       "      <td>0.021924</td>\n",
       "      <td>0.000000</td>\n",
       "      <td>0.086957</td>\n",
       "      <td>0.000000</td>\n",
       "      <td>Dec</td>\n",
       "      <td>0.0</td>\n",
       "      <td>0.142857</td>\n",
       "      <td>0.083333</td>\n",
       "      <td>0.250</td>\n",
       "      <td>0.263158</td>\n",
       "      <td>Returning_Visitor</td>\n",
       "      <td>False</td>\n",
       "      <td>False</td>\n",
       "    </tr>\n",
       "    <tr>\n",
       "      <th>25</th>\n",
       "      <td>0.000000</td>\n",
       "      <td>0.000000</td>\n",
       "      <td>NaN</td>\n",
       "      <td>0.000000</td>\n",
       "      <td>0.000000</td>\n",
       "      <td>1.000000</td>\n",
       "      <td>1.000000</td>\n",
       "      <td>0.000000</td>\n",
       "      <td>May</td>\n",
       "      <td>0.0</td>\n",
       "      <td>0.142857</td>\n",
       "      <td>0.083333</td>\n",
       "      <td>0.875</td>\n",
       "      <td>0.105263</td>\n",
       "      <td>Returning_Visitor</td>\n",
       "      <td>False</td>\n",
       "      <td>False</td>\n",
       "    </tr>\n",
       "    <tr>\n",
       "      <th>46</th>\n",
       "      <td>0.478261</td>\n",
       "      <td>0.125013</td>\n",
       "      <td>NaN</td>\n",
       "      <td>0.088636</td>\n",
       "      <td>0.048506</td>\n",
       "      <td>0.020833</td>\n",
       "      <td>0.057292</td>\n",
       "      <td>0.055610</td>\n",
       "      <td>Mar</td>\n",
       "      <td>0.0</td>\n",
       "      <td>0.142857</td>\n",
       "      <td>0.083333</td>\n",
       "      <td>0.250</td>\n",
       "      <td>0.000000</td>\n",
       "      <td>New_Visitor</td>\n",
       "      <td>False</td>\n",
       "      <td>False</td>\n",
       "    </tr>\n",
       "    <tr>\n",
       "      <th>...</th>\n",
       "      <td>...</td>\n",
       "      <td>...</td>\n",
       "      <td>...</td>\n",
       "      <td>...</td>\n",
       "      <td>...</td>\n",
       "      <td>...</td>\n",
       "      <td>...</td>\n",
       "      <td>...</td>\n",
       "      <td>...</td>\n",
       "      <td>...</td>\n",
       "      <td>...</td>\n",
       "      <td>...</td>\n",
       "      <td>...</td>\n",
       "      <td>...</td>\n",
       "      <td>...</td>\n",
       "      <td>...</td>\n",
       "      <td>...</td>\n",
       "    </tr>\n",
       "    <tr>\n",
       "      <th>3572</th>\n",
       "      <td>0.086957</td>\n",
       "      <td>0.266247</td>\n",
       "      <td>NaN</td>\n",
       "      <td>0.052273</td>\n",
       "      <td>NaN</td>\n",
       "      <td>0.000000</td>\n",
       "      <td>0.040000</td>\n",
       "      <td>0.025795</td>\n",
       "      <td>Dec</td>\n",
       "      <td>0.0</td>\n",
       "      <td>0.142857</td>\n",
       "      <td>0.083333</td>\n",
       "      <td>0.375</td>\n",
       "      <td>0.052632</td>\n",
       "      <td>New_Visitor</td>\n",
       "      <td>False</td>\n",
       "      <td>True</td>\n",
       "    </tr>\n",
       "    <tr>\n",
       "      <th>3599</th>\n",
       "      <td>0.043478</td>\n",
       "      <td>0.045388</td>\n",
       "      <td>NaN</td>\n",
       "      <td>0.009091</td>\n",
       "      <td>0.003247</td>\n",
       "      <td>0.000000</td>\n",
       "      <td>0.066667</td>\n",
       "      <td>0.000000</td>\n",
       "      <td>May</td>\n",
       "      <td>0.0</td>\n",
       "      <td>0.142857</td>\n",
       "      <td>0.083333</td>\n",
       "      <td>0.625</td>\n",
       "      <td>0.263158</td>\n",
       "      <td>New_Visitor</td>\n",
       "      <td>False</td>\n",
       "      <td>False</td>\n",
       "    </tr>\n",
       "    <tr>\n",
       "      <th>3620</th>\n",
       "      <td>0.391304</td>\n",
       "      <td>0.101179</td>\n",
       "      <td>NaN</td>\n",
       "      <td>0.704545</td>\n",
       "      <td>0.466016</td>\n",
       "      <td>0.014107</td>\n",
       "      <td>0.062071</td>\n",
       "      <td>NaN</td>\n",
       "      <td>Sep</td>\n",
       "      <td>0.0</td>\n",
       "      <td>0.142857</td>\n",
       "      <td>0.750000</td>\n",
       "      <td>0.250</td>\n",
       "      <td>0.052632</td>\n",
       "      <td>Returning_Visitor</td>\n",
       "      <td>True</td>\n",
       "      <td>False</td>\n",
       "    </tr>\n",
       "    <tr>\n",
       "      <th>3633</th>\n",
       "      <td>0.000000</td>\n",
       "      <td>0.000000</td>\n",
       "      <td>NaN</td>\n",
       "      <td>0.025000</td>\n",
       "      <td>0.012134</td>\n",
       "      <td>0.136364</td>\n",
       "      <td>0.363636</td>\n",
       "      <td>0.000000</td>\n",
       "      <td>Dec</td>\n",
       "      <td>0.0</td>\n",
       "      <td>0.285714</td>\n",
       "      <td>0.083333</td>\n",
       "      <td>0.750</td>\n",
       "      <td>0.000000</td>\n",
       "      <td>Returning_Visitor</td>\n",
       "      <td>True</td>\n",
       "      <td>False</td>\n",
       "    </tr>\n",
       "    <tr>\n",
       "      <th>3698</th>\n",
       "      <td>0.000000</td>\n",
       "      <td>0.000000</td>\n",
       "      <td>NaN</td>\n",
       "      <td>0.006818</td>\n",
       "      <td>0.004017</td>\n",
       "      <td>0.000000</td>\n",
       "      <td>0.333333</td>\n",
       "      <td>0.000000</td>\n",
       "      <td>Mar</td>\n",
       "      <td>0.0</td>\n",
       "      <td>0.142857</td>\n",
       "      <td>0.250000</td>\n",
       "      <td>0.000</td>\n",
       "      <td>0.315789</td>\n",
       "      <td>Returning_Visitor</td>\n",
       "      <td>False</td>\n",
       "      <td>False</td>\n",
       "    </tr>\n",
       "  </tbody>\n",
       "</table>\n",
       "<p>206 rows × 17 columns</p>\n",
       "</div>"
      ],
      "text/plain": [
       "      Administrative  Administrative_Duration  Informational_Duration  ProductRelated  ProductRelated_Duration  BounceRates  ExitRates  PageValues Month  SpecialDay  OperatingSystems   Browser  Region  TrafficType    new_VisitorType  Weekend  Revenue\n",
       "10          0.000000                 0.000000                     NaN        0.006818                 0.004402     0.833333   0.888889    0.000000   Nov         0.0          0.000000  0.000000   0.625     0.000000  Returning_Visitor    False    False\n",
       "14          0.000000                 0.000000                     NaN        0.120455                 0.036400     0.003774   0.032640    0.000000   Nov         0.0          0.285714  0.083333   0.000     0.526316  Returning_Visitor     True    False\n",
       "22          0.086957                 0.015675                     NaN        0.052273                 0.021924     0.000000   0.086957    0.000000   Dec         0.0          0.142857  0.083333   0.250     0.263158  Returning_Visitor    False    False\n",
       "25          0.000000                 0.000000                     NaN        0.000000                 0.000000     1.000000   1.000000    0.000000   May         0.0          0.142857  0.083333   0.875     0.105263  Returning_Visitor    False    False\n",
       "46          0.478261                 0.125013                     NaN        0.088636                 0.048506     0.020833   0.057292    0.055610   Mar         0.0          0.142857  0.083333   0.250     0.000000        New_Visitor    False    False\n",
       "...              ...                      ...                     ...             ...                      ...          ...        ...         ...   ...         ...               ...       ...     ...          ...                ...      ...      ...\n",
       "3572        0.086957                 0.266247                     NaN        0.052273                      NaN     0.000000   0.040000    0.025795   Dec         0.0          0.142857  0.083333   0.375     0.052632        New_Visitor    False     True\n",
       "3599        0.043478                 0.045388                     NaN        0.009091                 0.003247     0.000000   0.066667    0.000000   May         0.0          0.142857  0.083333   0.625     0.263158        New_Visitor    False    False\n",
       "3620        0.391304                 0.101179                     NaN        0.704545                 0.466016     0.014107   0.062071         NaN   Sep         0.0          0.142857  0.750000   0.250     0.052632  Returning_Visitor     True    False\n",
       "3633        0.000000                 0.000000                     NaN        0.025000                 0.012134     0.136364   0.363636    0.000000   Dec         0.0          0.285714  0.083333   0.750     0.000000  Returning_Visitor     True    False\n",
       "3698        0.000000                 0.000000                     NaN        0.006818                 0.004017     0.000000   0.333333    0.000000   Mar         0.0          0.142857  0.250000   0.000     0.315789  Returning_Visitor    False    False\n",
       "\n",
       "[206 rows x 17 columns]"
      ]
     },
     "execution_count": 175,
     "metadata": {},
     "output_type": "execute_result"
    }
   ],
   "source": [
    "c = df[\"Informational_Duration\"].isna()\n",
    "df[c]"
   ]
  },
  {
   "cell_type": "code",
   "execution_count": 176,
   "id": "3b40b716-337b-42b9-ba2a-eaa3baaa3508",
   "metadata": {},
   "outputs": [
    {
     "data": {
      "text/plain": [
       "0       False\n",
       "1       False\n",
       "2       False\n",
       "3       False\n",
       "4       False\n",
       "        ...  \n",
       "3694    False\n",
       "3695    False\n",
       "3696    False\n",
       "3697    False\n",
       "3698    False\n",
       "Name: Informational_Duration, Length: 3699, dtype: bool"
      ]
     },
     "execution_count": 176,
     "metadata": {},
     "output_type": "execute_result"
    }
   ],
   "source": [
    "df[\"Informational_Duration\"] == np.nan"
   ]
  },
  {
   "cell_type": "code",
   "execution_count": 177,
   "id": "7e8c1fac-d0e9-4c94-b29b-55bee45e1882",
   "metadata": {},
   "outputs": [],
   "source": [
    "df[\"Informational_Duration\"] =  df[\"Informational_Duration\"].fillna(mi)"
   ]
  },
  {
   "cell_type": "code",
   "execution_count": 178,
   "id": "eea936e3-5758-427b-8b24-e357918c060d",
   "metadata": {},
   "outputs": [
    {
     "data": {
      "text/plain": [
       "0     0.000000\n",
       "1     0.000000\n",
       "2     0.000000\n",
       "3     0.000000\n",
       "4     0.000000\n",
       "5     0.000000\n",
       "6     0.000000\n",
       "7     0.000000\n",
       "8     0.000000\n",
       "9     0.000000\n",
       "10    0.017309\n",
       "Name: Informational_Duration, dtype: float64"
      ]
     },
     "execution_count": 178,
     "metadata": {},
     "output_type": "execute_result"
    }
   ],
   "source": [
    "df[\"Informational_Duration\"].head(11)"
   ]
  },
  {
   "cell_type": "code",
   "execution_count": 179,
   "id": "3f00de36-c5da-49ca-943e-73a89467af78",
   "metadata": {},
   "outputs": [
    {
     "data": {
      "text/plain": [
       "0.06749427408211497"
      ]
     },
     "execution_count": 179,
     "metadata": {},
     "output_type": "execute_result"
    }
   ],
   "source": [
    "mp = df[\"ProductRelated_Duration\"].mean()\n",
    "mp"
   ]
  },
  {
   "cell_type": "code",
   "execution_count": 180,
   "id": "a24735f4-c33d-489c-a4a5-237aa23a981e",
   "metadata": {},
   "outputs": [
    {
     "data": {
      "text/plain": [
       "0       False\n",
       "1       False\n",
       "2       False\n",
       "3       False\n",
       "4       False\n",
       "        ...  \n",
       "3694    False\n",
       "3695    False\n",
       "3696    False\n",
       "3697    False\n",
       "3698    False\n",
       "Name: ProductRelated_Duration, Length: 3699, dtype: bool"
      ]
     },
     "execution_count": 180,
     "metadata": {},
     "output_type": "execute_result"
    }
   ],
   "source": [
    "df[\"ProductRelated_Duration\"].isna()"
   ]
  },
  {
   "cell_type": "code",
   "execution_count": 181,
   "id": "279ef4ea-5616-4a8f-a3da-cd8738b0eab1",
   "metadata": {},
   "outputs": [
    {
     "data": {
      "text/html": [
       "<div>\n",
       "<style scoped>\n",
       "    .dataframe tbody tr th:only-of-type {\n",
       "        vertical-align: middle;\n",
       "    }\n",
       "\n",
       "    .dataframe tbody tr th {\n",
       "        vertical-align: top;\n",
       "    }\n",
       "\n",
       "    .dataframe thead th {\n",
       "        text-align: right;\n",
       "    }\n",
       "</style>\n",
       "<table border=\"1\" class=\"dataframe\">\n",
       "  <thead>\n",
       "    <tr style=\"text-align: right;\">\n",
       "      <th></th>\n",
       "      <th>Administrative</th>\n",
       "      <th>Administrative_Duration</th>\n",
       "      <th>Informational_Duration</th>\n",
       "      <th>ProductRelated</th>\n",
       "      <th>ProductRelated_Duration</th>\n",
       "      <th>BounceRates</th>\n",
       "      <th>ExitRates</th>\n",
       "      <th>PageValues</th>\n",
       "      <th>Month</th>\n",
       "      <th>SpecialDay</th>\n",
       "      <th>OperatingSystems</th>\n",
       "      <th>Browser</th>\n",
       "      <th>Region</th>\n",
       "      <th>TrafficType</th>\n",
       "      <th>new_VisitorType</th>\n",
       "      <th>Weekend</th>\n",
       "      <th>Revenue</th>\n",
       "    </tr>\n",
       "  </thead>\n",
       "  <tbody>\n",
       "    <tr>\n",
       "      <th>17</th>\n",
       "      <td>0.000000</td>\n",
       "      <td>0.000000</td>\n",
       "      <td>0.000000</td>\n",
       "      <td>0.009091</td>\n",
       "      <td>NaN</td>\n",
       "      <td>NaN</td>\n",
       "      <td>0.333333</td>\n",
       "      <td>0.000000</td>\n",
       "      <td>Dec</td>\n",
       "      <td>0.0</td>\n",
       "      <td>0.285714</td>\n",
       "      <td>0.083333</td>\n",
       "      <td>0.250</td>\n",
       "      <td>1.000000</td>\n",
       "      <td>Returning_Visitor</td>\n",
       "      <td>True</td>\n",
       "      <td>False</td>\n",
       "    </tr>\n",
       "    <tr>\n",
       "      <th>21</th>\n",
       "      <td>0.260870</td>\n",
       "      <td>0.019029</td>\n",
       "      <td>0.000000</td>\n",
       "      <td>0.111364</td>\n",
       "      <td>NaN</td>\n",
       "      <td>0.000000</td>\n",
       "      <td>0.038462</td>\n",
       "      <td>0.011811</td>\n",
       "      <td>May</td>\n",
       "      <td>0.0</td>\n",
       "      <td>0.142857</td>\n",
       "      <td>0.083333</td>\n",
       "      <td>0.000</td>\n",
       "      <td>0.052632</td>\n",
       "      <td>Returning_Visitor</td>\n",
       "      <td>True</td>\n",
       "      <td>False</td>\n",
       "    </tr>\n",
       "    <tr>\n",
       "      <th>65</th>\n",
       "      <td>0.173913</td>\n",
       "      <td>0.020355</td>\n",
       "      <td>0.000000</td>\n",
       "      <td>0.088636</td>\n",
       "      <td>NaN</td>\n",
       "      <td>0.005952</td>\n",
       "      <td>NaN</td>\n",
       "      <td>0.000000</td>\n",
       "      <td>Mar</td>\n",
       "      <td>0.0</td>\n",
       "      <td>0.428571</td>\n",
       "      <td>0.333333</td>\n",
       "      <td>0.000</td>\n",
       "      <td>0.105263</td>\n",
       "      <td>Returning_Visitor</td>\n",
       "      <td>True</td>\n",
       "      <td>False</td>\n",
       "    </tr>\n",
       "    <tr>\n",
       "      <th>77</th>\n",
       "      <td>0.000000</td>\n",
       "      <td>0.000000</td>\n",
       "      <td>0.000000</td>\n",
       "      <td>0.018182</td>\n",
       "      <td>NaN</td>\n",
       "      <td>0.125000</td>\n",
       "      <td>0.250000</td>\n",
       "      <td>0.000000</td>\n",
       "      <td>May</td>\n",
       "      <td>0.4</td>\n",
       "      <td>0.142857</td>\n",
       "      <td>0.083333</td>\n",
       "      <td>0.000</td>\n",
       "      <td>0.157895</td>\n",
       "      <td>Returning_Visitor</td>\n",
       "      <td>False</td>\n",
       "      <td>False</td>\n",
       "    </tr>\n",
       "    <tr>\n",
       "      <th>80</th>\n",
       "      <td>0.173913</td>\n",
       "      <td>0.026671</td>\n",
       "      <td>0.000000</td>\n",
       "      <td>0.011364</td>\n",
       "      <td>NaN</td>\n",
       "      <td>0.000000</td>\n",
       "      <td>0.125000</td>\n",
       "      <td>0.000000</td>\n",
       "      <td>Mar</td>\n",
       "      <td>0.0</td>\n",
       "      <td>0.000000</td>\n",
       "      <td>0.000000</td>\n",
       "      <td>0.875</td>\n",
       "      <td>0.473684</td>\n",
       "      <td>Returning_Visitor</td>\n",
       "      <td>False</td>\n",
       "      <td>False</td>\n",
       "    </tr>\n",
       "    <tr>\n",
       "      <th>...</th>\n",
       "      <td>...</td>\n",
       "      <td>...</td>\n",
       "      <td>...</td>\n",
       "      <td>...</td>\n",
       "      <td>...</td>\n",
       "      <td>...</td>\n",
       "      <td>...</td>\n",
       "      <td>...</td>\n",
       "      <td>...</td>\n",
       "      <td>...</td>\n",
       "      <td>...</td>\n",
       "      <td>...</td>\n",
       "      <td>...</td>\n",
       "      <td>...</td>\n",
       "      <td>...</td>\n",
       "      <td>...</td>\n",
       "      <td>...</td>\n",
       "    </tr>\n",
       "    <tr>\n",
       "      <th>3664</th>\n",
       "      <td>0.173913</td>\n",
       "      <td>0.028075</td>\n",
       "      <td>0.017234</td>\n",
       "      <td>0.047727</td>\n",
       "      <td>NaN</td>\n",
       "      <td>0.000000</td>\n",
       "      <td>0.040000</td>\n",
       "      <td>0.112575</td>\n",
       "      <td>Dec</td>\n",
       "      <td>0.0</td>\n",
       "      <td>0.000000</td>\n",
       "      <td>0.000000</td>\n",
       "      <td>0.000</td>\n",
       "      <td>0.052632</td>\n",
       "      <td>New_Visitor</td>\n",
       "      <td>False</td>\n",
       "      <td>True</td>\n",
       "    </tr>\n",
       "    <tr>\n",
       "      <th>3674</th>\n",
       "      <td>0.000000</td>\n",
       "      <td>0.000000</td>\n",
       "      <td>0.000000</td>\n",
       "      <td>0.002273</td>\n",
       "      <td>NaN</td>\n",
       "      <td>1.000000</td>\n",
       "      <td>1.000000</td>\n",
       "      <td>0.000000</td>\n",
       "      <td>May</td>\n",
       "      <td>0.0</td>\n",
       "      <td>0.285714</td>\n",
       "      <td>0.166667</td>\n",
       "      <td>0.000</td>\n",
       "      <td>0.105263</td>\n",
       "      <td>Returning_Visitor</td>\n",
       "      <td>False</td>\n",
       "      <td>False</td>\n",
       "    </tr>\n",
       "    <tr>\n",
       "      <th>3685</th>\n",
       "      <td>0.173913</td>\n",
       "      <td>0.103411</td>\n",
       "      <td>0.000000</td>\n",
       "      <td>0.034091</td>\n",
       "      <td>NaN</td>\n",
       "      <td>0.000000</td>\n",
       "      <td>0.153846</td>\n",
       "      <td>0.000000</td>\n",
       "      <td>May</td>\n",
       "      <td>0.0</td>\n",
       "      <td>0.142857</td>\n",
       "      <td>0.083333</td>\n",
       "      <td>0.625</td>\n",
       "      <td>0.052632</td>\n",
       "      <td>Returning_Visitor</td>\n",
       "      <td>False</td>\n",
       "      <td>False</td>\n",
       "    </tr>\n",
       "    <tr>\n",
       "      <th>3692</th>\n",
       "      <td>0.000000</td>\n",
       "      <td>0.000000</td>\n",
       "      <td>0.000000</td>\n",
       "      <td>0.065909</td>\n",
       "      <td>NaN</td>\n",
       "      <td>0.051724</td>\n",
       "      <td>0.109195</td>\n",
       "      <td>NaN</td>\n",
       "      <td>Oct</td>\n",
       "      <td>0.0</td>\n",
       "      <td>0.285714</td>\n",
       "      <td>0.083333</td>\n",
       "      <td>0.000</td>\n",
       "      <td>0.631579</td>\n",
       "      <td>Returning_Visitor</td>\n",
       "      <td>False</td>\n",
       "      <td>False</td>\n",
       "    </tr>\n",
       "    <tr>\n",
       "      <th>3693</th>\n",
       "      <td>0.086957</td>\n",
       "      <td>0.035117</td>\n",
       "      <td>0.000000</td>\n",
       "      <td>0.240909</td>\n",
       "      <td>NaN</td>\n",
       "      <td>0.098558</td>\n",
       "      <td>0.195032</td>\n",
       "      <td>0.012396</td>\n",
       "      <td>Aug</td>\n",
       "      <td>0.0</td>\n",
       "      <td>0.285714</td>\n",
       "      <td>0.083333</td>\n",
       "      <td>0.000</td>\n",
       "      <td>0.000000</td>\n",
       "      <td>Returning_Visitor</td>\n",
       "      <td>False</td>\n",
       "      <td>False</td>\n",
       "    </tr>\n",
       "  </tbody>\n",
       "</table>\n",
       "<p>200 rows × 17 columns</p>\n",
       "</div>"
      ],
      "text/plain": [
       "      Administrative  Administrative_Duration  Informational_Duration  ProductRelated  ProductRelated_Duration  BounceRates  ExitRates  PageValues Month  SpecialDay  OperatingSystems   Browser  Region  TrafficType    new_VisitorType  Weekend  Revenue\n",
       "17          0.000000                 0.000000                0.000000        0.009091                      NaN          NaN   0.333333    0.000000   Dec         0.0          0.285714  0.083333   0.250     1.000000  Returning_Visitor     True    False\n",
       "21          0.260870                 0.019029                0.000000        0.111364                      NaN     0.000000   0.038462    0.011811   May         0.0          0.142857  0.083333   0.000     0.052632  Returning_Visitor     True    False\n",
       "65          0.173913                 0.020355                0.000000        0.088636                      NaN     0.005952        NaN    0.000000   Mar         0.0          0.428571  0.333333   0.000     0.105263  Returning_Visitor     True    False\n",
       "77          0.000000                 0.000000                0.000000        0.018182                      NaN     0.125000   0.250000    0.000000   May         0.4          0.142857  0.083333   0.000     0.157895  Returning_Visitor    False    False\n",
       "80          0.173913                 0.026671                0.000000        0.011364                      NaN     0.000000   0.125000    0.000000   Mar         0.0          0.000000  0.000000   0.875     0.473684  Returning_Visitor    False    False\n",
       "...              ...                      ...                     ...             ...                      ...          ...        ...         ...   ...         ...               ...       ...     ...          ...                ...      ...      ...\n",
       "3664        0.173913                 0.028075                0.017234        0.047727                      NaN     0.000000   0.040000    0.112575   Dec         0.0          0.000000  0.000000   0.000     0.052632        New_Visitor    False     True\n",
       "3674        0.000000                 0.000000                0.000000        0.002273                      NaN     1.000000   1.000000    0.000000   May         0.0          0.285714  0.166667   0.000     0.105263  Returning_Visitor    False    False\n",
       "3685        0.173913                 0.103411                0.000000        0.034091                      NaN     0.000000   0.153846    0.000000   May         0.0          0.142857  0.083333   0.625     0.052632  Returning_Visitor    False    False\n",
       "3692        0.000000                 0.000000                0.000000        0.065909                      NaN     0.051724   0.109195         NaN   Oct         0.0          0.285714  0.083333   0.000     0.631579  Returning_Visitor    False    False\n",
       "3693        0.086957                 0.035117                0.000000        0.240909                      NaN     0.098558   0.195032    0.012396   Aug         0.0          0.285714  0.083333   0.000     0.000000  Returning_Visitor    False    False\n",
       "\n",
       "[200 rows x 17 columns]"
      ]
     },
     "execution_count": 181,
     "metadata": {},
     "output_type": "execute_result"
    }
   ],
   "source": [
    "c1 = df[\"ProductRelated_Duration\"].isna()\n",
    "df[c1]"
   ]
  },
  {
   "cell_type": "code",
   "execution_count": 182,
   "id": "fed2fddb-5272-43ac-b240-8d161461cd81",
   "metadata": {},
   "outputs": [
    {
     "data": {
      "text/html": [
       "<div>\n",
       "<style scoped>\n",
       "    .dataframe tbody tr th:only-of-type {\n",
       "        vertical-align: middle;\n",
       "    }\n",
       "\n",
       "    .dataframe tbody tr th {\n",
       "        vertical-align: top;\n",
       "    }\n",
       "\n",
       "    .dataframe thead th {\n",
       "        text-align: right;\n",
       "    }\n",
       "</style>\n",
       "<table border=\"1\" class=\"dataframe\">\n",
       "  <thead>\n",
       "    <tr style=\"text-align: right;\">\n",
       "      <th></th>\n",
       "      <th>Administrative</th>\n",
       "      <th>Administrative_Duration</th>\n",
       "      <th>Informational_Duration</th>\n",
       "      <th>ProductRelated</th>\n",
       "      <th>ProductRelated_Duration</th>\n",
       "      <th>BounceRates</th>\n",
       "      <th>ExitRates</th>\n",
       "      <th>PageValues</th>\n",
       "      <th>Month</th>\n",
       "      <th>SpecialDay</th>\n",
       "      <th>OperatingSystems</th>\n",
       "      <th>Browser</th>\n",
       "      <th>Region</th>\n",
       "      <th>TrafficType</th>\n",
       "      <th>new_VisitorType</th>\n",
       "      <th>Weekend</th>\n",
       "      <th>Revenue</th>\n",
       "    </tr>\n",
       "  </thead>\n",
       "  <tbody>\n",
       "    <tr>\n",
       "      <th>0</th>\n",
       "      <td>0.043478</td>\n",
       "      <td>0.009943</td>\n",
       "      <td>0.000000</td>\n",
       "      <td>0.209091</td>\n",
       "      <td>0.149491</td>\n",
       "      <td>0.033688</td>\n",
       "      <td>0.189426</td>\n",
       "      <td>0.065620</td>\n",
       "      <td>Nov</td>\n",
       "      <td>0.0</td>\n",
       "      <td>0.142857</td>\n",
       "      <td>0.083333</td>\n",
       "      <td>0.250</td>\n",
       "      <td>0.052632</td>\n",
       "      <td>Returning_Visitor</td>\n",
       "      <td>True</td>\n",
       "      <td>False</td>\n",
       "    </tr>\n",
       "    <tr>\n",
       "      <th>1</th>\n",
       "      <td>0.086957</td>\n",
       "      <td>0.013195</td>\n",
       "      <td>0.000000</td>\n",
       "      <td>0.259091</td>\n",
       "      <td>0.173955</td>\n",
       "      <td>0.088496</td>\n",
       "      <td>0.212881</td>\n",
       "      <td>0.000000</td>\n",
       "      <td>Aug</td>\n",
       "      <td>0.0</td>\n",
       "      <td>0.142857</td>\n",
       "      <td>0.083333</td>\n",
       "      <td>0.125</td>\n",
       "      <td>0.000000</td>\n",
       "      <td>Returning_Visitor</td>\n",
       "      <td>False</td>\n",
       "      <td>False</td>\n",
       "    </tr>\n",
       "    <tr>\n",
       "      <th>2</th>\n",
       "      <td>0.130435</td>\n",
       "      <td>0.066913</td>\n",
       "      <td>0.000000</td>\n",
       "      <td>0.038636</td>\n",
       "      <td>0.018261</td>\n",
       "      <td>0.166667</td>\n",
       "      <td>0.256173</td>\n",
       "      <td>0.000000</td>\n",
       "      <td>Dec</td>\n",
       "      <td>0.0</td>\n",
       "      <td>0.142857</td>\n",
       "      <td>0.083333</td>\n",
       "      <td>0.000</td>\n",
       "      <td>0.000000</td>\n",
       "      <td>Returning_Visitor</td>\n",
       "      <td>True</td>\n",
       "      <td>False</td>\n",
       "    </tr>\n",
       "    <tr>\n",
       "      <th>3</th>\n",
       "      <td>0.043478</td>\n",
       "      <td>0.011932</td>\n",
       "      <td>0.000000</td>\n",
       "      <td>0.097727</td>\n",
       "      <td>0.050310</td>\n",
       "      <td>0.068182</td>\n",
       "      <td>0.128815</td>\n",
       "      <td>NaN</td>\n",
       "      <td>Nov</td>\n",
       "      <td>NaN</td>\n",
       "      <td>0.000000</td>\n",
       "      <td>0.000000</td>\n",
       "      <td>0.000</td>\n",
       "      <td>0.000000</td>\n",
       "      <td>Returning_Visitor</td>\n",
       "      <td>False</td>\n",
       "      <td>False</td>\n",
       "    </tr>\n",
       "    <tr>\n",
       "      <th>4</th>\n",
       "      <td>0.217391</td>\n",
       "      <td>0.021768</td>\n",
       "      <td>0.000000</td>\n",
       "      <td>0.302273</td>\n",
       "      <td>0.123759</td>\n",
       "      <td>0.060390</td>\n",
       "      <td>0.146748</td>\n",
       "      <td>0.017619</td>\n",
       "      <td>Jul</td>\n",
       "      <td>0.0</td>\n",
       "      <td>0.000000</td>\n",
       "      <td>0.000000</td>\n",
       "      <td>0.000</td>\n",
       "      <td>0.157895</td>\n",
       "      <td>Returning_Visitor</td>\n",
       "      <td>False</td>\n",
       "      <td>True</td>\n",
       "    </tr>\n",
       "    <tr>\n",
       "      <th>5</th>\n",
       "      <td>0.000000</td>\n",
       "      <td>0.000000</td>\n",
       "      <td>0.000000</td>\n",
       "      <td>0.020455</td>\n",
       "      <td>0.021352</td>\n",
       "      <td>0.333333</td>\n",
       "      <td>0.444444</td>\n",
       "      <td>0.000000</td>\n",
       "      <td>Mar</td>\n",
       "      <td>NaN</td>\n",
       "      <td>0.285714</td>\n",
       "      <td>0.083333</td>\n",
       "      <td>0.125</td>\n",
       "      <td>0.000000</td>\n",
       "      <td>Returning_Visitor</td>\n",
       "      <td>False</td>\n",
       "      <td>False</td>\n",
       "    </tr>\n",
       "    <tr>\n",
       "      <th>6</th>\n",
       "      <td>0.000000</td>\n",
       "      <td>0.000000</td>\n",
       "      <td>0.000000</td>\n",
       "      <td>0.006818</td>\n",
       "      <td>0.003907</td>\n",
       "      <td>0.500000</td>\n",
       "      <td>0.500000</td>\n",
       "      <td>0.000000</td>\n",
       "      <td>May</td>\n",
       "      <td>0.0</td>\n",
       "      <td>0.285714</td>\n",
       "      <td>0.083333</td>\n",
       "      <td>0.625</td>\n",
       "      <td>0.631579</td>\n",
       "      <td>Returning_Visitor</td>\n",
       "      <td>False</td>\n",
       "      <td>False</td>\n",
       "    </tr>\n",
       "    <tr>\n",
       "      <th>7</th>\n",
       "      <td>0.130435</td>\n",
       "      <td>0.051003</td>\n",
       "      <td>0.000000</td>\n",
       "      <td>0.070455</td>\n",
       "      <td>0.171502</td>\n",
       "      <td>0.000000</td>\n",
       "      <td>0.026042</td>\n",
       "      <td>NaN</td>\n",
       "      <td>Dec</td>\n",
       "      <td>NaN</td>\n",
       "      <td>0.285714</td>\n",
       "      <td>0.083333</td>\n",
       "      <td>0.000</td>\n",
       "      <td>0.473684</td>\n",
       "      <td>Returning_Visitor</td>\n",
       "      <td>False</td>\n",
       "      <td>True</td>\n",
       "    </tr>\n",
       "    <tr>\n",
       "      <th>8</th>\n",
       "      <td>0.217391</td>\n",
       "      <td>0.046324</td>\n",
       "      <td>0.000000</td>\n",
       "      <td>0.079545</td>\n",
       "      <td>0.031532</td>\n",
       "      <td>0.000000</td>\n",
       "      <td>NaN</td>\n",
       "      <td>0.026529</td>\n",
       "      <td>May</td>\n",
       "      <td>NaN</td>\n",
       "      <td>0.142857</td>\n",
       "      <td>0.083333</td>\n",
       "      <td>0.000</td>\n",
       "      <td>0.157895</td>\n",
       "      <td>Returning_Visitor</td>\n",
       "      <td>False</td>\n",
       "      <td>False</td>\n",
       "    </tr>\n",
       "    <tr>\n",
       "      <th>9</th>\n",
       "      <td>0.173913</td>\n",
       "      <td>0.030181</td>\n",
       "      <td>0.000000</td>\n",
       "      <td>0.063636</td>\n",
       "      <td>0.046904</td>\n",
       "      <td>0.068966</td>\n",
       "      <td>0.122742</td>\n",
       "      <td>0.000000</td>\n",
       "      <td>May</td>\n",
       "      <td>0.0</td>\n",
       "      <td>0.142857</td>\n",
       "      <td>0.083333</td>\n",
       "      <td>0.000</td>\n",
       "      <td>0.315789</td>\n",
       "      <td>Returning_Visitor</td>\n",
       "      <td>True</td>\n",
       "      <td>False</td>\n",
       "    </tr>\n",
       "    <tr>\n",
       "      <th>10</th>\n",
       "      <td>0.000000</td>\n",
       "      <td>0.000000</td>\n",
       "      <td>0.017309</td>\n",
       "      <td>0.006818</td>\n",
       "      <td>0.004402</td>\n",
       "      <td>0.833333</td>\n",
       "      <td>0.888889</td>\n",
       "      <td>0.000000</td>\n",
       "      <td>Nov</td>\n",
       "      <td>0.0</td>\n",
       "      <td>0.000000</td>\n",
       "      <td>0.000000</td>\n",
       "      <td>0.625</td>\n",
       "      <td>0.000000</td>\n",
       "      <td>Returning_Visitor</td>\n",
       "      <td>False</td>\n",
       "      <td>False</td>\n",
       "    </tr>\n",
       "    <tr>\n",
       "      <th>11</th>\n",
       "      <td>0.043478</td>\n",
       "      <td>0.002340</td>\n",
       "      <td>0.030292</td>\n",
       "      <td>0.145455</td>\n",
       "      <td>0.094464</td>\n",
       "      <td>0.060606</td>\n",
       "      <td>0.097222</td>\n",
       "      <td>0.000000</td>\n",
       "      <td>Nov</td>\n",
       "      <td>0.0</td>\n",
       "      <td>0.428571</td>\n",
       "      <td>0.083333</td>\n",
       "      <td>0.000</td>\n",
       "      <td>0.052632</td>\n",
       "      <td>Returning_Visitor</td>\n",
       "      <td>True</td>\n",
       "      <td>False</td>\n",
       "    </tr>\n",
       "    <tr>\n",
       "      <th>12</th>\n",
       "      <td>0.000000</td>\n",
       "      <td>0.000000</td>\n",
       "      <td>0.000000</td>\n",
       "      <td>0.050000</td>\n",
       "      <td>0.136104</td>\n",
       "      <td>0.045455</td>\n",
       "      <td>0.066919</td>\n",
       "      <td>0.000000</td>\n",
       "      <td>May</td>\n",
       "      <td>0.0</td>\n",
       "      <td>0.285714</td>\n",
       "      <td>0.083333</td>\n",
       "      <td>0.250</td>\n",
       "      <td>0.052632</td>\n",
       "      <td>Returning_Visitor</td>\n",
       "      <td>False</td>\n",
       "      <td>False</td>\n",
       "    </tr>\n",
       "    <tr>\n",
       "      <th>13</th>\n",
       "      <td>0.000000</td>\n",
       "      <td>0.000000</td>\n",
       "      <td>0.034164</td>\n",
       "      <td>0.031818</td>\n",
       "      <td>0.024342</td>\n",
       "      <td>0.000000</td>\n",
       "      <td>0.171875</td>\n",
       "      <td>0.000000</td>\n",
       "      <td>Feb</td>\n",
       "      <td>0.8</td>\n",
       "      <td>0.000000</td>\n",
       "      <td>0.000000</td>\n",
       "      <td>0.250</td>\n",
       "      <td>0.105263</td>\n",
       "      <td>Returning_Visitor</td>\n",
       "      <td>False</td>\n",
       "      <td>False</td>\n",
       "    </tr>\n",
       "    <tr>\n",
       "      <th>14</th>\n",
       "      <td>0.000000</td>\n",
       "      <td>0.000000</td>\n",
       "      <td>0.017309</td>\n",
       "      <td>0.120455</td>\n",
       "      <td>0.036400</td>\n",
       "      <td>0.003774</td>\n",
       "      <td>0.032640</td>\n",
       "      <td>0.000000</td>\n",
       "      <td>Nov</td>\n",
       "      <td>0.0</td>\n",
       "      <td>0.285714</td>\n",
       "      <td>0.083333</td>\n",
       "      <td>0.000</td>\n",
       "      <td>0.526316</td>\n",
       "      <td>Returning_Visitor</td>\n",
       "      <td>True</td>\n",
       "      <td>False</td>\n",
       "    </tr>\n",
       "    <tr>\n",
       "      <th>15</th>\n",
       "      <td>0.173913</td>\n",
       "      <td>0.034392</td>\n",
       "      <td>0.000000</td>\n",
       "      <td>0.054545</td>\n",
       "      <td>0.036511</td>\n",
       "      <td>0.012821</td>\n",
       "      <td>0.021978</td>\n",
       "      <td>0.000000</td>\n",
       "      <td>Mar</td>\n",
       "      <td>0.0</td>\n",
       "      <td>0.285714</td>\n",
       "      <td>0.083333</td>\n",
       "      <td>0.000</td>\n",
       "      <td>0.000000</td>\n",
       "      <td>Returning_Visitor</td>\n",
       "      <td>False</td>\n",
       "      <td>False</td>\n",
       "    </tr>\n",
       "    <tr>\n",
       "      <th>16</th>\n",
       "      <td>0.217391</td>\n",
       "      <td>0.129988</td>\n",
       "      <td>0.000000</td>\n",
       "      <td>0.056818</td>\n",
       "      <td>0.048674</td>\n",
       "      <td>0.000000</td>\n",
       "      <td>0.017857</td>\n",
       "      <td>0.020678</td>\n",
       "      <td>Jul</td>\n",
       "      <td>0.0</td>\n",
       "      <td>0.142857</td>\n",
       "      <td>0.750000</td>\n",
       "      <td>0.125</td>\n",
       "      <td>0.052632</td>\n",
       "      <td>New_Visitor</td>\n",
       "      <td>True</td>\n",
       "      <td>True</td>\n",
       "    </tr>\n",
       "    <tr>\n",
       "      <th>17</th>\n",
       "      <td>0.000000</td>\n",
       "      <td>0.000000</td>\n",
       "      <td>0.000000</td>\n",
       "      <td>0.009091</td>\n",
       "      <td>NaN</td>\n",
       "      <td>NaN</td>\n",
       "      <td>0.333333</td>\n",
       "      <td>0.000000</td>\n",
       "      <td>Dec</td>\n",
       "      <td>0.0</td>\n",
       "      <td>0.285714</td>\n",
       "      <td>0.083333</td>\n",
       "      <td>0.250</td>\n",
       "      <td>1.000000</td>\n",
       "      <td>Returning_Visitor</td>\n",
       "      <td>True</td>\n",
       "      <td>False</td>\n",
       "    </tr>\n",
       "  </tbody>\n",
       "</table>\n",
       "</div>"
      ],
      "text/plain": [
       "    Administrative  Administrative_Duration  Informational_Duration  ProductRelated  ProductRelated_Duration  BounceRates  ExitRates  PageValues Month  SpecialDay  OperatingSystems   Browser  Region  TrafficType    new_VisitorType  Weekend  Revenue\n",
       "0         0.043478                 0.009943                0.000000        0.209091                 0.149491     0.033688   0.189426    0.065620   Nov         0.0          0.142857  0.083333   0.250     0.052632  Returning_Visitor     True    False\n",
       "1         0.086957                 0.013195                0.000000        0.259091                 0.173955     0.088496   0.212881    0.000000   Aug         0.0          0.142857  0.083333   0.125     0.000000  Returning_Visitor    False    False\n",
       "2         0.130435                 0.066913                0.000000        0.038636                 0.018261     0.166667   0.256173    0.000000   Dec         0.0          0.142857  0.083333   0.000     0.000000  Returning_Visitor     True    False\n",
       "3         0.043478                 0.011932                0.000000        0.097727                 0.050310     0.068182   0.128815         NaN   Nov         NaN          0.000000  0.000000   0.000     0.000000  Returning_Visitor    False    False\n",
       "4         0.217391                 0.021768                0.000000        0.302273                 0.123759     0.060390   0.146748    0.017619   Jul         0.0          0.000000  0.000000   0.000     0.157895  Returning_Visitor    False     True\n",
       "5         0.000000                 0.000000                0.000000        0.020455                 0.021352     0.333333   0.444444    0.000000   Mar         NaN          0.285714  0.083333   0.125     0.000000  Returning_Visitor    False    False\n",
       "6         0.000000                 0.000000                0.000000        0.006818                 0.003907     0.500000   0.500000    0.000000   May         0.0          0.285714  0.083333   0.625     0.631579  Returning_Visitor    False    False\n",
       "7         0.130435                 0.051003                0.000000        0.070455                 0.171502     0.000000   0.026042         NaN   Dec         NaN          0.285714  0.083333   0.000     0.473684  Returning_Visitor    False     True\n",
       "8         0.217391                 0.046324                0.000000        0.079545                 0.031532     0.000000        NaN    0.026529   May         NaN          0.142857  0.083333   0.000     0.157895  Returning_Visitor    False    False\n",
       "9         0.173913                 0.030181                0.000000        0.063636                 0.046904     0.068966   0.122742    0.000000   May         0.0          0.142857  0.083333   0.000     0.315789  Returning_Visitor     True    False\n",
       "10        0.000000                 0.000000                0.017309        0.006818                 0.004402     0.833333   0.888889    0.000000   Nov         0.0          0.000000  0.000000   0.625     0.000000  Returning_Visitor    False    False\n",
       "11        0.043478                 0.002340                0.030292        0.145455                 0.094464     0.060606   0.097222    0.000000   Nov         0.0          0.428571  0.083333   0.000     0.052632  Returning_Visitor     True    False\n",
       "12        0.000000                 0.000000                0.000000        0.050000                 0.136104     0.045455   0.066919    0.000000   May         0.0          0.285714  0.083333   0.250     0.052632  Returning_Visitor    False    False\n",
       "13        0.000000                 0.000000                0.034164        0.031818                 0.024342     0.000000   0.171875    0.000000   Feb         0.8          0.000000  0.000000   0.250     0.105263  Returning_Visitor    False    False\n",
       "14        0.000000                 0.000000                0.017309        0.120455                 0.036400     0.003774   0.032640    0.000000   Nov         0.0          0.285714  0.083333   0.000     0.526316  Returning_Visitor     True    False\n",
       "15        0.173913                 0.034392                0.000000        0.054545                 0.036511     0.012821   0.021978    0.000000   Mar         0.0          0.285714  0.083333   0.000     0.000000  Returning_Visitor    False    False\n",
       "16        0.217391                 0.129988                0.000000        0.056818                 0.048674     0.000000   0.017857    0.020678   Jul         0.0          0.142857  0.750000   0.125     0.052632        New_Visitor     True     True\n",
       "17        0.000000                 0.000000                0.000000        0.009091                      NaN          NaN   0.333333    0.000000   Dec         0.0          0.285714  0.083333   0.250     1.000000  Returning_Visitor     True    False"
      ]
     },
     "execution_count": 182,
     "metadata": {},
     "output_type": "execute_result"
    }
   ],
   "source": [
    "df.head(18)"
   ]
  },
  {
   "cell_type": "code",
   "execution_count": 183,
   "id": "6ad2f163-5b28-46cf-a124-baedc6bd0fc4",
   "metadata": {},
   "outputs": [
    {
     "data": {
      "text/plain": [
       "0     0.149491\n",
       "1     0.173955\n",
       "2     0.018261\n",
       "3     0.050310\n",
       "4     0.123759\n",
       "5     0.021352\n",
       "6     0.003907\n",
       "7     0.171502\n",
       "8     0.031532\n",
       "9     0.046904\n",
       "10    0.004402\n",
       "11    0.094464\n",
       "12    0.136104\n",
       "13    0.024342\n",
       "14    0.036400\n",
       "15    0.036511\n",
       "16    0.048674\n",
       "17    0.067494\n",
       "Name: ProductRelated_Duration, dtype: float64"
      ]
     },
     "execution_count": 183,
     "metadata": {},
     "output_type": "execute_result"
    }
   ],
   "source": [
    "df[\"ProductRelated_Duration\"].fillna(mp).head(18)"
   ]
  },
  {
   "cell_type": "markdown",
   "id": "a4b12047-8932-452b-912d-d674a5204dfc",
   "metadata": {},
   "source": [
    "### Apply Besipiele aus Pandas doku"
   ]
  },
  {
   "cell_type": "markdown",
   "id": "fbab969a-2985-4ca6-a21d-9d9c7facacf0",
   "metadata": {},
   "source": [
    " DataFrame.apply(func, axis=0, raw=False, result_type=None, args=(), **kwargs)[source]\n",
    "\n",
    "    Apply a function along an axis of the DataFrame.\n",
    "\n",
    "    Objects passed to the function are Series objects whose index is either the DataFrame’s index (axis=0) or the DataFrame’s columns (axis=1). By default (result_type=None), the final return type is inferred from the return type of the applied function. Otherwise, it depends on the result_type argument."
   ]
  },
  {
   "cell_type": "code",
   "execution_count": 184,
   "id": "c32b3699-b949-4214-b4ec-87012f3bd4e8",
   "metadata": {},
   "outputs": [
    {
     "data": {
      "text/html": [
       "<div>\n",
       "<style scoped>\n",
       "    .dataframe tbody tr th:only-of-type {\n",
       "        vertical-align: middle;\n",
       "    }\n",
       "\n",
       "    .dataframe tbody tr th {\n",
       "        vertical-align: top;\n",
       "    }\n",
       "\n",
       "    .dataframe thead th {\n",
       "        text-align: right;\n",
       "    }\n",
       "</style>\n",
       "<table border=\"1\" class=\"dataframe\">\n",
       "  <thead>\n",
       "    <tr style=\"text-align: right;\">\n",
       "      <th></th>\n",
       "      <th>A</th>\n",
       "      <th>B</th>\n",
       "    </tr>\n",
       "  </thead>\n",
       "  <tbody>\n",
       "    <tr>\n",
       "      <th>0</th>\n",
       "      <td>4</td>\n",
       "      <td>9</td>\n",
       "    </tr>\n",
       "    <tr>\n",
       "      <th>1</th>\n",
       "      <td>4</td>\n",
       "      <td>9</td>\n",
       "    </tr>\n",
       "    <tr>\n",
       "      <th>2</th>\n",
       "      <td>4</td>\n",
       "      <td>9</td>\n",
       "    </tr>\n",
       "  </tbody>\n",
       "</table>\n",
       "</div>"
      ],
      "text/plain": [
       "   A  B\n",
       "0  4  9\n",
       "1  4  9\n",
       "2  4  9"
      ]
     },
     "execution_count": 184,
     "metadata": {},
     "output_type": "execute_result"
    }
   ],
   "source": [
    "df1 = pd.DataFrame([[4, 9]] * 3, columns=['A', 'B'])\n",
    "\n",
    "df1"
   ]
  },
  {
   "cell_type": "code",
   "execution_count": 185,
   "id": "98464aad-b2fc-4e4e-9671-c191ad7d0342",
   "metadata": {},
   "outputs": [
    {
     "data": {
      "text/plain": [
       "[[4, 9], [4, 9], [4, 9]]"
      ]
     },
     "execution_count": 185,
     "metadata": {},
     "output_type": "execute_result"
    }
   ],
   "source": [
    "[[4, 9]] * 3"
   ]
  },
  {
   "cell_type": "code",
   "execution_count": 186,
   "id": "93a85364-5cf8-4ec0-b840-5f1273e707b1",
   "metadata": {},
   "outputs": [
    {
     "data": {
      "text/html": [
       "<div>\n",
       "<style scoped>\n",
       "    .dataframe tbody tr th:only-of-type {\n",
       "        vertical-align: middle;\n",
       "    }\n",
       "\n",
       "    .dataframe tbody tr th {\n",
       "        vertical-align: top;\n",
       "    }\n",
       "\n",
       "    .dataframe thead th {\n",
       "        text-align: right;\n",
       "    }\n",
       "</style>\n",
       "<table border=\"1\" class=\"dataframe\">\n",
       "  <thead>\n",
       "    <tr style=\"text-align: right;\">\n",
       "      <th></th>\n",
       "      <th>A</th>\n",
       "      <th>B</th>\n",
       "    </tr>\n",
       "  </thead>\n",
       "  <tbody>\n",
       "    <tr>\n",
       "      <th>0</th>\n",
       "      <td>2.0</td>\n",
       "      <td>3.0</td>\n",
       "    </tr>\n",
       "    <tr>\n",
       "      <th>1</th>\n",
       "      <td>2.0</td>\n",
       "      <td>3.0</td>\n",
       "    </tr>\n",
       "    <tr>\n",
       "      <th>2</th>\n",
       "      <td>2.0</td>\n",
       "      <td>3.0</td>\n",
       "    </tr>\n",
       "  </tbody>\n",
       "</table>\n",
       "</div>"
      ],
      "text/plain": [
       "     A    B\n",
       "0  2.0  3.0\n",
       "1  2.0  3.0\n",
       "2  2.0  3.0"
      ]
     },
     "execution_count": 186,
     "metadata": {},
     "output_type": "execute_result"
    }
   ],
   "source": [
    "df1.apply(np.sqrt)"
   ]
  },
  {
   "cell_type": "code",
   "execution_count": 187,
   "id": "8691a950-d978-4c42-ad3c-2c93f6808fd2",
   "metadata": {},
   "outputs": [
    {
     "data": {
      "text/html": [
       "<div>\n",
       "<style scoped>\n",
       "    .dataframe tbody tr th:only-of-type {\n",
       "        vertical-align: middle;\n",
       "    }\n",
       "\n",
       "    .dataframe tbody tr th {\n",
       "        vertical-align: top;\n",
       "    }\n",
       "\n",
       "    .dataframe thead th {\n",
       "        text-align: right;\n",
       "    }\n",
       "</style>\n",
       "<table border=\"1\" class=\"dataframe\">\n",
       "  <thead>\n",
       "    <tr style=\"text-align: right;\">\n",
       "      <th></th>\n",
       "      <th>A</th>\n",
       "      <th>B</th>\n",
       "    </tr>\n",
       "  </thead>\n",
       "  <tbody>\n",
       "    <tr>\n",
       "      <th>0</th>\n",
       "      <td>2.0</td>\n",
       "      <td>3.0</td>\n",
       "    </tr>\n",
       "    <tr>\n",
       "      <th>1</th>\n",
       "      <td>2.0</td>\n",
       "      <td>3.0</td>\n",
       "    </tr>\n",
       "    <tr>\n",
       "      <th>2</th>\n",
       "      <td>2.0</td>\n",
       "      <td>3.0</td>\n",
       "    </tr>\n",
       "  </tbody>\n",
       "</table>\n",
       "</div>"
      ],
      "text/plain": [
       "     A    B\n",
       "0  2.0  3.0\n",
       "1  2.0  3.0\n",
       "2  2.0  3.0"
      ]
     },
     "execution_count": 187,
     "metadata": {},
     "output_type": "execute_result"
    }
   ],
   "source": [
    "df1.apply(np.sqrt, axis=0)"
   ]
  },
  {
   "cell_type": "code",
   "execution_count": 188,
   "id": "5802f640-ce65-4da0-acf0-dfed53d63dd8",
   "metadata": {},
   "outputs": [
    {
     "data": {
      "text/html": [
       "<div>\n",
       "<style scoped>\n",
       "    .dataframe tbody tr th:only-of-type {\n",
       "        vertical-align: middle;\n",
       "    }\n",
       "\n",
       "    .dataframe tbody tr th {\n",
       "        vertical-align: top;\n",
       "    }\n",
       "\n",
       "    .dataframe thead th {\n",
       "        text-align: right;\n",
       "    }\n",
       "</style>\n",
       "<table border=\"1\" class=\"dataframe\">\n",
       "  <thead>\n",
       "    <tr style=\"text-align: right;\">\n",
       "      <th></th>\n",
       "      <th>A</th>\n",
       "      <th>B</th>\n",
       "    </tr>\n",
       "  </thead>\n",
       "  <tbody>\n",
       "    <tr>\n",
       "      <th>0</th>\n",
       "      <td>4</td>\n",
       "      <td>9</td>\n",
       "    </tr>\n",
       "    <tr>\n",
       "      <th>1</th>\n",
       "      <td>4</td>\n",
       "      <td>9</td>\n",
       "    </tr>\n",
       "    <tr>\n",
       "      <th>2</th>\n",
       "      <td>4</td>\n",
       "      <td>9</td>\n",
       "    </tr>\n",
       "  </tbody>\n",
       "</table>\n",
       "</div>"
      ],
      "text/plain": [
       "   A  B\n",
       "0  4  9\n",
       "1  4  9\n",
       "2  4  9"
      ]
     },
     "execution_count": 188,
     "metadata": {},
     "output_type": "execute_result"
    }
   ],
   "source": [
    "df1"
   ]
  },
  {
   "cell_type": "code",
   "execution_count": 189,
   "id": "35d1efad-19fb-4228-ac15-8e4b0424c0e4",
   "metadata": {},
   "outputs": [
    {
     "data": {
      "text/plain": [
       "A    12\n",
       "B    27\n",
       "dtype: int64"
      ]
     },
     "execution_count": 189,
     "metadata": {},
     "output_type": "execute_result"
    }
   ],
   "source": [
    "df1.apply(np.sum, axis=0)"
   ]
  },
  {
   "cell_type": "code",
   "execution_count": 190,
   "id": "17115c98-d78e-423d-bdbb-3e429d400198",
   "metadata": {},
   "outputs": [
    {
     "data": {
      "text/plain": [
       "0    13\n",
       "1    13\n",
       "2    13\n",
       "dtype: int64"
      ]
     },
     "execution_count": 190,
     "metadata": {},
     "output_type": "execute_result"
    }
   ],
   "source": [
    "df1.apply(np.sum, axis=1)"
   ]
  },
  {
   "cell_type": "code",
   "execution_count": 191,
   "id": "5da39789-c2bc-4e42-90d9-f8a11406149a",
   "metadata": {},
   "outputs": [
    {
     "data": {
      "text/html": [
       "<div>\n",
       "<style scoped>\n",
       "    .dataframe tbody tr th:only-of-type {\n",
       "        vertical-align: middle;\n",
       "    }\n",
       "\n",
       "    .dataframe tbody tr th {\n",
       "        vertical-align: top;\n",
       "    }\n",
       "\n",
       "    .dataframe thead th {\n",
       "        text-align: right;\n",
       "    }\n",
       "</style>\n",
       "<table border=\"1\" class=\"dataframe\">\n",
       "  <thead>\n",
       "    <tr style=\"text-align: right;\">\n",
       "      <th></th>\n",
       "      <th>A</th>\n",
       "      <th>B</th>\n",
       "    </tr>\n",
       "  </thead>\n",
       "  <tbody>\n",
       "    <tr>\n",
       "      <th>0</th>\n",
       "      <td>5</td>\n",
       "      <td>10</td>\n",
       "    </tr>\n",
       "    <tr>\n",
       "      <th>1</th>\n",
       "      <td>5</td>\n",
       "      <td>10</td>\n",
       "    </tr>\n",
       "    <tr>\n",
       "      <th>2</th>\n",
       "      <td>5</td>\n",
       "      <td>10</td>\n",
       "    </tr>\n",
       "  </tbody>\n",
       "</table>\n",
       "</div>"
      ],
      "text/plain": [
       "   A   B\n",
       "0  5  10\n",
       "1  5  10\n",
       "2  5  10"
      ]
     },
     "execution_count": 191,
     "metadata": {},
     "output_type": "execute_result"
    }
   ],
   "source": [
    "df1.apply(lambda x: x + 1, axis=0)"
   ]
  },
  {
   "cell_type": "code",
   "execution_count": 192,
   "id": "aa16e983-509c-432a-9317-757e2721ed48",
   "metadata": {},
   "outputs": [
    {
     "data": {
      "text/plain": [
       "0    5\n",
       "1    5\n",
       "2    5\n",
       "Name: A, dtype: int64"
      ]
     },
     "execution_count": 192,
     "metadata": {},
     "output_type": "execute_result"
    }
   ],
   "source": [
    "df1['A'].apply(lambda x: x + 1)"
   ]
  },
  {
   "cell_type": "markdown",
   "id": "bbf7e03b-2c4b-4064-abd4-11e21337de4c",
   "metadata": {},
   "source": [
    "### applymap Beispiele aus pandas Doku"
   ]
  },
  {
   "cell_type": "markdown",
   "id": "5dd6f9ba-cd3d-46e9-a18f-eb9302bacba9",
   "metadata": {},
   "source": [
    "ataFrame.applymap(func, na_action=None, **kwargs)[source]\n",
    "\n",
    "    Apply a function to a Dataframe elementwise.\n",
    "\n",
    "    This method applies a function that accepts and returns a scalar to every element of a DataFrame."
   ]
  },
  {
   "cell_type": "code",
   "execution_count": 193,
   "id": "389f49ca-f294-46b2-9a42-4eb17b19c4e3",
   "metadata": {},
   "outputs": [
    {
     "data": {
      "text/html": [
       "<div>\n",
       "<style scoped>\n",
       "    .dataframe tbody tr th:only-of-type {\n",
       "        vertical-align: middle;\n",
       "    }\n",
       "\n",
       "    .dataframe tbody tr th {\n",
       "        vertical-align: top;\n",
       "    }\n",
       "\n",
       "    .dataframe thead th {\n",
       "        text-align: right;\n",
       "    }\n",
       "</style>\n",
       "<table border=\"1\" class=\"dataframe\">\n",
       "  <thead>\n",
       "    <tr style=\"text-align: right;\">\n",
       "      <th></th>\n",
       "      <th>0</th>\n",
       "      <th>1</th>\n",
       "    </tr>\n",
       "  </thead>\n",
       "  <tbody>\n",
       "    <tr>\n",
       "      <th>0</th>\n",
       "      <td>1.000</td>\n",
       "      <td>2.120</td>\n",
       "    </tr>\n",
       "    <tr>\n",
       "      <th>1</th>\n",
       "      <td>3.356</td>\n",
       "      <td>4.567</td>\n",
       "    </tr>\n",
       "  </tbody>\n",
       "</table>\n",
       "</div>"
      ],
      "text/plain": [
       "       0      1\n",
       "0  1.000  2.120\n",
       "1  3.356  4.567"
      ]
     },
     "execution_count": 193,
     "metadata": {},
     "output_type": "execute_result"
    }
   ],
   "source": [
    "df2 = pd.DataFrame([[1, 2.12], [3.356, 4.567]])\n",
    "\n",
    "df2"
   ]
  },
  {
   "cell_type": "code",
   "execution_count": 194,
   "id": "0a2ef3fb-c307-45e9-a407-72c74bcbc9a4",
   "metadata": {},
   "outputs": [
    {
     "data": {
      "text/html": [
       "<div>\n",
       "<style scoped>\n",
       "    .dataframe tbody tr th:only-of-type {\n",
       "        vertical-align: middle;\n",
       "    }\n",
       "\n",
       "    .dataframe tbody tr th {\n",
       "        vertical-align: top;\n",
       "    }\n",
       "\n",
       "    .dataframe thead th {\n",
       "        text-align: right;\n",
       "    }\n",
       "</style>\n",
       "<table border=\"1\" class=\"dataframe\">\n",
       "  <thead>\n",
       "    <tr style=\"text-align: right;\">\n",
       "      <th></th>\n",
       "      <th>0</th>\n",
       "      <th>1</th>\n",
       "    </tr>\n",
       "  </thead>\n",
       "  <tbody>\n",
       "    <tr>\n",
       "      <th>0</th>\n",
       "      <td>3</td>\n",
       "      <td>4</td>\n",
       "    </tr>\n",
       "    <tr>\n",
       "      <th>1</th>\n",
       "      <td>5</td>\n",
       "      <td>5</td>\n",
       "    </tr>\n",
       "  </tbody>\n",
       "</table>\n",
       "</div>"
      ],
      "text/plain": [
       "   0  1\n",
       "0  3  4\n",
       "1  5  5"
      ]
     },
     "execution_count": 194,
     "metadata": {},
     "output_type": "execute_result"
    }
   ],
   "source": [
    "df2.applymap(lambda x: len(str(x)))"
   ]
  },
  {
   "cell_type": "code",
   "execution_count": 195,
   "id": "710c0f44-89bd-49b9-9dc7-f6845b0b383e",
   "metadata": {},
   "outputs": [
    {
     "data": {
      "text/html": [
       "<div>\n",
       "<style scoped>\n",
       "    .dataframe tbody tr th:only-of-type {\n",
       "        vertical-align: middle;\n",
       "    }\n",
       "\n",
       "    .dataframe tbody tr th {\n",
       "        vertical-align: top;\n",
       "    }\n",
       "\n",
       "    .dataframe thead th {\n",
       "        text-align: right;\n",
       "    }\n",
       "</style>\n",
       "<table border=\"1\" class=\"dataframe\">\n",
       "  <thead>\n",
       "    <tr style=\"text-align: right;\">\n",
       "      <th></th>\n",
       "      <th>0</th>\n",
       "      <th>1</th>\n",
       "    </tr>\n",
       "  </thead>\n",
       "  <tbody>\n",
       "    <tr>\n",
       "      <th>0</th>\n",
       "      <td>&lt;NA&gt;</td>\n",
       "      <td>2.120</td>\n",
       "    </tr>\n",
       "    <tr>\n",
       "      <th>1</th>\n",
       "      <td>3.356</td>\n",
       "      <td>4.567</td>\n",
       "    </tr>\n",
       "  </tbody>\n",
       "</table>\n",
       "</div>"
      ],
      "text/plain": [
       "       0      1\n",
       "0   <NA>  2.120\n",
       "1  3.356  4.567"
      ]
     },
     "execution_count": 195,
     "metadata": {},
     "output_type": "execute_result"
    }
   ],
   "source": [
    "#Like Series.map, NA values can be ignored:\n",
    "df_copy = df2.copy()\n",
    "df_copy.iloc[0, 0] = pd.NA\n",
    "\n",
    "df_copy"
   ]
  },
  {
   "cell_type": "code",
   "execution_count": 196,
   "id": "43c2d270-2fba-4c64-b7bf-7cba7be24394",
   "metadata": {},
   "outputs": [
    {
     "data": {
      "text/html": [
       "<div>\n",
       "<style scoped>\n",
       "    .dataframe tbody tr th:only-of-type {\n",
       "        vertical-align: middle;\n",
       "    }\n",
       "\n",
       "    .dataframe tbody tr th {\n",
       "        vertical-align: top;\n",
       "    }\n",
       "\n",
       "    .dataframe thead th {\n",
       "        text-align: right;\n",
       "    }\n",
       "</style>\n",
       "<table border=\"1\" class=\"dataframe\">\n",
       "  <thead>\n",
       "    <tr style=\"text-align: right;\">\n",
       "      <th></th>\n",
       "      <th>0</th>\n",
       "      <th>1</th>\n",
       "    </tr>\n",
       "  </thead>\n",
       "  <tbody>\n",
       "    <tr>\n",
       "      <th>0</th>\n",
       "      <td>&lt;NA&gt;</td>\n",
       "      <td>4</td>\n",
       "    </tr>\n",
       "    <tr>\n",
       "      <th>1</th>\n",
       "      <td>5</td>\n",
       "      <td>5</td>\n",
       "    </tr>\n",
       "  </tbody>\n",
       "</table>\n",
       "</div>"
      ],
      "text/plain": [
       "      0  1\n",
       "0  <NA>  4\n",
       "1     5  5"
      ]
     },
     "execution_count": 196,
     "metadata": {},
     "output_type": "execute_result"
    }
   ],
   "source": [
    "df_copy.applymap(lambda x: len(str(x)), na_action='ignore')"
   ]
  },
  {
   "cell_type": "markdown",
   "id": "8ae0b019-4690-47c9-8fd7-024c6503e457",
   "metadata": {},
   "source": [
    "Note that a vectorized version of func often exists, which will be much faster. You could square each number elementwise."
   ]
  },
  {
   "cell_type": "code",
   "execution_count": 197,
   "id": "1f8ce21c-74bd-4380-8f8d-3613536cc3e7",
   "metadata": {},
   "outputs": [
    {
     "data": {
      "text/html": [
       "<div>\n",
       "<style scoped>\n",
       "    .dataframe tbody tr th:only-of-type {\n",
       "        vertical-align: middle;\n",
       "    }\n",
       "\n",
       "    .dataframe tbody tr th {\n",
       "        vertical-align: top;\n",
       "    }\n",
       "\n",
       "    .dataframe thead th {\n",
       "        text-align: right;\n",
       "    }\n",
       "</style>\n",
       "<table border=\"1\" class=\"dataframe\">\n",
       "  <thead>\n",
       "    <tr style=\"text-align: right;\">\n",
       "      <th></th>\n",
       "      <th>0</th>\n",
       "      <th>1</th>\n",
       "    </tr>\n",
       "  </thead>\n",
       "  <tbody>\n",
       "    <tr>\n",
       "      <th>0</th>\n",
       "      <td>1.000000</td>\n",
       "      <td>4.494400</td>\n",
       "    </tr>\n",
       "    <tr>\n",
       "      <th>1</th>\n",
       "      <td>11.262736</td>\n",
       "      <td>20.857489</td>\n",
       "    </tr>\n",
       "  </tbody>\n",
       "</table>\n",
       "</div>"
      ],
      "text/plain": [
       "           0          1\n",
       "0   1.000000   4.494400\n",
       "1  11.262736  20.857489"
      ]
     },
     "execution_count": 197,
     "metadata": {},
     "output_type": "execute_result"
    }
   ],
   "source": [
    "df2.applymap(lambda x: x**2)"
   ]
  },
  {
   "cell_type": "markdown",
   "id": "ecbe64c5-f21e-4ef8-aa3a-26855283f1bc",
   "metadata": {},
   "source": [
    "But it’s better to avoid applymap in that case."
   ]
  },
  {
   "cell_type": "code",
   "execution_count": 198,
   "id": "ca665198-21c2-4d70-a925-ba721f92dd79",
   "metadata": {},
   "outputs": [
    {
     "data": {
      "text/html": [
       "<div>\n",
       "<style scoped>\n",
       "    .dataframe tbody tr th:only-of-type {\n",
       "        vertical-align: middle;\n",
       "    }\n",
       "\n",
       "    .dataframe tbody tr th {\n",
       "        vertical-align: top;\n",
       "    }\n",
       "\n",
       "    .dataframe thead th {\n",
       "        text-align: right;\n",
       "    }\n",
       "</style>\n",
       "<table border=\"1\" class=\"dataframe\">\n",
       "  <thead>\n",
       "    <tr style=\"text-align: right;\">\n",
       "      <th></th>\n",
       "      <th>0</th>\n",
       "      <th>1</th>\n",
       "    </tr>\n",
       "  </thead>\n",
       "  <tbody>\n",
       "    <tr>\n",
       "      <th>0</th>\n",
       "      <td>1.000000</td>\n",
       "      <td>4.494400</td>\n",
       "    </tr>\n",
       "    <tr>\n",
       "      <th>1</th>\n",
       "      <td>11.262736</td>\n",
       "      <td>20.857489</td>\n",
       "    </tr>\n",
       "  </tbody>\n",
       "</table>\n",
       "</div>"
      ],
      "text/plain": [
       "           0          1\n",
       "0   1.000000   4.494400\n",
       "1  11.262736  20.857489"
      ]
     },
     "execution_count": 198,
     "metadata": {},
     "output_type": "execute_result"
    }
   ],
   "source": [
    "df2 ** 2"
   ]
  },
  {
   "cell_type": "markdown",
   "id": "7dd2add4-74f2-4025-bdb7-9f413e102f12",
   "metadata": {},
   "source": [
    "## 14.   Print out the index of rows where values of **“OperatingSystems”**, **“Browser”** and **“TrafficType”** columns match."
   ]
  },
  {
   "cell_type": "code",
   "execution_count": 199,
   "id": "bdf098d7-669a-478a-b808-8029492fc2db",
   "metadata": {},
   "outputs": [
    {
     "data": {
      "text/html": [
       "<div>\n",
       "<style scoped>\n",
       "    .dataframe tbody tr th:only-of-type {\n",
       "        vertical-align: middle;\n",
       "    }\n",
       "\n",
       "    .dataframe tbody tr th {\n",
       "        vertical-align: top;\n",
       "    }\n",
       "\n",
       "    .dataframe thead th {\n",
       "        text-align: right;\n",
       "    }\n",
       "</style>\n",
       "<table border=\"1\" class=\"dataframe\">\n",
       "  <thead>\n",
       "    <tr style=\"text-align: right;\">\n",
       "      <th></th>\n",
       "      <th>Administrative</th>\n",
       "      <th>Administrative_Duration</th>\n",
       "      <th>Informational_Duration</th>\n",
       "      <th>ProductRelated</th>\n",
       "      <th>ProductRelated_Duration</th>\n",
       "      <th>BounceRates</th>\n",
       "      <th>ExitRates</th>\n",
       "      <th>PageValues</th>\n",
       "      <th>Month</th>\n",
       "      <th>SpecialDay</th>\n",
       "      <th>OperatingSystems</th>\n",
       "      <th>Browser</th>\n",
       "      <th>Region</th>\n",
       "      <th>TrafficType</th>\n",
       "      <th>new_VisitorType</th>\n",
       "      <th>Weekend</th>\n",
       "      <th>Revenue</th>\n",
       "    </tr>\n",
       "  </thead>\n",
       "  <tbody>\n",
       "    <tr>\n",
       "      <th>0</th>\n",
       "      <td>0.043478</td>\n",
       "      <td>0.009943</td>\n",
       "      <td>0.0</td>\n",
       "      <td>0.209091</td>\n",
       "      <td>0.149491</td>\n",
       "      <td>0.033688</td>\n",
       "      <td>0.189426</td>\n",
       "      <td>0.065620</td>\n",
       "      <td>Nov</td>\n",
       "      <td>0.0</td>\n",
       "      <td>0.142857</td>\n",
       "      <td>0.083333</td>\n",
       "      <td>0.250</td>\n",
       "      <td>0.052632</td>\n",
       "      <td>Returning_Visitor</td>\n",
       "      <td>True</td>\n",
       "      <td>False</td>\n",
       "    </tr>\n",
       "    <tr>\n",
       "      <th>1</th>\n",
       "      <td>0.086957</td>\n",
       "      <td>0.013195</td>\n",
       "      <td>0.0</td>\n",
       "      <td>0.259091</td>\n",
       "      <td>0.173955</td>\n",
       "      <td>0.088496</td>\n",
       "      <td>0.212881</td>\n",
       "      <td>0.000000</td>\n",
       "      <td>Aug</td>\n",
       "      <td>0.0</td>\n",
       "      <td>0.142857</td>\n",
       "      <td>0.083333</td>\n",
       "      <td>0.125</td>\n",
       "      <td>0.000000</td>\n",
       "      <td>Returning_Visitor</td>\n",
       "      <td>False</td>\n",
       "      <td>False</td>\n",
       "    </tr>\n",
       "    <tr>\n",
       "      <th>2</th>\n",
       "      <td>0.130435</td>\n",
       "      <td>0.066913</td>\n",
       "      <td>0.0</td>\n",
       "      <td>0.038636</td>\n",
       "      <td>0.018261</td>\n",
       "      <td>0.166667</td>\n",
       "      <td>0.256173</td>\n",
       "      <td>0.000000</td>\n",
       "      <td>Dec</td>\n",
       "      <td>0.0</td>\n",
       "      <td>0.142857</td>\n",
       "      <td>0.083333</td>\n",
       "      <td>0.000</td>\n",
       "      <td>0.000000</td>\n",
       "      <td>Returning_Visitor</td>\n",
       "      <td>True</td>\n",
       "      <td>False</td>\n",
       "    </tr>\n",
       "    <tr>\n",
       "      <th>3</th>\n",
       "      <td>0.043478</td>\n",
       "      <td>0.011932</td>\n",
       "      <td>0.0</td>\n",
       "      <td>0.097727</td>\n",
       "      <td>0.050310</td>\n",
       "      <td>0.068182</td>\n",
       "      <td>0.128815</td>\n",
       "      <td>NaN</td>\n",
       "      <td>Nov</td>\n",
       "      <td>NaN</td>\n",
       "      <td>0.000000</td>\n",
       "      <td>0.000000</td>\n",
       "      <td>0.000</td>\n",
       "      <td>0.000000</td>\n",
       "      <td>Returning_Visitor</td>\n",
       "      <td>False</td>\n",
       "      <td>False</td>\n",
       "    </tr>\n",
       "    <tr>\n",
       "      <th>4</th>\n",
       "      <td>0.217391</td>\n",
       "      <td>0.021768</td>\n",
       "      <td>0.0</td>\n",
       "      <td>0.302273</td>\n",
       "      <td>0.123759</td>\n",
       "      <td>0.060390</td>\n",
       "      <td>0.146748</td>\n",
       "      <td>0.017619</td>\n",
       "      <td>Jul</td>\n",
       "      <td>0.0</td>\n",
       "      <td>0.000000</td>\n",
       "      <td>0.000000</td>\n",
       "      <td>0.000</td>\n",
       "      <td>0.157895</td>\n",
       "      <td>Returning_Visitor</td>\n",
       "      <td>False</td>\n",
       "      <td>True</td>\n",
       "    </tr>\n",
       "  </tbody>\n",
       "</table>\n",
       "</div>"
      ],
      "text/plain": [
       "   Administrative  Administrative_Duration  Informational_Duration  ProductRelated  ProductRelated_Duration  BounceRates  ExitRates  PageValues Month  SpecialDay  OperatingSystems   Browser  Region  TrafficType    new_VisitorType  Weekend  Revenue\n",
       "0        0.043478                 0.009943                     0.0        0.209091                 0.149491     0.033688   0.189426    0.065620   Nov         0.0          0.142857  0.083333   0.250     0.052632  Returning_Visitor     True    False\n",
       "1        0.086957                 0.013195                     0.0        0.259091                 0.173955     0.088496   0.212881    0.000000   Aug         0.0          0.142857  0.083333   0.125     0.000000  Returning_Visitor    False    False\n",
       "2        0.130435                 0.066913                     0.0        0.038636                 0.018261     0.166667   0.256173    0.000000   Dec         0.0          0.142857  0.083333   0.000     0.000000  Returning_Visitor     True    False\n",
       "3        0.043478                 0.011932                     0.0        0.097727                 0.050310     0.068182   0.128815         NaN   Nov         NaN          0.000000  0.000000   0.000     0.000000  Returning_Visitor    False    False\n",
       "4        0.217391                 0.021768                     0.0        0.302273                 0.123759     0.060390   0.146748    0.017619   Jul         0.0          0.000000  0.000000   0.000     0.157895  Returning_Visitor    False     True"
      ]
     },
     "execution_count": 199,
     "metadata": {},
     "output_type": "execute_result"
    }
   ],
   "source": [
    "df.head()"
   ]
  },
  {
   "cell_type": "code",
   "execution_count": 200,
   "id": "f3542451-2304-4b63-8d89-0bfc4655e4eb",
   "metadata": {},
   "outputs": [
    {
     "data": {
      "text/plain": [
       "0    0.142857\n",
       "1    0.142857\n",
       "2    0.142857\n",
       "3    0.000000\n",
       "4    0.000000\n",
       "Name: OperatingSystems, dtype: float64"
      ]
     },
     "execution_count": 200,
     "metadata": {},
     "output_type": "execute_result"
    }
   ],
   "source": [
    "df['OperatingSystems'].head()"
   ]
  },
  {
   "cell_type": "code",
   "execution_count": 201,
   "id": "2ce231d1-7a8d-4beb-abc2-86e97761fde4",
   "metadata": {},
   "outputs": [
    {
     "data": {
      "text/plain": [
       "0    0.083333\n",
       "1    0.083333\n",
       "2    0.083333\n",
       "Name: Browser, dtype: float64"
      ]
     },
     "execution_count": 201,
     "metadata": {},
     "output_type": "execute_result"
    }
   ],
   "source": [
    "df['Browser'].head(3)"
   ]
  },
  {
   "cell_type": "code",
   "execution_count": 202,
   "id": "5b58fa08-f1dd-40ee-8011-3980488854fb",
   "metadata": {},
   "outputs": [
    {
     "data": {
      "text/plain": [
       "0    0.052632\n",
       "1    0.000000\n",
       "2    0.000000\n",
       "Name: TrafficType, dtype: float64"
      ]
     },
     "execution_count": 202,
     "metadata": {},
     "output_type": "execute_result"
    }
   ],
   "source": [
    "df['TrafficType'].head(3)"
   ]
  },
  {
   "cell_type": "code",
   "execution_count": 203,
   "id": "7f84f8eb-5e78-4775-a6c4-4b4ba82c881a",
   "metadata": {},
   "outputs": [
    {
     "name": "stdout",
     "output_type": "stream",
     "text": [
      "<class 'pandas.core.frame.DataFrame'>\n",
      "RangeIndex: 3699 entries, 0 to 3698\n",
      "Data columns (total 17 columns):\n",
      " #   Column                   Non-Null Count  Dtype  \n",
      "---  ------                   --------------  -----  \n",
      " 0   Administrative           3699 non-null   float64\n",
      " 1   Administrative_Duration  3699 non-null   float64\n",
      " 2   Informational_Duration   3699 non-null   float64\n",
      " 3   ProductRelated           3699 non-null   float64\n",
      " 4   ProductRelated_Duration  3499 non-null   float64\n",
      " 5   BounceRates              3528 non-null   float64\n",
      " 6   ExitRates                3517 non-null   float64\n",
      " 7   PageValues               3538 non-null   float64\n",
      " 8   Month                    3699 non-null   object \n",
      " 9   SpecialDay               3509 non-null   float64\n",
      " 10  OperatingSystems         3699 non-null   float64\n",
      " 11  Browser                  3699 non-null   float64\n",
      " 12  Region                   3699 non-null   float64\n",
      " 13  TrafficType              3699 non-null   float64\n",
      " 14  new_VisitorType          3699 non-null   object \n",
      " 15  Weekend                  3699 non-null   bool   \n",
      " 16  Revenue                  3699 non-null   bool   \n",
      "dtypes: bool(2), float64(13), object(2)\n",
      "memory usage: 440.8+ KB\n"
     ]
    }
   ],
   "source": [
    "df.info()"
   ]
  },
  {
   "cell_type": "code",
   "execution_count": 204,
   "id": "4985b1f2-d13e-408d-80c0-1b45c5e50e57",
   "metadata": {},
   "outputs": [
    {
     "data": {
      "text/plain": [
       "0       False\n",
       "1       False\n",
       "2       False\n",
       "3        True\n",
       "4       False\n",
       "        ...  \n",
       "3694    False\n",
       "3695    False\n",
       "3696    False\n",
       "3697    False\n",
       "3698    False\n",
       "Length: 3699, dtype: bool"
      ]
     },
     "execution_count": 204,
     "metadata": {},
     "output_type": "execute_result"
    }
   ],
   "source": [
    "cond = (df['OperatingSystems'] == df['Browser']) & (df['OperatingSystems'] == df['TrafficType'])\n",
    "cond"
   ]
  },
  {
   "cell_type": "code",
   "execution_count": 205,
   "id": "a8b723a1-080f-418f-8d3d-678610db44cc",
   "metadata": {},
   "outputs": [
    {
     "name": "stdout",
     "output_type": "stream",
     "text": [
      "Int64Index([3, 10, 106, 115, 141, 169, 212, 253, 272, 280, 297, 380, 429, 436, 485, 508, 514, 528, 558, 562, 581, 622, 662, 673, 708, 721, 760, 767, 772, 824, 833, 872, 941, 1047, 1103, 1126, 1140, 1154, 1169, 1201, 1203, 1213, 1244, 1303, 1384, 1445, 1446, 1454, 1633, 1641, 1653, 1655, 1679, 1697, 1754, 1843, 1867, 1906, 1910, 1932, 2000, 2001, 2006, 2078, 2195, 2289, 2391, 2443, 2496, 2600, 2626, 2633, 2803, 2927, 2943, 2962, 3071, 3104, 3125, 3159, 3173, 3208, 3253, 3302, 3367, 3410, 3437, 3485, 3500, 3606, 3614, 3624, 3665, 3671, 3682], dtype='int64')\n"
     ]
    }
   ],
   "source": [
    "print(df[cond].index)"
   ]
  },
  {
   "cell_type": "markdown",
   "id": "7b497328-6b0c-4dad-a415-5a8589f875b5",
   "metadata": {},
   "source": [
    "## 15.   Calculate and output the value of the correlation between the   \"**Informational_Duration**\" and \"**ProductRelated_Duration**\" features."
   ]
  },
  {
   "cell_type": "code",
   "execution_count": 206,
   "id": "f68a6647-91d5-4b1a-9d94-31fa8bde10d0",
   "metadata": {},
   "outputs": [
    {
     "data": {
      "text/html": [
       "<div>\n",
       "<style scoped>\n",
       "    .dataframe tbody tr th:only-of-type {\n",
       "        vertical-align: middle;\n",
       "    }\n",
       "\n",
       "    .dataframe tbody tr th {\n",
       "        vertical-align: top;\n",
       "    }\n",
       "\n",
       "    .dataframe thead th {\n",
       "        text-align: right;\n",
       "    }\n",
       "</style>\n",
       "<table border=\"1\" class=\"dataframe\">\n",
       "  <thead>\n",
       "    <tr style=\"text-align: right;\">\n",
       "      <th></th>\n",
       "      <th>Informational_Duration</th>\n",
       "      <th>ProductRelated_Duration</th>\n",
       "    </tr>\n",
       "  </thead>\n",
       "  <tbody>\n",
       "    <tr>\n",
       "      <th>0</th>\n",
       "      <td>0.0</td>\n",
       "      <td>0.149491</td>\n",
       "    </tr>\n",
       "    <tr>\n",
       "      <th>1</th>\n",
       "      <td>0.0</td>\n",
       "      <td>0.173955</td>\n",
       "    </tr>\n",
       "    <tr>\n",
       "      <th>2</th>\n",
       "      <td>0.0</td>\n",
       "      <td>0.018261</td>\n",
       "    </tr>\n",
       "    <tr>\n",
       "      <th>3</th>\n",
       "      <td>0.0</td>\n",
       "      <td>0.050310</td>\n",
       "    </tr>\n",
       "    <tr>\n",
       "      <th>4</th>\n",
       "      <td>0.0</td>\n",
       "      <td>0.123759</td>\n",
       "    </tr>\n",
       "  </tbody>\n",
       "</table>\n",
       "</div>"
      ],
      "text/plain": [
       "   Informational_Duration  ProductRelated_Duration\n",
       "0                     0.0                 0.149491\n",
       "1                     0.0                 0.173955\n",
       "2                     0.0                 0.018261\n",
       "3                     0.0                 0.050310\n",
       "4                     0.0                 0.123759"
      ]
     },
     "execution_count": 206,
     "metadata": {},
     "output_type": "execute_result"
    }
   ],
   "source": [
    "df[['Informational_Duration', 'ProductRelated_Duration']].head()"
   ]
  },
  {
   "cell_type": "code",
   "execution_count": 207,
   "id": "0549b231-1ebe-48fc-9f85-57bf1d4d5bab",
   "metadata": {},
   "outputs": [
    {
     "data": {
      "text/plain": [
       "0.2814438086769655"
      ]
     },
     "execution_count": 207,
     "metadata": {},
     "output_type": "execute_result"
    }
   ],
   "source": [
    "df['Informational_Duration'].corr(df['ProductRelated_Duration'])"
   ]
  },
  {
   "cell_type": "markdown",
   "id": "422db7fc-8138-4cbe-a997-b8f259db8d48",
   "metadata": {},
   "source": [
    "## 16.   In the **“Browser”** feature, keep only top 4 most frequent values as it is and replace the other values with the ***“Other”*** label."
   ]
  },
  {
   "cell_type": "code",
   "execution_count": 208,
   "id": "0665db0b-0b28-4bd4-b1fb-2401d0cea087",
   "metadata": {},
   "outputs": [
    {
     "data": {
      "text/plain": [
       "0.083333    2377\n",
       "0.000000     758\n",
       "0.250000     207\n",
       "0.333333     164\n",
       "0.416667      47\n",
       "0.750000      45\n",
       "0.583333      37\n",
       "0.166667      31\n",
       "1.000000      18\n",
       "0.500000      14\n",
       "0.916667       1\n",
       "Name: Browser, dtype: int64"
      ]
     },
     "execution_count": 208,
     "metadata": {},
     "output_type": "execute_result"
    }
   ],
   "source": [
    "df['Browser'].value_counts()"
   ]
  },
  {
   "cell_type": "code",
   "execution_count": 228,
   "id": "58ffde1f-2df7-4335-8a74-1694a0d3e129",
   "metadata": {},
   "outputs": [
    {
     "data": {
      "text/plain": [
       "[0.08333333333333333,\n",
       " 0.0,\n",
       " 0.25,\n",
       " 0.3333333333333333,\n",
       " 0.4166666666666667,\n",
       " 0.75,\n",
       " 0.5833333333333334,\n",
       " 0.16666666666666666,\n",
       " 1.0,\n",
       " 0.5,\n",
       " 0.9166666666666666]"
      ]
     },
     "execution_count": 228,
     "metadata": {},
     "output_type": "execute_result"
    }
   ],
   "source": [
    "top4_idx = list(df['Browser'].value_counts().index.values)\n",
    "top4_idx"
   ]
  },
  {
   "cell_type": "code",
   "execution_count": 230,
   "id": "2615dd32-7920-4a40-ae6c-6dd69eb346ef",
   "metadata": {},
   "outputs": [
    {
     "data": {
      "text/plain": [
       "[0.08333333333333333, 0.0, 0.25, 0.3333333333333333]"
      ]
     },
     "execution_count": 230,
     "metadata": {},
     "output_type": "execute_result"
    }
   ],
   "source": [
    "top4 = top4_idx[:4]\n",
    "top4"
   ]
  },
  {
   "cell_type": "code",
   "execution_count": 212,
   "id": "4d6eb268-c4c0-4448-ae7c-978a766a9e62",
   "metadata": {},
   "outputs": [
    {
     "data": {
      "text/plain": [
       "\"\\ncond16 = df['Browser'].any(top4)\\ncond16\\n\\nführt zu TypeError: unhashable type: 'list'\\n\""
      ]
     },
     "execution_count": 212,
     "metadata": {},
     "output_type": "execute_result"
    }
   ],
   "source": [
    "'''\n",
    "cond16 = df['Browser'].any(top4)\n",
    "cond16\n",
    "\n",
    "führt zu TypeError: unhashable type: 'list'\n",
    "'''"
   ]
  },
  {
   "cell_type": "code",
   "execution_count": 231,
   "id": "7fc882d2-d625-4ae4-a3e3-62d26dbd922c",
   "metadata": {},
   "outputs": [],
   "source": [
    "def test_func(x):\n",
    "    if x not in top4:\n",
    "        return \"Other\"\n",
    "    else: \n",
    "        return x\n",
    "\n"
   ]
  },
  {
   "cell_type": "code",
   "execution_count": 214,
   "id": "6d03aafb-221d-400d-ba7c-1402b5b08ca6",
   "metadata": {},
   "outputs": [
    {
     "data": {
      "text/plain": [
       "'Other'"
      ]
     },
     "execution_count": 214,
     "metadata": {},
     "output_type": "execute_result"
    }
   ],
   "source": [
    "test_func(1)"
   ]
  },
  {
   "cell_type": "code",
   "execution_count": 232,
   "id": "e0350a89-9486-4802-b0b6-5127ef55155e",
   "metadata": {},
   "outputs": [
    {
     "data": {
      "text/plain": [
       "0.25"
      ]
     },
     "execution_count": 232,
     "metadata": {},
     "output_type": "execute_result"
    }
   ],
   "source": [
    "test_func(0.25)"
   ]
  },
  {
   "cell_type": "code",
   "execution_count": 233,
   "id": "bb041409-ca08-403b-a004-d51f73cdea77",
   "metadata": {},
   "outputs": [
    {
     "data": {
      "text/plain": [
       "0.08333333333333333    2377\n",
       "0.0                     758\n",
       "0.25                    207\n",
       "Other                   193\n",
       "0.3333333333333333      164\n",
       "Name: Browser, dtype: int64"
      ]
     },
     "execution_count": 233,
     "metadata": {},
     "output_type": "execute_result"
    }
   ],
   "source": [
    "df['Browser'].apply(test_func).value_counts()"
   ]
  },
  {
   "cell_type": "code",
   "execution_count": 234,
   "id": "448ab20e-b2ce-4ec1-9750-7313c37973eb",
   "metadata": {},
   "outputs": [
    {
     "data": {
      "text/plain": [
       "0.08333333333333333    2377\n",
       "0.0                     758\n",
       "0.25                    207\n",
       "Other                   193\n",
       "0.3333333333333333      164\n",
       "Name: Browser, dtype: int64"
      ]
     },
     "execution_count": 234,
     "metadata": {},
     "output_type": "execute_result"
    }
   ],
   "source": [
    "h = df['Browser'].apply(lambda x: x if x in [0.08333333333333333, 0.0, 0.25, 0.3333333333333333] else \"Other\")\n",
    "h.value_counts()"
   ]
  },
  {
   "cell_type": "code",
   "execution_count": 235,
   "id": "de626faa-e4db-482e-8802-14d9fc9264a8",
   "metadata": {},
   "outputs": [
    {
     "name": "stdout",
     "output_type": "stream",
     "text": [
      "  first_name name_match\n",
      "0        Jon   Mismatch\n",
      "1       Bill      Match\n",
      "2      Maria   Mismatch\n",
      "3       Emma   Mismatch\n"
     ]
    }
   ],
   "source": [
    "names = {'first_name': ['Jon','Bill','Maria','Emma']}\n",
    "h16 = pd.DataFrame(names,columns=['first_name'])\n",
    "\n",
    "h16['name_match'] = h16['first_name'].apply(lambda x: 'Match' if x == 'Bill' else 'Mismatch')\n",
    "\n",
    "print (h16)"
   ]
  },
  {
   "cell_type": "code",
   "execution_count": 237,
   "id": "091ff59c-b4ab-4fa7-8fa0-c185a12a69a3",
   "metadata": {},
   "outputs": [
    {
     "data": {
      "text/plain": [
       "True"
      ]
     },
     "execution_count": 237,
     "metadata": {},
     "output_type": "execute_result"
    }
   ],
   "source": [
    "0.25 in [0.08333333333333333, 0.0, 0.25, 0.3333333333333333]"
   ]
  },
  {
   "cell_type": "code",
   "execution_count": 220,
   "id": "bd930788-57f1-40ad-bcbc-77f8fc33a7bb",
   "metadata": {},
   "outputs": [
    {
     "data": {
      "text/html": [
       "<div>\n",
       "<style scoped>\n",
       "    .dataframe tbody tr th:only-of-type {\n",
       "        vertical-align: middle;\n",
       "    }\n",
       "\n",
       "    .dataframe tbody tr th {\n",
       "        vertical-align: top;\n",
       "    }\n",
       "\n",
       "    .dataframe thead th {\n",
       "        text-align: right;\n",
       "    }\n",
       "</style>\n",
       "<table border=\"1\" class=\"dataframe\">\n",
       "  <thead>\n",
       "    <tr style=\"text-align: right;\">\n",
       "      <th></th>\n",
       "      <th>set_of_numbers</th>\n",
       "    </tr>\n",
       "  </thead>\n",
       "  <tbody>\n",
       "    <tr>\n",
       "      <th>0</th>\n",
       "      <td>1</td>\n",
       "    </tr>\n",
       "    <tr>\n",
       "      <th>1</th>\n",
       "      <td>207</td>\n",
       "    </tr>\n",
       "    <tr>\n",
       "      <th>2</th>\n",
       "      <td>3</td>\n",
       "    </tr>\n",
       "    <tr>\n",
       "      <th>3</th>\n",
       "      <td>4</td>\n",
       "    </tr>\n",
       "    <tr>\n",
       "      <th>4</th>\n",
       "      <td>5</td>\n",
       "    </tr>\n",
       "    <tr>\n",
       "      <th>5</th>\n",
       "      <td>6</td>\n",
       "    </tr>\n",
       "    <tr>\n",
       "      <th>6</th>\n",
       "      <td>7</td>\n",
       "    </tr>\n",
       "    <tr>\n",
       "      <th>7</th>\n",
       "      <td>8</td>\n",
       "    </tr>\n",
       "    <tr>\n",
       "      <th>8</th>\n",
       "      <td>9</td>\n",
       "    </tr>\n",
       "    <tr>\n",
       "      <th>9</th>\n",
       "      <td>2377</td>\n",
       "    </tr>\n",
       "  </tbody>\n",
       "</table>\n",
       "</div>"
      ],
      "text/plain": [
       "   set_of_numbers\n",
       "0               1\n",
       "1             207\n",
       "2               3\n",
       "3               4\n",
       "4               5\n",
       "5               6\n",
       "6               7\n",
       "7               8\n",
       "8               9\n",
       "9            2377"
      ]
     },
     "execution_count": 220,
     "metadata": {},
     "output_type": "execute_result"
    }
   ],
   "source": [
    "numbers = {'set_of_numbers': [1,207,3,4,5,6,7,8,9,2377]}\n",
    "h16a = pd.DataFrame(numbers,columns=['set_of_numbers'])\n",
    "h16a"
   ]
  },
  {
   "cell_type": "code",
   "execution_count": 221,
   "id": "a39624aa-cd00-4607-82ec-61c0586de8f4",
   "metadata": {},
   "outputs": [
    {
     "data": {
      "text/plain": [
       "0     True\n",
       "1    False\n",
       "2     True\n",
       "3     True\n",
       "4    False\n",
       "5    False\n",
       "6    False\n",
       "7    False\n",
       "8    False\n",
       "9    False\n",
       "Name: set_of_numbers, dtype: object"
      ]
     },
     "execution_count": 221,
     "metadata": {},
     "output_type": "execute_result"
    }
   ],
   "source": [
    "h16a['set_of_numbers'].apply(lambda x: 'True' if x <= 4 else 'False')"
   ]
  },
  {
   "cell_type": "code",
   "execution_count": 222,
   "id": "f2e001b5-02c5-413d-928b-86f6cbb4d2c1",
   "metadata": {},
   "outputs": [
    {
     "data": {
      "text/plain": [
       "Other    8\n",
       "2377     1\n",
       "207      1\n",
       "Name: set_of_numbers, dtype: int64"
      ]
     },
     "execution_count": 222,
     "metadata": {},
     "output_type": "execute_result"
    }
   ],
   "source": [
    "h16a['set_of_numbers'].apply(lambda x: x if x in [2377, 758, 207, 164] else \"Other\").value_counts()"
   ]
  },
  {
   "cell_type": "code",
   "execution_count": 223,
   "id": "8eb684a6-6120-4130-9287-b0cf9a119c4e",
   "metadata": {},
   "outputs": [
    {
     "data": {
      "text/plain": [
       "Other    3699\n",
       "Name: Browser, dtype: int64"
      ]
     },
     "execution_count": 223,
     "metadata": {},
     "output_type": "execute_result"
    }
   ],
   "source": [
    "df['Browser'].apply(lambda x: x if x in [2377, 758, 207, 164] else \"Other\").value_counts()"
   ]
  },
  {
   "cell_type": "code",
   "execution_count": 224,
   "id": "5c950349-5555-4b06-94ae-621cdac676b5",
   "metadata": {},
   "outputs": [
    {
     "data": {
      "text/plain": [
       "pandas.core.series.Series"
      ]
     },
     "execution_count": 224,
     "metadata": {},
     "output_type": "execute_result"
    }
   ],
   "source": [
    "type(df['Browser'])"
   ]
  },
  {
   "cell_type": "markdown",
   "id": "716e4f2c-ea8a-423f-bb6f-129492144888",
   "metadata": {},
   "source": [
    "#### anderes Verfahren"
   ]
  },
  {
   "cell_type": "code",
   "execution_count": 243,
   "id": "dfd45a8e-47d1-4f91-89c0-24977842be1c",
   "metadata": {},
   "outputs": [
    {
     "data": {
      "text/plain": [
       "False    3506\n",
       "True      193\n",
       "Name: Browser, dtype: int64"
      ]
     },
     "execution_count": 243,
     "metadata": {},
     "output_type": "execute_result"
    }
   ],
   "source": [
    "cond16 = (df['Browser'] != 0.08333333333333333) & (df['Browser'] != 0.0)  & (df['Browser'] != 0.25) &(df['Browser'] != 0.3333333333333333)\n",
    "cond16.value_counts()"
   ]
  },
  {
   "cell_type": "code",
   "execution_count": 244,
   "id": "4ba1eeb7-f0af-4804-a243-3cff17981a8a",
   "metadata": {},
   "outputs": [
    {
     "data": {
      "text/plain": [
       "0    0.083333\n",
       "1    0.083333\n",
       "2    0.083333\n",
       "3    0.000000\n",
       "4    0.000000\n",
       "Name: Browser, dtype: float64"
      ]
     },
     "execution_count": 244,
     "metadata": {},
     "output_type": "execute_result"
    }
   ],
   "source": [
    "df['Browser'].head()"
   ]
  },
  {
   "cell_type": "code",
   "execution_count": 246,
   "id": "7741e545-8e5c-45c9-97e6-aaea8f181111",
   "metadata": {},
   "outputs": [
    {
     "data": {
      "text/plain": [
       "16    0.750000\n",
       "18    0.416667\n",
       "34    0.583333\n",
       "52    0.583333\n",
       "56    0.500000\n",
       "Name: Browser, dtype: float64"
      ]
     },
     "execution_count": 246,
     "metadata": {},
     "output_type": "execute_result"
    }
   ],
   "source": [
    "df[cond16]['Browser'].head()"
   ]
  },
  {
   "cell_type": "code",
   "execution_count": 247,
   "id": "716b0bff-6d8a-4bb7-929f-d01930c76d95",
   "metadata": {},
   "outputs": [
    {
     "data": {
      "text/plain": [
       "16    0.750000\n",
       "18    0.416667\n",
       "34    0.583333\n",
       "52    0.583333\n",
       "56    0.500000\n",
       "Name: Browser, dtype: float64"
      ]
     },
     "execution_count": 247,
     "metadata": {},
     "output_type": "execute_result"
    }
   ],
   "source": [
    "df['Browser'][cond16].head()"
   ]
  },
  {
   "cell_type": "code",
   "execution_count": 248,
   "id": "37561657-18fa-45d6-9b9b-4c11ae83e99e",
   "metadata": {},
   "outputs": [
    {
     "data": {
      "text/plain": [
       "16    0.750000\n",
       "18    0.416667\n",
       "34    0.583333\n",
       "52    0.583333\n",
       "56    0.500000\n",
       "Name: Browser, dtype: float64"
      ]
     },
     "execution_count": 248,
     "metadata": {},
     "output_type": "execute_result"
    }
   ],
   "source": [
    "df.loc[cond16, 'Browser'].head()"
   ]
  },
  {
   "cell_type": "code",
   "execution_count": 249,
   "id": "b4519651-8f9d-437d-9e4e-cca05db2c124",
   "metadata": {},
   "outputs": [
    {
     "data": {
      "text/plain": [
       "0.416667    47\n",
       "0.750000    45\n",
       "0.583333    37\n",
       "0.166667    31\n",
       "1.000000    18\n",
       "0.500000    14\n",
       "0.916667     1\n",
       "Name: Browser, dtype: int64"
      ]
     },
     "execution_count": 249,
     "metadata": {},
     "output_type": "execute_result"
    }
   ],
   "source": [
    "df.loc[cond16, 'Browser'].value_counts()"
   ]
  },
  {
   "cell_type": "markdown",
   "id": "f039fa3b-77d8-42b4-871a-45daa7c847fe",
   "metadata": {},
   "source": [
    "##### daten in df ändern"
   ]
  },
  {
   "cell_type": "code",
   "execution_count": 250,
   "id": "07341772-678c-4f3c-863c-374b1f106189",
   "metadata": {},
   "outputs": [
    {
     "data": {
      "text/plain": [
       "Other    193\n",
       "Name: Browser, dtype: int64"
      ]
     },
     "execution_count": 250,
     "metadata": {},
     "output_type": "execute_result"
    }
   ],
   "source": [
    "df.loc[cond16, 'Browser'] = \"Other\"\n",
    "df.loc[cond16, 'Browser'].value_counts()"
   ]
  },
  {
   "cell_type": "code",
   "execution_count": 251,
   "id": "731e09c7-506e-49be-aa8f-e13fed7fc191",
   "metadata": {},
   "outputs": [
    {
     "data": {
      "text/plain": [
       "0.08333333333333333    2377\n",
       "0.0                     758\n",
       "0.25                    207\n",
       "Other                   193\n",
       "0.3333333333333333      164\n",
       "Name: Browser, dtype: int64"
      ]
     },
     "execution_count": 251,
     "metadata": {},
     "output_type": "execute_result"
    }
   ],
   "source": [
    "df['Browser'].value_counts()"
   ]
  },
  {
   "cell_type": "markdown",
   "id": "608a3a53-83e6-4156-bee7-b5a53769344d",
   "metadata": {},
   "source": [
    "## 17.   Compute and print out the mean of **“BounceRates”** of each **“Month”**."
   ]
  },
  {
   "cell_type": "code",
   "execution_count": 252,
   "id": "dfd2a7c4-1305-40d8-b0d0-375f6ac67cb5",
   "metadata": {},
   "outputs": [
    {
     "name": "stdout",
     "output_type": "stream",
     "text": [
      "<class 'pandas.core.frame.DataFrame'>\n",
      "RangeIndex: 3699 entries, 0 to 3698\n",
      "Data columns (total 17 columns):\n",
      " #   Column                   Non-Null Count  Dtype  \n",
      "---  ------                   --------------  -----  \n",
      " 0   Administrative           3699 non-null   float64\n",
      " 1   Administrative_Duration  3699 non-null   float64\n",
      " 2   Informational_Duration   3699 non-null   float64\n",
      " 3   ProductRelated           3699 non-null   float64\n",
      " 4   ProductRelated_Duration  3499 non-null   float64\n",
      " 5   BounceRates              3528 non-null   float64\n",
      " 6   ExitRates                3517 non-null   float64\n",
      " 7   PageValues               3538 non-null   float64\n",
      " 8   Month                    3699 non-null   object \n",
      " 9   SpecialDay               3509 non-null   float64\n",
      " 10  OperatingSystems         3699 non-null   float64\n",
      " 11  Browser                  3699 non-null   object \n",
      " 12  Region                   3699 non-null   float64\n",
      " 13  TrafficType              3699 non-null   float64\n",
      " 14  new_VisitorType          3699 non-null   object \n",
      " 15  Weekend                  3699 non-null   bool   \n",
      " 16  Revenue                  3699 non-null   bool   \n",
      "dtypes: bool(2), float64(12), object(3)\n",
      "memory usage: 440.8+ KB\n"
     ]
    }
   ],
   "source": [
    "df.info()"
   ]
  },
  {
   "cell_type": "code",
   "execution_count": 253,
   "id": "9fc22d27-911e-4db8-bfda-c99d5bd8be37",
   "metadata": {},
   "outputs": [
    {
     "data": {
      "text/html": [
       "<div>\n",
       "<style scoped>\n",
       "    .dataframe tbody tr th:only-of-type {\n",
       "        vertical-align: middle;\n",
       "    }\n",
       "\n",
       "    .dataframe tbody tr th {\n",
       "        vertical-align: top;\n",
       "    }\n",
       "\n",
       "    .dataframe thead th {\n",
       "        text-align: right;\n",
       "    }\n",
       "</style>\n",
       "<table border=\"1\" class=\"dataframe\">\n",
       "  <thead>\n",
       "    <tr style=\"text-align: right;\">\n",
       "      <th></th>\n",
       "      <th>BounceRates</th>\n",
       "      <th>Month</th>\n",
       "    </tr>\n",
       "  </thead>\n",
       "  <tbody>\n",
       "    <tr>\n",
       "      <th>0</th>\n",
       "      <td>0.033688</td>\n",
       "      <td>Nov</td>\n",
       "    </tr>\n",
       "    <tr>\n",
       "      <th>1</th>\n",
       "      <td>0.088496</td>\n",
       "      <td>Aug</td>\n",
       "    </tr>\n",
       "    <tr>\n",
       "      <th>2</th>\n",
       "      <td>0.166667</td>\n",
       "      <td>Dec</td>\n",
       "    </tr>\n",
       "    <tr>\n",
       "      <th>3</th>\n",
       "      <td>0.068182</td>\n",
       "      <td>Nov</td>\n",
       "    </tr>\n",
       "    <tr>\n",
       "      <th>4</th>\n",
       "      <td>0.060390</td>\n",
       "      <td>Jul</td>\n",
       "    </tr>\n",
       "  </tbody>\n",
       "</table>\n",
       "</div>"
      ],
      "text/plain": [
       "   BounceRates Month\n",
       "0     0.033688   Nov\n",
       "1     0.088496   Aug\n",
       "2     0.166667   Dec\n",
       "3     0.068182   Nov\n",
       "4     0.060390   Jul"
      ]
     },
     "execution_count": 253,
     "metadata": {},
     "output_type": "execute_result"
    }
   ],
   "source": [
    "df[['BounceRates', 'Month']].head()"
   ]
  },
  {
   "cell_type": "code",
   "execution_count": 258,
   "id": "19e32ffd-4509-4692-bfcd-f8b91d98a43d",
   "metadata": {},
   "outputs": [
    {
     "data": {
      "text/plain": [
       "<pandas.core.groupby.generic.DataFrameGroupBy object at 0x000002382B489190>"
      ]
     },
     "execution_count": 258,
     "metadata": {},
     "output_type": "execute_result"
    }
   ],
   "source": [
    "df.groupby('Month')[['BounceRates', 'Month']]"
   ]
  },
  {
   "cell_type": "code",
   "execution_count": 265,
   "id": "794ad197-66c0-4830-8a89-5e249bd2d8f6",
   "metadata": {},
   "outputs": [
    {
     "data": {
      "text/plain": [
       "Month\n",
       "Aug     0.112900\n",
       "Dec     0.093820\n",
       "Feb     0.231987\n",
       "Jul     0.102110\n",
       "June    0.202811\n",
       "Mar     0.113647\n",
       "May     0.135844\n",
       "Nov     0.098060\n",
       "Oct     0.052638\n",
       "Sep     0.042507\n",
       "Name: BounceRates, dtype: float64"
      ]
     },
     "execution_count": 265,
     "metadata": {},
     "output_type": "execute_result"
    }
   ],
   "source": [
    "df.groupby('Month').mean()['BounceRates']"
   ]
  },
  {
   "cell_type": "code",
   "execution_count": 266,
   "id": "8cb4c74b-7646-4cfa-aadf-80d1ac465dff",
   "metadata": {},
   "outputs": [
    {
     "name": "stdout",
     "output_type": "stream",
     "text": [
      "<class 'pandas.core.frame.DataFrame'>\n",
      "RangeIndex: 3699 entries, 0 to 3698\n",
      "Data columns (total 2 columns):\n",
      " #   Column       Non-Null Count  Dtype  \n",
      "---  ------       --------------  -----  \n",
      " 0   BounceRates  3528 non-null   float64\n",
      " 1   Month        3699 non-null   object \n",
      "dtypes: float64(1), object(1)\n",
      "memory usage: 57.9+ KB\n"
     ]
    }
   ],
   "source": [
    "h17 = df[['BounceRates', 'Month']]\n",
    "h17.info()"
   ]
  },
  {
   "cell_type": "code",
   "execution_count": 267,
   "id": "ed6bde9d-c58c-43a2-9c2c-4867e54377b6",
   "metadata": {},
   "outputs": [
    {
     "data": {
      "text/html": [
       "<div>\n",
       "<style scoped>\n",
       "    .dataframe tbody tr th:only-of-type {\n",
       "        vertical-align: middle;\n",
       "    }\n",
       "\n",
       "    .dataframe tbody tr th {\n",
       "        vertical-align: top;\n",
       "    }\n",
       "\n",
       "    .dataframe thead th {\n",
       "        text-align: right;\n",
       "    }\n",
       "</style>\n",
       "<table border=\"1\" class=\"dataframe\">\n",
       "  <thead>\n",
       "    <tr style=\"text-align: right;\">\n",
       "      <th></th>\n",
       "      <th>BounceRates</th>\n",
       "      <th>Month</th>\n",
       "    </tr>\n",
       "  </thead>\n",
       "  <tbody>\n",
       "    <tr>\n",
       "      <th>0</th>\n",
       "      <td>0.033688</td>\n",
       "      <td>Nov</td>\n",
       "    </tr>\n",
       "    <tr>\n",
       "      <th>1</th>\n",
       "      <td>0.088496</td>\n",
       "      <td>Aug</td>\n",
       "    </tr>\n",
       "    <tr>\n",
       "      <th>2</th>\n",
       "      <td>0.166667</td>\n",
       "      <td>Dec</td>\n",
       "    </tr>\n",
       "    <tr>\n",
       "      <th>3</th>\n",
       "      <td>0.068182</td>\n",
       "      <td>Nov</td>\n",
       "    </tr>\n",
       "    <tr>\n",
       "      <th>4</th>\n",
       "      <td>0.060390</td>\n",
       "      <td>Jul</td>\n",
       "    </tr>\n",
       "  </tbody>\n",
       "</table>\n",
       "</div>"
      ],
      "text/plain": [
       "   BounceRates Month\n",
       "0     0.033688   Nov\n",
       "1     0.088496   Aug\n",
       "2     0.166667   Dec\n",
       "3     0.068182   Nov\n",
       "4     0.060390   Jul"
      ]
     },
     "execution_count": 267,
     "metadata": {},
     "output_type": "execute_result"
    }
   ],
   "source": [
    "h17.head()"
   ]
  },
  {
   "cell_type": "code",
   "execution_count": 269,
   "id": "f2b1dbd9-7fac-4c8b-89ae-922216acd3bb",
   "metadata": {},
   "outputs": [
    {
     "data": {
      "text/html": [
       "<div>\n",
       "<style scoped>\n",
       "    .dataframe tbody tr th:only-of-type {\n",
       "        vertical-align: middle;\n",
       "    }\n",
       "\n",
       "    .dataframe tbody tr th {\n",
       "        vertical-align: top;\n",
       "    }\n",
       "\n",
       "    .dataframe thead th {\n",
       "        text-align: right;\n",
       "    }\n",
       "</style>\n",
       "<table border=\"1\" class=\"dataframe\">\n",
       "  <thead>\n",
       "    <tr style=\"text-align: right;\">\n",
       "      <th></th>\n",
       "      <th>BounceRates</th>\n",
       "    </tr>\n",
       "    <tr>\n",
       "      <th>Month</th>\n",
       "      <th></th>\n",
       "    </tr>\n",
       "  </thead>\n",
       "  <tbody>\n",
       "    <tr>\n",
       "      <th>Aug</th>\n",
       "      <td>0.112900</td>\n",
       "    </tr>\n",
       "    <tr>\n",
       "      <th>Dec</th>\n",
       "      <td>0.093820</td>\n",
       "    </tr>\n",
       "    <tr>\n",
       "      <th>Feb</th>\n",
       "      <td>0.231987</td>\n",
       "    </tr>\n",
       "    <tr>\n",
       "      <th>Jul</th>\n",
       "      <td>0.102110</td>\n",
       "    </tr>\n",
       "    <tr>\n",
       "      <th>June</th>\n",
       "      <td>0.202811</td>\n",
       "    </tr>\n",
       "    <tr>\n",
       "      <th>Mar</th>\n",
       "      <td>0.113647</td>\n",
       "    </tr>\n",
       "    <tr>\n",
       "      <th>May</th>\n",
       "      <td>0.135844</td>\n",
       "    </tr>\n",
       "    <tr>\n",
       "      <th>Nov</th>\n",
       "      <td>0.098060</td>\n",
       "    </tr>\n",
       "    <tr>\n",
       "      <th>Oct</th>\n",
       "      <td>0.052638</td>\n",
       "    </tr>\n",
       "    <tr>\n",
       "      <th>Sep</th>\n",
       "      <td>0.042507</td>\n",
       "    </tr>\n",
       "  </tbody>\n",
       "</table>\n",
       "</div>"
      ],
      "text/plain": [
       "       BounceRates\n",
       "Month             \n",
       "Aug       0.112900\n",
       "Dec       0.093820\n",
       "Feb       0.231987\n",
       "Jul       0.102110\n",
       "June      0.202811\n",
       "Mar       0.113647\n",
       "May       0.135844\n",
       "Nov       0.098060\n",
       "Oct       0.052638\n",
       "Sep       0.042507"
      ]
     },
     "execution_count": 269,
     "metadata": {},
     "output_type": "execute_result"
    }
   ],
   "source": [
    "h17.groupby(['Month']).mean()"
   ]
  },
  {
   "cell_type": "code",
   "execution_count": 270,
   "id": "bb1cd5bb-5dc4-465a-a5de-ce545780d714",
   "metadata": {},
   "outputs": [
    {
     "name": "stdout",
     "output_type": "stream",
     "text": [
      "       BounceRates\n",
      "Month             \n",
      "Aug       0.112900\n",
      "Dec       0.093820\n",
      "Feb       0.231987\n",
      "Jul       0.102110\n",
      "June      0.202811\n",
      "Mar       0.113647\n",
      "May       0.135844\n",
      "Nov       0.098060\n",
      "Oct       0.052638\n",
      "Sep       0.042507\n"
     ]
    }
   ],
   "source": [
    "print(h17.groupby(['Month']).mean())"
   ]
  },
  {
   "cell_type": "markdown",
   "id": "6e7a216e-8b44-48d9-b0c8-7bd24dacb053",
   "metadata": {},
   "source": [
    "## 18.   Print out all of the instances with **“BounceRates”** values greater than **“ProductRelated_Duration”**."
   ]
  },
  {
   "cell_type": "code",
   "execution_count": 271,
   "id": "a288c7d3-8885-40dd-be21-2a75534fc1a9",
   "metadata": {},
   "outputs": [
    {
     "data": {
      "text/html": [
       "<div>\n",
       "<style scoped>\n",
       "    .dataframe tbody tr th:only-of-type {\n",
       "        vertical-align: middle;\n",
       "    }\n",
       "\n",
       "    .dataframe tbody tr th {\n",
       "        vertical-align: top;\n",
       "    }\n",
       "\n",
       "    .dataframe thead th {\n",
       "        text-align: right;\n",
       "    }\n",
       "</style>\n",
       "<table border=\"1\" class=\"dataframe\">\n",
       "  <thead>\n",
       "    <tr style=\"text-align: right;\">\n",
       "      <th></th>\n",
       "      <th>BounceRates</th>\n",
       "      <th>ProductRelated_Duration</th>\n",
       "    </tr>\n",
       "  </thead>\n",
       "  <tbody>\n",
       "    <tr>\n",
       "      <th>0</th>\n",
       "      <td>0.033688</td>\n",
       "      <td>0.149491</td>\n",
       "    </tr>\n",
       "    <tr>\n",
       "      <th>1</th>\n",
       "      <td>0.088496</td>\n",
       "      <td>0.173955</td>\n",
       "    </tr>\n",
       "    <tr>\n",
       "      <th>2</th>\n",
       "      <td>0.166667</td>\n",
       "      <td>0.018261</td>\n",
       "    </tr>\n",
       "    <tr>\n",
       "      <th>3</th>\n",
       "      <td>0.068182</td>\n",
       "      <td>0.050310</td>\n",
       "    </tr>\n",
       "    <tr>\n",
       "      <th>4</th>\n",
       "      <td>0.060390</td>\n",
       "      <td>0.123759</td>\n",
       "    </tr>\n",
       "  </tbody>\n",
       "</table>\n",
       "</div>"
      ],
      "text/plain": [
       "   BounceRates  ProductRelated_Duration\n",
       "0     0.033688                 0.149491\n",
       "1     0.088496                 0.173955\n",
       "2     0.166667                 0.018261\n",
       "3     0.068182                 0.050310\n",
       "4     0.060390                 0.123759"
      ]
     },
     "execution_count": 271,
     "metadata": {},
     "output_type": "execute_result"
    }
   ],
   "source": [
    "df[['BounceRates', 'ProductRelated_Duration']].head()"
   ]
  },
  {
   "cell_type": "code",
   "execution_count": 273,
   "id": "11010501-3417-4737-9637-e68667d68158",
   "metadata": {},
   "outputs": [
    {
     "data": {
      "text/plain": [
       "False    2695\n",
       "True     1004\n",
       "dtype: int64"
      ]
     },
     "execution_count": 273,
     "metadata": {},
     "output_type": "execute_result"
    }
   ],
   "source": [
    "cond18 = df['BounceRates'] > df['ProductRelated_Duration']\n",
    "cond18.value_counts()"
   ]
  },
  {
   "cell_type": "code",
   "execution_count": 275,
   "id": "f0b360b3-a10b-4fc8-bd55-4f65d77ae7d3",
   "metadata": {},
   "outputs": [
    {
     "data": {
      "text/html": [
       "<div>\n",
       "<style scoped>\n",
       "    .dataframe tbody tr th:only-of-type {\n",
       "        vertical-align: middle;\n",
       "    }\n",
       "\n",
       "    .dataframe tbody tr th {\n",
       "        vertical-align: top;\n",
       "    }\n",
       "\n",
       "    .dataframe thead th {\n",
       "        text-align: right;\n",
       "    }\n",
       "</style>\n",
       "<table border=\"1\" class=\"dataframe\">\n",
       "  <thead>\n",
       "    <tr style=\"text-align: right;\">\n",
       "      <th></th>\n",
       "      <th>Administrative</th>\n",
       "      <th>Administrative_Duration</th>\n",
       "      <th>Informational_Duration</th>\n",
       "      <th>ProductRelated</th>\n",
       "      <th>ProductRelated_Duration</th>\n",
       "      <th>BounceRates</th>\n",
       "      <th>ExitRates</th>\n",
       "      <th>PageValues</th>\n",
       "      <th>Month</th>\n",
       "      <th>SpecialDay</th>\n",
       "      <th>OperatingSystems</th>\n",
       "      <th>Browser</th>\n",
       "      <th>Region</th>\n",
       "      <th>TrafficType</th>\n",
       "      <th>new_VisitorType</th>\n",
       "      <th>Weekend</th>\n",
       "      <th>Revenue</th>\n",
       "    </tr>\n",
       "  </thead>\n",
       "  <tbody>\n",
       "    <tr>\n",
       "      <th>2</th>\n",
       "      <td>0.130435</td>\n",
       "      <td>0.066913</td>\n",
       "      <td>0.000000</td>\n",
       "      <td>0.038636</td>\n",
       "      <td>0.018261</td>\n",
       "      <td>0.166667</td>\n",
       "      <td>0.256173</td>\n",
       "      <td>0.000000</td>\n",
       "      <td>Dec</td>\n",
       "      <td>0.0</td>\n",
       "      <td>0.142857</td>\n",
       "      <td>0.083333</td>\n",
       "      <td>0.000</td>\n",
       "      <td>0.000000</td>\n",
       "      <td>Returning_Visitor</td>\n",
       "      <td>True</td>\n",
       "      <td>False</td>\n",
       "    </tr>\n",
       "    <tr>\n",
       "      <th>3</th>\n",
       "      <td>0.043478</td>\n",
       "      <td>0.011932</td>\n",
       "      <td>0.000000</td>\n",
       "      <td>0.097727</td>\n",
       "      <td>0.050310</td>\n",
       "      <td>0.068182</td>\n",
       "      <td>0.128815</td>\n",
       "      <td>NaN</td>\n",
       "      <td>Nov</td>\n",
       "      <td>NaN</td>\n",
       "      <td>0.000000</td>\n",
       "      <td>0.0</td>\n",
       "      <td>0.000</td>\n",
       "      <td>0.000000</td>\n",
       "      <td>Returning_Visitor</td>\n",
       "      <td>False</td>\n",
       "      <td>False</td>\n",
       "    </tr>\n",
       "    <tr>\n",
       "      <th>5</th>\n",
       "      <td>0.000000</td>\n",
       "      <td>0.000000</td>\n",
       "      <td>0.000000</td>\n",
       "      <td>0.020455</td>\n",
       "      <td>0.021352</td>\n",
       "      <td>0.333333</td>\n",
       "      <td>0.444444</td>\n",
       "      <td>0.000000</td>\n",
       "      <td>Mar</td>\n",
       "      <td>NaN</td>\n",
       "      <td>0.285714</td>\n",
       "      <td>0.083333</td>\n",
       "      <td>0.125</td>\n",
       "      <td>0.000000</td>\n",
       "      <td>Returning_Visitor</td>\n",
       "      <td>False</td>\n",
       "      <td>False</td>\n",
       "    </tr>\n",
       "    <tr>\n",
       "      <th>6</th>\n",
       "      <td>0.000000</td>\n",
       "      <td>0.000000</td>\n",
       "      <td>0.000000</td>\n",
       "      <td>0.006818</td>\n",
       "      <td>0.003907</td>\n",
       "      <td>0.500000</td>\n",
       "      <td>0.500000</td>\n",
       "      <td>0.000000</td>\n",
       "      <td>May</td>\n",
       "      <td>0.0</td>\n",
       "      <td>0.285714</td>\n",
       "      <td>0.083333</td>\n",
       "      <td>0.625</td>\n",
       "      <td>0.631579</td>\n",
       "      <td>Returning_Visitor</td>\n",
       "      <td>False</td>\n",
       "      <td>False</td>\n",
       "    </tr>\n",
       "    <tr>\n",
       "      <th>9</th>\n",
       "      <td>0.173913</td>\n",
       "      <td>0.030181</td>\n",
       "      <td>0.000000</td>\n",
       "      <td>0.063636</td>\n",
       "      <td>0.046904</td>\n",
       "      <td>0.068966</td>\n",
       "      <td>0.122742</td>\n",
       "      <td>0.000000</td>\n",
       "      <td>May</td>\n",
       "      <td>0.0</td>\n",
       "      <td>0.142857</td>\n",
       "      <td>0.083333</td>\n",
       "      <td>0.000</td>\n",
       "      <td>0.315789</td>\n",
       "      <td>Returning_Visitor</td>\n",
       "      <td>True</td>\n",
       "      <td>False</td>\n",
       "    </tr>\n",
       "    <tr>\n",
       "      <th>...</th>\n",
       "      <td>...</td>\n",
       "      <td>...</td>\n",
       "      <td>...</td>\n",
       "      <td>...</td>\n",
       "      <td>...</td>\n",
       "      <td>...</td>\n",
       "      <td>...</td>\n",
       "      <td>...</td>\n",
       "      <td>...</td>\n",
       "      <td>...</td>\n",
       "      <td>...</td>\n",
       "      <td>...</td>\n",
       "      <td>...</td>\n",
       "      <td>...</td>\n",
       "      <td>...</td>\n",
       "      <td>...</td>\n",
       "      <td>...</td>\n",
       "    </tr>\n",
       "    <tr>\n",
       "      <th>3669</th>\n",
       "      <td>0.000000</td>\n",
       "      <td>0.000000</td>\n",
       "      <td>0.000000</td>\n",
       "      <td>0.059091</td>\n",
       "      <td>0.035957</td>\n",
       "      <td>0.206667</td>\n",
       "      <td>0.335714</td>\n",
       "      <td>0.000000</td>\n",
       "      <td>Jul</td>\n",
       "      <td>0.0</td>\n",
       "      <td>0.142857</td>\n",
       "      <td>0.083333</td>\n",
       "      <td>0.125</td>\n",
       "      <td>0.000000</td>\n",
       "      <td>Returning_Visitor</td>\n",
       "      <td>True</td>\n",
       "      <td>False</td>\n",
       "    </tr>\n",
       "    <tr>\n",
       "      <th>3670</th>\n",
       "      <td>0.043478</td>\n",
       "      <td>0.007955</td>\n",
       "      <td>0.014577</td>\n",
       "      <td>0.025000</td>\n",
       "      <td>0.052169</td>\n",
       "      <td>0.066667</td>\n",
       "      <td>0.083333</td>\n",
       "      <td>0.070444</td>\n",
       "      <td>May</td>\n",
       "      <td>0.6</td>\n",
       "      <td>0.142857</td>\n",
       "      <td>0.083333</td>\n",
       "      <td>0.000</td>\n",
       "      <td>0.263158</td>\n",
       "      <td>Returning_Visitor</td>\n",
       "      <td>False</td>\n",
       "      <td>True</td>\n",
       "    </tr>\n",
       "    <tr>\n",
       "      <th>3683</th>\n",
       "      <td>0.000000</td>\n",
       "      <td>0.000000</td>\n",
       "      <td>0.000000</td>\n",
       "      <td>0.002273</td>\n",
       "      <td>0.000000</td>\n",
       "      <td>1.000000</td>\n",
       "      <td>1.000000</td>\n",
       "      <td>0.000000</td>\n",
       "      <td>Nov</td>\n",
       "      <td>0.0</td>\n",
       "      <td>0.000000</td>\n",
       "      <td>0.0</td>\n",
       "      <td>0.000</td>\n",
       "      <td>0.105263</td>\n",
       "      <td>Returning_Visitor</td>\n",
       "      <td>False</td>\n",
       "      <td>False</td>\n",
       "    </tr>\n",
       "    <tr>\n",
       "      <th>3687</th>\n",
       "      <td>0.086957</td>\n",
       "      <td>0.071686</td>\n",
       "      <td>0.011024</td>\n",
       "      <td>0.050000</td>\n",
       "      <td>0.033847</td>\n",
       "      <td>0.040000</td>\n",
       "      <td>0.180000</td>\n",
       "      <td>0.000000</td>\n",
       "      <td>Oct</td>\n",
       "      <td>0.0</td>\n",
       "      <td>0.142857</td>\n",
       "      <td>0.083333</td>\n",
       "      <td>0.000</td>\n",
       "      <td>0.000000</td>\n",
       "      <td>Returning_Visitor</td>\n",
       "      <td>False</td>\n",
       "      <td>False</td>\n",
       "    </tr>\n",
       "    <tr>\n",
       "      <th>3689</th>\n",
       "      <td>0.000000</td>\n",
       "      <td>0.000000</td>\n",
       "      <td>0.000000</td>\n",
       "      <td>0.004545</td>\n",
       "      <td>0.000000</td>\n",
       "      <td>1.000000</td>\n",
       "      <td>1.000000</td>\n",
       "      <td>0.000000</td>\n",
       "      <td>Mar</td>\n",
       "      <td>0.0</td>\n",
       "      <td>0.142857</td>\n",
       "      <td>0.083333</td>\n",
       "      <td>0.000</td>\n",
       "      <td>0.105263</td>\n",
       "      <td>Returning_Visitor</td>\n",
       "      <td>True</td>\n",
       "      <td>False</td>\n",
       "    </tr>\n",
       "  </tbody>\n",
       "</table>\n",
       "<p>1004 rows × 17 columns</p>\n",
       "</div>"
      ],
      "text/plain": [
       "      Administrative  Administrative_Duration  Informational_Duration  ProductRelated  ProductRelated_Duration  BounceRates  ExitRates  PageValues Month  SpecialDay  OperatingSystems   Browser  Region  TrafficType    new_VisitorType  Weekend  Revenue\n",
       "2           0.130435                 0.066913                0.000000        0.038636                 0.018261     0.166667   0.256173    0.000000   Dec         0.0          0.142857  0.083333   0.000     0.000000  Returning_Visitor     True    False\n",
       "3           0.043478                 0.011932                0.000000        0.097727                 0.050310     0.068182   0.128815         NaN   Nov         NaN          0.000000       0.0   0.000     0.000000  Returning_Visitor    False    False\n",
       "5           0.000000                 0.000000                0.000000        0.020455                 0.021352     0.333333   0.444444    0.000000   Mar         NaN          0.285714  0.083333   0.125     0.000000  Returning_Visitor    False    False\n",
       "6           0.000000                 0.000000                0.000000        0.006818                 0.003907     0.500000   0.500000    0.000000   May         0.0          0.285714  0.083333   0.625     0.631579  Returning_Visitor    False    False\n",
       "9           0.173913                 0.030181                0.000000        0.063636                 0.046904     0.068966   0.122742    0.000000   May         0.0          0.142857  0.083333   0.000     0.315789  Returning_Visitor     True    False\n",
       "...              ...                      ...                     ...             ...                      ...          ...        ...         ...   ...         ...               ...       ...     ...          ...                ...      ...      ...\n",
       "3669        0.000000                 0.000000                0.000000        0.059091                 0.035957     0.206667   0.335714    0.000000   Jul         0.0          0.142857  0.083333   0.125     0.000000  Returning_Visitor     True    False\n",
       "3670        0.043478                 0.007955                0.014577        0.025000                 0.052169     0.066667   0.083333    0.070444   May         0.6          0.142857  0.083333   0.000     0.263158  Returning_Visitor    False     True\n",
       "3683        0.000000                 0.000000                0.000000        0.002273                 0.000000     1.000000   1.000000    0.000000   Nov         0.0          0.000000       0.0   0.000     0.105263  Returning_Visitor    False    False\n",
       "3687        0.086957                 0.071686                0.011024        0.050000                 0.033847     0.040000   0.180000    0.000000   Oct         0.0          0.142857  0.083333   0.000     0.000000  Returning_Visitor    False    False\n",
       "3689        0.000000                 0.000000                0.000000        0.004545                 0.000000     1.000000   1.000000    0.000000   Mar         0.0          0.142857  0.083333   0.000     0.105263  Returning_Visitor     True    False\n",
       "\n",
       "[1004 rows x 17 columns]"
      ]
     },
     "execution_count": 275,
     "metadata": {},
     "output_type": "execute_result"
    }
   ],
   "source": [
    "df[cond18]"
   ]
  },
  {
   "cell_type": "markdown",
   "id": "95d239b6-2d48-4237-8228-e901332dc586",
   "metadata": {},
   "source": [
    "## 19.   Please plot the boxplot graph of all numerical features."
   ]
  },
  {
   "cell_type": "code",
   "execution_count": 277,
   "id": "f011dd54-e060-4b9e-ad14-d909d53d23fd",
   "metadata": {},
   "outputs": [
    {
     "name": "stdout",
     "output_type": "stream",
     "text": [
      "<class 'pandas.core.frame.DataFrame'>\n",
      "RangeIndex: 3699 entries, 0 to 3698\n",
      "Data columns (total 17 columns):\n",
      " #   Column                   Non-Null Count  Dtype  \n",
      "---  ------                   --------------  -----  \n",
      " 0   Administrative           3699 non-null   float64\n",
      " 1   Administrative_Duration  3699 non-null   float64\n",
      " 2   Informational_Duration   3699 non-null   float64\n",
      " 3   ProductRelated           3699 non-null   float64\n",
      " 4   ProductRelated_Duration  3499 non-null   float64\n",
      " 5   BounceRates              3528 non-null   float64\n",
      " 6   ExitRates                3517 non-null   float64\n",
      " 7   PageValues               3538 non-null   float64\n",
      " 8   Month                    3699 non-null   object \n",
      " 9   SpecialDay               3509 non-null   float64\n",
      " 10  OperatingSystems         3699 non-null   float64\n",
      " 11  Browser                  3699 non-null   object \n",
      " 12  Region                   3699 non-null   float64\n",
      " 13  TrafficType              3699 non-null   float64\n",
      " 14  new_VisitorType          3699 non-null   object \n",
      " 15  Weekend                  3699 non-null   bool   \n",
      " 16  Revenue                  3699 non-null   bool   \n",
      "dtypes: bool(2), float64(12), object(3)\n",
      "memory usage: 440.8+ KB\n"
     ]
    }
   ],
   "source": [
    "df.info()"
   ]
  },
  {
   "cell_type": "code",
   "execution_count": 283,
   "id": "56007e59-526e-484b-87ba-949bd1a45952",
   "metadata": {},
   "outputs": [
    {
     "name": "stdout",
     "output_type": "stream",
     "text": [
      "<class 'pandas.core.frame.DataFrame'>\n",
      "RangeIndex: 3699 entries, 0 to 3698\n",
      "Data columns (total 12 columns):\n",
      " #   Column                   Non-Null Count  Dtype  \n",
      "---  ------                   --------------  -----  \n",
      " 0   Administrative           3699 non-null   float64\n",
      " 1   Administrative_Duration  3699 non-null   float64\n",
      " 2   Informational_Duration   3699 non-null   float64\n",
      " 3   ProductRelated           3699 non-null   float64\n",
      " 4   ProductRelated_Duration  3499 non-null   float64\n",
      " 5   BounceRates              3528 non-null   float64\n",
      " 6   ExitRates                3517 non-null   float64\n",
      " 7   PageValues               3538 non-null   float64\n",
      " 8   SpecialDay               3509 non-null   float64\n",
      " 9   OperatingSystems         3699 non-null   float64\n",
      " 10  Region                   3699 non-null   float64\n",
      " 11  TrafficType              3699 non-null   float64\n",
      "dtypes: float64(12)\n",
      "memory usage: 346.9 KB\n"
     ]
    }
   ],
   "source": [
    "df1 = df.drop(['Month', 'Browser', 'Weekend', 'Revenue', 'new_VisitorType'], axis=1)\n",
    "df1.info()"
   ]
  },
  {
   "cell_type": "code",
   "execution_count": 287,
   "id": "0569aa3b-4ac6-4b3d-9d21-4e68ecd1877a",
   "metadata": {},
   "outputs": [
    {
     "data": {
      "text/plain": [
       "Administrative              True\n",
       "Administrative_Duration     True\n",
       "Informational_Duration      True\n",
       "ProductRelated              True\n",
       "ProductRelated_Duration     True\n",
       "BounceRates                 True\n",
       "ExitRates                   True\n",
       "PageValues                  True\n",
       "Month                      False\n",
       "SpecialDay                  True\n",
       "OperatingSystems            True\n",
       "Browser                    False\n",
       "Region                      True\n",
       "TrafficType                 True\n",
       "new_VisitorType            False\n",
       "Weekend                    False\n",
       "Revenue                    False\n",
       "dtype: bool"
      ]
     },
     "execution_count": 287,
     "metadata": {},
     "output_type": "execute_result"
    }
   ],
   "source": [
    "df.dtypes == 'float64'"
   ]
  },
  {
   "cell_type": "code",
   "execution_count": 288,
   "id": "7809aea0-c633-4365-a37d-9dfc39de45c8",
   "metadata": {},
   "outputs": [
    {
     "data": {
      "text/plain": [
       "Administrative              True\n",
       "Administrative_Duration     True\n",
       "Informational_Duration      True\n",
       "ProductRelated              True\n",
       "ProductRelated_Duration     True\n",
       "BounceRates                 True\n",
       "ExitRates                   True\n",
       "PageValues                  True\n",
       "Month                      False\n",
       "SpecialDay                  True\n",
       "OperatingSystems            True\n",
       "Browser                    False\n",
       "Region                      True\n",
       "TrafficType                 True\n",
       "new_VisitorType            False\n",
       "Weekend                    False\n",
       "Revenue                    False\n",
       "dtype: bool"
      ]
     },
     "execution_count": 288,
     "metadata": {},
     "output_type": "execute_result"
    }
   ],
   "source": [
    "cond19 = (df.dtypes == 'float64')\n",
    "cond19"
   ]
  },
  {
   "cell_type": "code",
   "execution_count": 291,
   "id": "b38ba33c-8d32-4288-92fc-c3535e00e4ae",
   "metadata": {},
   "outputs": [
    {
     "data": {
      "text/html": [
       "<div>\n",
       "<style scoped>\n",
       "    .dataframe tbody tr th:only-of-type {\n",
       "        vertical-align: middle;\n",
       "    }\n",
       "\n",
       "    .dataframe tbody tr th {\n",
       "        vertical-align: top;\n",
       "    }\n",
       "\n",
       "    .dataframe thead th {\n",
       "        text-align: right;\n",
       "    }\n",
       "</style>\n",
       "<table border=\"1\" class=\"dataframe\">\n",
       "  <thead>\n",
       "    <tr style=\"text-align: right;\">\n",
       "      <th></th>\n",
       "      <th>Administrative</th>\n",
       "      <th>Administrative_Duration</th>\n",
       "      <th>Informational_Duration</th>\n",
       "      <th>ProductRelated</th>\n",
       "      <th>ProductRelated_Duration</th>\n",
       "      <th>BounceRates</th>\n",
       "      <th>ExitRates</th>\n",
       "      <th>PageValues</th>\n",
       "      <th>SpecialDay</th>\n",
       "      <th>OperatingSystems</th>\n",
       "      <th>Region</th>\n",
       "      <th>TrafficType</th>\n",
       "    </tr>\n",
       "  </thead>\n",
       "  <tbody>\n",
       "    <tr>\n",
       "      <th>0</th>\n",
       "      <td>0.043478</td>\n",
       "      <td>0.009943</td>\n",
       "      <td>0.000000</td>\n",
       "      <td>0.209091</td>\n",
       "      <td>0.149491</td>\n",
       "      <td>0.033688</td>\n",
       "      <td>0.189426</td>\n",
       "      <td>0.065620</td>\n",
       "      <td>0.0</td>\n",
       "      <td>0.142857</td>\n",
       "      <td>0.250</td>\n",
       "      <td>0.052632</td>\n",
       "    </tr>\n",
       "    <tr>\n",
       "      <th>1</th>\n",
       "      <td>0.086957</td>\n",
       "      <td>0.013195</td>\n",
       "      <td>0.000000</td>\n",
       "      <td>0.259091</td>\n",
       "      <td>0.173955</td>\n",
       "      <td>0.088496</td>\n",
       "      <td>0.212881</td>\n",
       "      <td>0.000000</td>\n",
       "      <td>0.0</td>\n",
       "      <td>0.142857</td>\n",
       "      <td>0.125</td>\n",
       "      <td>0.000000</td>\n",
       "    </tr>\n",
       "    <tr>\n",
       "      <th>2</th>\n",
       "      <td>0.130435</td>\n",
       "      <td>0.066913</td>\n",
       "      <td>0.000000</td>\n",
       "      <td>0.038636</td>\n",
       "      <td>0.018261</td>\n",
       "      <td>0.166667</td>\n",
       "      <td>0.256173</td>\n",
       "      <td>0.000000</td>\n",
       "      <td>0.0</td>\n",
       "      <td>0.142857</td>\n",
       "      <td>0.000</td>\n",
       "      <td>0.000000</td>\n",
       "    </tr>\n",
       "    <tr>\n",
       "      <th>3</th>\n",
       "      <td>0.043478</td>\n",
       "      <td>0.011932</td>\n",
       "      <td>0.000000</td>\n",
       "      <td>0.097727</td>\n",
       "      <td>0.050310</td>\n",
       "      <td>0.068182</td>\n",
       "      <td>0.128815</td>\n",
       "      <td>NaN</td>\n",
       "      <td>NaN</td>\n",
       "      <td>0.000000</td>\n",
       "      <td>0.000</td>\n",
       "      <td>0.000000</td>\n",
       "    </tr>\n",
       "    <tr>\n",
       "      <th>4</th>\n",
       "      <td>0.217391</td>\n",
       "      <td>0.021768</td>\n",
       "      <td>0.000000</td>\n",
       "      <td>0.302273</td>\n",
       "      <td>0.123759</td>\n",
       "      <td>0.060390</td>\n",
       "      <td>0.146748</td>\n",
       "      <td>0.017619</td>\n",
       "      <td>0.0</td>\n",
       "      <td>0.000000</td>\n",
       "      <td>0.000</td>\n",
       "      <td>0.157895</td>\n",
       "    </tr>\n",
       "    <tr>\n",
       "      <th>...</th>\n",
       "      <td>...</td>\n",
       "      <td>...</td>\n",
       "      <td>...</td>\n",
       "      <td>...</td>\n",
       "      <td>...</td>\n",
       "      <td>...</td>\n",
       "      <td>...</td>\n",
       "      <td>...</td>\n",
       "      <td>...</td>\n",
       "      <td>...</td>\n",
       "      <td>...</td>\n",
       "      <td>...</td>\n",
       "    </tr>\n",
       "    <tr>\n",
       "      <th>3694</th>\n",
       "      <td>0.130435</td>\n",
       "      <td>0.030849</td>\n",
       "      <td>0.000000</td>\n",
       "      <td>0.038636</td>\n",
       "      <td>0.030690</td>\n",
       "      <td>0.000000</td>\n",
       "      <td>0.049020</td>\n",
       "      <td>NaN</td>\n",
       "      <td>0.0</td>\n",
       "      <td>0.142857</td>\n",
       "      <td>0.125</td>\n",
       "      <td>0.052632</td>\n",
       "    </tr>\n",
       "    <tr>\n",
       "      <th>3695</th>\n",
       "      <td>0.000000</td>\n",
       "      <td>0.000000</td>\n",
       "      <td>0.000000</td>\n",
       "      <td>0.118182</td>\n",
       "      <td>0.114807</td>\n",
       "      <td>0.076923</td>\n",
       "      <td>0.101763</td>\n",
       "      <td>0.000000</td>\n",
       "      <td>0.0</td>\n",
       "      <td>0.142857</td>\n",
       "      <td>0.750</td>\n",
       "      <td>0.000000</td>\n",
       "    </tr>\n",
       "    <tr>\n",
       "      <th>3696</th>\n",
       "      <td>0.043478</td>\n",
       "      <td>0.029713</td>\n",
       "      <td>0.000000</td>\n",
       "      <td>0.015909</td>\n",
       "      <td>0.003241</td>\n",
       "      <td>0.000000</td>\n",
       "      <td>0.125000</td>\n",
       "      <td>0.000000</td>\n",
       "      <td>0.0</td>\n",
       "      <td>0.000000</td>\n",
       "      <td>0.125</td>\n",
       "      <td>0.052632</td>\n",
       "    </tr>\n",
       "    <tr>\n",
       "      <th>3697</th>\n",
       "      <td>0.260870</td>\n",
       "      <td>0.042160</td>\n",
       "      <td>0.000000</td>\n",
       "      <td>0.079545</td>\n",
       "      <td>0.035387</td>\n",
       "      <td>0.000000</td>\n",
       "      <td>0.078947</td>\n",
       "      <td>0.000000</td>\n",
       "      <td>0.0</td>\n",
       "      <td>0.000000</td>\n",
       "      <td>0.250</td>\n",
       "      <td>0.157895</td>\n",
       "    </tr>\n",
       "    <tr>\n",
       "      <th>3698</th>\n",
       "      <td>0.000000</td>\n",
       "      <td>0.000000</td>\n",
       "      <td>0.017309</td>\n",
       "      <td>0.006818</td>\n",
       "      <td>0.004017</td>\n",
       "      <td>0.000000</td>\n",
       "      <td>0.333333</td>\n",
       "      <td>0.000000</td>\n",
       "      <td>0.0</td>\n",
       "      <td>0.142857</td>\n",
       "      <td>0.000</td>\n",
       "      <td>0.315789</td>\n",
       "    </tr>\n",
       "  </tbody>\n",
       "</table>\n",
       "<p>3699 rows × 12 columns</p>\n",
       "</div>"
      ],
      "text/plain": [
       "      Administrative  Administrative_Duration  Informational_Duration  ProductRelated  ProductRelated_Duration  BounceRates  ExitRates  PageValues  SpecialDay  OperatingSystems  Region  TrafficType\n",
       "0           0.043478                 0.009943                0.000000        0.209091                 0.149491     0.033688   0.189426    0.065620         0.0          0.142857   0.250     0.052632\n",
       "1           0.086957                 0.013195                0.000000        0.259091                 0.173955     0.088496   0.212881    0.000000         0.0          0.142857   0.125     0.000000\n",
       "2           0.130435                 0.066913                0.000000        0.038636                 0.018261     0.166667   0.256173    0.000000         0.0          0.142857   0.000     0.000000\n",
       "3           0.043478                 0.011932                0.000000        0.097727                 0.050310     0.068182   0.128815         NaN         NaN          0.000000   0.000     0.000000\n",
       "4           0.217391                 0.021768                0.000000        0.302273                 0.123759     0.060390   0.146748    0.017619         0.0          0.000000   0.000     0.157895\n",
       "...              ...                      ...                     ...             ...                      ...          ...        ...         ...         ...               ...     ...          ...\n",
       "3694        0.130435                 0.030849                0.000000        0.038636                 0.030690     0.000000   0.049020         NaN         0.0          0.142857   0.125     0.052632\n",
       "3695        0.000000                 0.000000                0.000000        0.118182                 0.114807     0.076923   0.101763    0.000000         0.0          0.142857   0.750     0.000000\n",
       "3696        0.043478                 0.029713                0.000000        0.015909                 0.003241     0.000000   0.125000    0.000000         0.0          0.000000   0.125     0.052632\n",
       "3697        0.260870                 0.042160                0.000000        0.079545                 0.035387     0.000000   0.078947    0.000000         0.0          0.000000   0.250     0.157895\n",
       "3698        0.000000                 0.000000                0.017309        0.006818                 0.004017     0.000000   0.333333    0.000000         0.0          0.142857   0.000     0.315789\n",
       "\n",
       "[3699 rows x 12 columns]"
      ]
     },
     "execution_count": 291,
     "metadata": {},
     "output_type": "execute_result"
    }
   ],
   "source": [
    "h19 = df.loc[:, cond19]\n",
    "h19"
   ]
  },
  {
   "cell_type": "code",
   "execution_count": 292,
   "id": "16eba47d-9ad5-4809-9eaf-79c9dbcccc89",
   "metadata": {},
   "outputs": [
    {
     "name": "stdout",
     "output_type": "stream",
     "text": [
      "<class 'pandas.core.frame.DataFrame'>\n",
      "RangeIndex: 3699 entries, 0 to 3698\n",
      "Data columns (total 12 columns):\n",
      " #   Column                   Non-Null Count  Dtype  \n",
      "---  ------                   --------------  -----  \n",
      " 0   Administrative           3699 non-null   float64\n",
      " 1   Administrative_Duration  3699 non-null   float64\n",
      " 2   Informational_Duration   3699 non-null   float64\n",
      " 3   ProductRelated           3699 non-null   float64\n",
      " 4   ProductRelated_Duration  3499 non-null   float64\n",
      " 5   BounceRates              3528 non-null   float64\n",
      " 6   ExitRates                3517 non-null   float64\n",
      " 7   PageValues               3538 non-null   float64\n",
      " 8   SpecialDay               3509 non-null   float64\n",
      " 9   OperatingSystems         3699 non-null   float64\n",
      " 10  Region                   3699 non-null   float64\n",
      " 11  TrafficType              3699 non-null   float64\n",
      "dtypes: float64(12)\n",
      "memory usage: 346.9 KB\n"
     ]
    }
   ],
   "source": [
    "h19.info()"
   ]
  },
  {
   "cell_type": "code",
   "execution_count": 293,
   "id": "1307c1b1-8b75-481e-97f2-2a9ad1f561f4",
   "metadata": {},
   "outputs": [
    {
     "data": {
      "text/plain": [
       "<AxesSubplot:>"
      ]
     },
     "execution_count": 293,
     "metadata": {},
     "output_type": "execute_result"
    },
    {
     "data": {
      "image/png": "[encoded data removed]",
      "text/plain": [
       "<Figure size 1440x720 with 1 Axes>"
      ]
     },
     "metadata": {
      "needs_background": "light"
     },
     "output_type": "display_data"
    }
   ],
   "source": [
    "df.boxplot(figsize=(20,10))"
   ]
  },
  {
   "cell_type": "code",
   "execution_count": 294,
   "id": "1014878c-fc55-4708-985f-f04cef48f3fb",
   "metadata": {},
   "outputs": [
    {
     "data": {
      "text/plain": [
       "<AxesSubplot:>"
      ]
     },
     "execution_count": 294,
     "metadata": {},
     "output_type": "execute_result"
    },
    {
     "data": {
      "image/png": "[encoded data removed]",
      "text/plain": [
       "<Figure size 1440x720 with 1 Axes>"
      ]
     },
     "metadata": {
      "needs_background": "light"
     },
     "output_type": "display_data"
    }
   ],
   "source": [
    "h19.boxplot(figsize=(20,10))"
   ]
  },
  {
   "cell_type": "code",
   "execution_count": null,
   "id": "8893761f-ee39-4fc6-b745-6e34f3a96f02",
   "metadata": {},
   "outputs": [],
   "source": []
  }
 ],
 "metadata": {
  "kernelspec": {
   "display_name": "Python 3",
   "language": "python",
   "name": "python3"
  },
  "language_info": {
   "codemirror_mode": {
    "name": "ipython",
    "version": 3
   },
   "file_extension": ".py",
   "mimetype": "text/x-python",
   "name": "python",
   "nbconvert_exporter": "python",
   "pygments_lexer": "ipython3",
   "version": "3.9.4"
  }
 },
 "nbformat": 4,
 "nbformat_minor": 5
}
