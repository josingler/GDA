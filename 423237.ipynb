{
 "cells": [
  {
   "cell_type": "markdown",
   "metadata": {
    "colab_type": "text",
    "id": "view-in-github"
   },
   "source": [
    "<a href=\"https://colab.research.google.com/github/josingler/GDA/blob/main/423237.ipynb\" target=\"_parent\"><img src=\"https://colab.research.google.com/assets/colab-badge.svg\" alt=\"Open In Colab\"/></a>"
   ]
  },
  {
   "cell_type": "markdown",
   "metadata": {
    "id": "YL9z2NwWOx9e"
   },
   "source": [
    "We have provided a comma-separated file with this package which includes about **3700** instances with **18** **integer** and **real** attributes. \n",
    "\n",
    "The data in the file have 1 record per line. The target feature (**“Revenue”**) is the last feature (column) in each line. Your task is to do some preprocessing steps as described below and to measure the accuracy of different machine learning methods on predicting the target variable according to the steps that are described below. Note that there is only a single target variable for each record. \n",
    "\n",
    "The dataset consists of **10** numerical, **7** categorical attributes and one target feature (classification label). \n",
    "\n",
    "**Numerical** features include: \n",
    "\n",
    "* Administrative\n",
    "* Administrative_Duration\n",
    "* Informational\n",
    "* Informational_Duration\n",
    "* ProductRelated\n",
    "* ProductRelated_Duration\n",
    "* BounceRates\n",
    "* ExitRates\n",
    "* PageValues\n",
    "* SpecialDay\n",
    "\n",
    "Also, the **categorical** features include:\n",
    "\n",
    "* Month\n",
    "* OperatingSystems\n",
    "* Browser\n",
    "* Region\n",
    "* TrafficType\n",
    "* VisitorType\n",
    "* Weekend\n",
    "\n",
    "Each of the tasks below will be evaluated independently of the others, so you must send us your results (code and output, if applicable) from each step at the end. The processing is done with Python 3. Please send us the code and the respective output in one file (the downloaded Jupyter Notebook). If you do not send us the code for a step and, where required, an output, the step will be considered as not processed.\n",
    "\n",
    "**In some steps you are asked to output the head of a dataframe. Then you have to output the complete header (column names) of the data frame and the first 3 rows (data records).**\n",
    "\n",
    "\n",
    "\n"
   ]
  },
  {
   "cell_type": "markdown",
   "metadata": {
    "id": "zcpzoM7EhERu"
   },
   "source": [
    "# Please run the followig piece of code to load the dataset into the **\"dataset\"** variable. You can use and manipulate data using this object\n",
    "# Then, Carry out the following steps with the provided data and document the number of each step in a python comment:"
   ]
  },
  {
   "cell_type": "code",
   "execution_count": null,
   "metadata": {
    "colab": {
     "base_uri": "https://localhost:8080/"
    },
    "id": "0neXepxuRtwX",
    "outputId": "750143dc-bb40-4405-c917-9e4b7b46c8ba"
   },
   "outputs": [
    {
     "name": "stdout",
     "output_type": "stream",
     "text": [
      "      Administrative  Administrative_Duration  Informational  Informational_Duration  ProductRelated  ProductRelated_Duration  BounceRates  ExitRates  PageValues  SpecialDay Month  OperatingSystems  Browser  Region  TrafficType        VisitorType  Weekend  Revenue\n",
      "0                  1                21.250000              0                     0.0              92              2716.519048     0.006738   0.037885   23.738911         0.0   Nov                 2        2       3            2  Returning_Visitor     True    False\n",
      "1                  2                28.200000              1                     0.0             114              3161.074762     0.017699   0.042576    0.000000         0.0   Aug                 2        2       2            1  Returning_Visitor    False    False\n",
      "2                  3               143.000000              0                     0.0              17               331.837500     0.033333   0.051235    0.000000         0.0   Dec                 2        2       1            1  Returning_Visitor     True    False\n",
      "3                  1                25.500000              0                     0.0              43               914.229437     0.013636   0.025763         NaN         NaN   Nov                 1        1       1            1  Returning_Visitor    False    False\n",
      "4                  5                46.520000              0                     0.0             133              2248.914286     0.012078   0.029350    6.373771         0.0   Jul                 1        1       1            4  Returning_Visitor    False     True\n",
      "...              ...                      ...            ...                     ...             ...                      ...          ...        ...         ...         ...   ...               ...      ...     ...          ...                ...      ...      ...\n",
      "3694               3                65.928571              0                     0.0              17               557.686905     0.000000   0.009804         NaN         0.0   Dec                 2        2       2            2  Returning_Visitor    False     True\n",
      "3695               0                 0.000000              0                     0.0              52              2086.242857     0.015385   0.020353    0.000000         0.0   Feb                 2        2       7            1  Returning_Visitor    False    False\n",
      "3696               1                63.500000              0                     0.0               7                58.900000     0.000000   0.025000    0.000000         0.0   Dec                 1        1       2            2        New_Visitor    False    False\n",
      "3697               6                90.100000              0                     0.0              35               643.050000     0.000000   0.015789    0.000000         0.0   Oct                 1        1       3            4  Returning_Visitor     True    False\n",
      "3698               0                 0.000000              0                     NaN               3                73.000000     0.000000   0.066667    0.000000         0.0   Mar                 2        4       1            7  Returning_Visitor    False    False\n",
      "\n",
      "[3699 rows x 18 columns]\n"
     ]
    }
   ],
   "source": [
    "import pandas as pd\n",
    "pd.set_option('display.max_columns', 25)\n",
    "pd.set_option('display.width', 1000)\n",
    "\n",
    "url = \"https://raw.githubusercontent.com/AIDATestsecond/dataset/master/Dataset_423237.csv\"\n",
    "dataset = pd.read_csv(url)\n",
    "print (dataset)"
   ]
  },
  {
   "cell_type": "markdown",
   "metadata": {
    "id": "BONeMOXSO1g7"
   },
   "source": [
    "# 1.   Print out the head name of features."
   ]
  },
  {
   "cell_type": "markdown",
   "metadata": {
    "id": "MonGUg1-56R0"
   },
   "source": []
  },
  {
   "cell_type": "code",
   "execution_count": null,
   "metadata": {
    "colab": {
     "base_uri": "https://localhost:8080/"
    },
    "id": "aIr5s9BiO5UW",
    "outputId": "4841ee56-41a0-40b4-b735-e5b6a7d86456"
   },
   "outputs": [
    {
     "name": "stdout",
     "output_type": "stream",
     "text": [
      "['Administrative' 'Administrative_Duration' 'Informational'\n",
      " 'Informational_Duration' 'ProductRelated' 'ProductRelated_Duration'\n",
      " 'BounceRates' 'ExitRates' 'PageValues' 'SpecialDay' 'Month'\n",
      " 'OperatingSystems' 'Browser' 'Region' 'TrafficType' 'VisitorType'\n",
      " 'Weekend' 'Revenue']\n"
     ]
    }
   ],
   "source": [
    "print(dataset.columns.values)"
   ]
  },
  {
   "cell_type": "markdown",
   "metadata": {
    "id": "J3zBc9WdO5ls"
   },
   "source": [
    "# 2.   Print out the first and last rows of the dataset."
   ]
  },
  {
   "cell_type": "code",
   "execution_count": null,
   "metadata": {
    "colab": {
     "base_uri": "https://localhost:8080/"
    },
    "id": "wWn-JqkrO8Qt",
    "outputId": "ad633ae4-4ba3-4986-c9bf-ef93ba5751f9"
   },
   "outputs": [
    {
     "name": "stdout",
     "output_type": "stream",
     "text": [
      "      Administrative  Administrative_Duration  Informational  Informational_Duration  ProductRelated  ProductRelated_Duration  BounceRates  ExitRates  PageValues  SpecialDay Month  OperatingSystems  Browser  Region  TrafficType        VisitorType  Weekend  Revenue\n",
      "0                  1                    21.25              0                     0.0              92              2716.519048     0.006738   0.037885   23.738911         0.0   Nov                 2        2       3            2  Returning_Visitor     True    False\n",
      "3698               0                     0.00              0                     NaN               3                73.000000     0.000000   0.066667    0.000000         0.0   Mar                 2        4       1            7  Returning_Visitor    False    False\n"
     ]
    }
   ],
   "source": [
    "ds = dataset.iloc[[0,-1]]\n",
    "print (ds)"
   ]
  },
  {
   "cell_type": "markdown",
   "metadata": {
    "id": "iFRe0DUYO8d6"
   },
   "source": [
    "# 3.   Check if there is any missing value in the data. Here it is sufficient to specify the code, output is not necessary."
   ]
  },
  {
   "cell_type": "code",
   "execution_count": null,
   "metadata": {
    "colab": {
     "base_uri": "https://localhost:8080/"
    },
    "id": "SJA980n5O-jT",
    "outputId": "4e6438c9-608b-4153-9143-8e54feb40957"
   },
   "outputs": [
    {
     "data": {
      "text/plain": [
       "Administrative               0\n",
       "Administrative_Duration      0\n",
       "Informational                0\n",
       "Informational_Duration     206\n",
       "ProductRelated               0\n",
       "ProductRelated_Duration    200\n",
       "BounceRates                171\n",
       "ExitRates                  182\n",
       "PageValues                 161\n",
       "SpecialDay                 190\n",
       "Month                        0\n",
       "OperatingSystems             0\n",
       "Browser                      0\n",
       "Region                       0\n",
       "TrafficType                  0\n",
       "VisitorType                  0\n",
       "Weekend                      0\n",
       "Revenue                      0\n",
       "dtype: int64"
      ]
     },
     "execution_count": 15,
     "metadata": {},
     "output_type": "execute_result"
    }
   ],
   "source": [
    "dataset.isnull().sum()"
   ]
  },
  {
   "cell_type": "markdown",
   "metadata": {
    "id": "z2RhjExweDcI"
   },
   "source": []
  },
  {
   "cell_type": "code",
   "execution_count": null,
   "metadata": {
    "id": "cXwC3pFjeD_u"
   },
   "outputs": [],
   "source": []
  },
  {
   "cell_type": "markdown",
   "metadata": {
    "id": "dtcCynt5O-sj"
   },
   "source": [
    "# 4.   Exchange the positions of the **10th** and **11th** column with each other. Then output the header of the dataframes."
   ]
  },
  {
   "cell_type": "code",
   "execution_count": null,
   "metadata": {
    "colab": {
     "base_uri": "https://localhost:8080/"
    },
    "id": "bAIzVu9rPBD1",
    "outputId": "fe5a9707-7c1b-4648-bd61-a149babff229"
   },
   "outputs": [
    {
     "name": "stdout",
     "output_type": "stream",
     "text": [
      "      Administrative  Administrative_Duration  Informational  Informational_Duration  ProductRelated  ProductRelated_Duration  BounceRates  ExitRates  PageValues  SpecialDay Month  OperatingSystems  Browser  Region  TrafficType        VisitorType  Weekend  Revenue\n",
      "0                  1                21.250000              0                     0.0              92              2716.519048     0.006738   0.037885   23.738911         0.0   Nov                 2        2       3            2  Returning_Visitor     True    False\n",
      "1                  2                28.200000              1                     0.0             114              3161.074762     0.017699   0.042576    0.000000         0.0   Aug                 2        2       2            1  Returning_Visitor    False    False\n",
      "2                  3               143.000000              0                     0.0              17               331.837500     0.033333   0.051235    0.000000         0.0   Dec                 2        2       1            1  Returning_Visitor     True    False\n",
      "3                  1                25.500000              0                     0.0              43               914.229437     0.013636   0.025763         NaN         NaN   Nov                 1        1       1            1  Returning_Visitor    False    False\n",
      "4                  5                46.520000              0                     0.0             133              2248.914286     0.012078   0.029350    6.373771         0.0   Jul                 1        1       1            4  Returning_Visitor    False     True\n",
      "...              ...                      ...            ...                     ...             ...                      ...          ...        ...         ...         ...   ...               ...      ...     ...          ...                ...      ...      ...\n",
      "3694               3                65.928571              0                     0.0              17               557.686905     0.000000   0.009804         NaN         0.0   Dec                 2        2       2            2  Returning_Visitor    False     True\n",
      "3695               0                 0.000000              0                     0.0              52              2086.242857     0.015385   0.020353    0.000000         0.0   Feb                 2        2       7            1  Returning_Visitor    False    False\n",
      "3696               1                63.500000              0                     0.0               7                58.900000     0.000000   0.025000    0.000000         0.0   Dec                 1        1       2            2        New_Visitor    False    False\n",
      "3697               6                90.100000              0                     0.0              35               643.050000     0.000000   0.015789    0.000000         0.0   Oct                 1        1       3            4  Returning_Visitor     True    False\n",
      "3698               0                 0.000000              0                     NaN               3                73.000000     0.000000   0.066667    0.000000         0.0   Mar                 2        4       1            7  Returning_Visitor    False    False\n",
      "\n",
      "[3699 rows x 18 columns]\n",
      "      Administrative  Administrative_Duration  Informational  Informational_Duration  ProductRelated  ProductRelated_Duration  BounceRates  ExitRates  PageValues Month  SpecialDay  OperatingSystems  Browser  Region  TrafficType        VisitorType  Weekend  Revenue\n",
      "0                  1                21.250000              0                     0.0              92              2716.519048     0.006738   0.037885   23.738911   Nov         0.0                 2        2       3            2  Returning_Visitor     True    False\n",
      "1                  2                28.200000              1                     0.0             114              3161.074762     0.017699   0.042576    0.000000   Aug         0.0                 2        2       2            1  Returning_Visitor    False    False\n",
      "2                  3               143.000000              0                     0.0              17               331.837500     0.033333   0.051235    0.000000   Dec         0.0                 2        2       1            1  Returning_Visitor     True    False\n",
      "3                  1                25.500000              0                     0.0              43               914.229437     0.013636   0.025763         NaN   Nov         NaN                 1        1       1            1  Returning_Visitor    False    False\n",
      "4                  5                46.520000              0                     0.0             133              2248.914286     0.012078   0.029350    6.373771   Jul         0.0                 1        1       1            4  Returning_Visitor    False     True\n",
      "...              ...                      ...            ...                     ...             ...                      ...          ...        ...         ...   ...         ...               ...      ...     ...          ...                ...      ...      ...\n",
      "3694               3                65.928571              0                     0.0              17               557.686905     0.000000   0.009804         NaN   Dec         0.0                 2        2       2            2  Returning_Visitor    False     True\n",
      "3695               0                 0.000000              0                     0.0              52              2086.242857     0.015385   0.020353    0.000000   Feb         0.0                 2        2       7            1  Returning_Visitor    False    False\n",
      "3696               1                63.500000              0                     0.0               7                58.900000     0.000000   0.025000    0.000000   Dec         0.0                 1        1       2            2        New_Visitor    False    False\n",
      "3697               6                90.100000              0                     0.0              35               643.050000     0.000000   0.015789    0.000000   Oct         0.0                 1        1       3            4  Returning_Visitor     True    False\n",
      "3698               0                 0.000000              0                     NaN               3                73.000000     0.000000   0.066667    0.000000   Mar         0.0                 2        4       1            7  Returning_Visitor    False    False\n",
      "\n",
      "[3699 rows x 18 columns]\n"
     ]
    }
   ],
   "source": [
    "print(dataset)\n",
    "colu_List = dataset.columns.to_list()\n",
    "pos10 = colu_List[9]\n",
    "pos11 = colu_List[10]\n",
    "colu_List[9] = pos11\n",
    "colu_List[10] = pos10\n",
    "#print(colu_List)\n",
    "dataset = dataset[colu_List]\n",
    "\n",
    "print(dataset)\n"
   ]
  },
  {
   "cell_type": "markdown",
   "metadata": {
    "id": "aYeT_A2aWW4z"
   },
   "source": [
    "# 5.   Change the name of \"**VisitorType**\" feature to \"**new_VisitorType**\".\n"
   ]
  },
  {
   "cell_type": "code",
   "execution_count": null,
   "metadata": {
    "colab": {
     "base_uri": "https://localhost:8080/"
    },
    "id": "lqH3QbO0WXUa",
    "outputId": "4690abbf-e6aa-4632-86e2-f137b08417ae"
   },
   "outputs": [
    {
     "name": "stdout",
     "output_type": "stream",
     "text": [
      "['Administrative' 'Administrative_Duration' 'Informational'\n",
      " 'Informational_Duration' 'ProductRelated' 'ProductRelated_Duration'\n",
      " 'BounceRates' 'ExitRates' 'PageValues' 'Month' 'SpecialDay'\n",
      " 'OperatingSystems' 'Browser' 'Region' 'TrafficType' 'new_VisitorType'\n",
      " 'Weekend' 'Revenue']\n"
     ]
    }
   ],
   "source": [
    "dataset = dataset.rename(columns={'VisitorType': 'new_VisitorType'})\n",
    "print(dataset.columns.values)\n"
   ]
  },
  {
   "cell_type": "markdown",
   "metadata": {
    "id": "xd-USpeWPBO0"
   },
   "source": [
    "# 6.   Print out the row index of the cell with the highest **“ProductRelated_Duration”** value."
   ]
  },
  {
   "cell_type": "code",
   "execution_count": null,
   "metadata": {
    "colab": {
     "base_uri": "https://localhost:8080/"
    },
    "id": "AtghhDhPPDc6",
    "outputId": "b216c9a8-dc9d-46c5-9c95-a29647f1aade"
   },
   "outputs": [
    {
     "data": {
      "text/plain": [
       "Int64Index([836], dtype='int64')"
      ]
     },
     "execution_count": 19,
     "metadata": {
      "tags": []
     },
     "output_type": "execute_result"
    }
   ],
   "source": [
    "dataset[dataset['ProductRelated_Duration']==dataset['ProductRelated_Duration'].max()]\n",
    "#dataset[dataset['ProductRelated_Duration'].max()].index\n",
    "#dataset[dataset['ProductRelated_Duration']==dataset['ProductRelated_Duration'].max()]"
   ]
  },
  {
   "cell_type": "markdown",
   "metadata": {
    "id": "xMbb92jzPDmC"
   },
   "source": [
    "# 7.   Please remove the **“Informational”** feature from the dataset. Then output the header of the dataframe."
   ]
  },
  {
   "cell_type": "code",
   "execution_count": null,
   "metadata": {
    "colab": {
     "base_uri": "https://localhost:8080/",
     "height": 224
    },
    "id": "__MKfvlyPF6W",
    "outputId": "4001f8b5-6295-4385-fb50-1b9b9cfcd575"
   },
   "outputs": [
    {
     "data": {
      "text/html": [
       "<div>\n",
       "<style scoped>\n",
       "    .dataframe tbody tr th:only-of-type {\n",
       "        vertical-align: middle;\n",
       "    }\n",
       "\n",
       "    .dataframe tbody tr th {\n",
       "        vertical-align: top;\n",
       "    }\n",
       "\n",
       "    .dataframe thead th {\n",
       "        text-align: right;\n",
       "    }\n",
       "</style>\n",
       "<table border=\"1\" class=\"dataframe\">\n",
       "  <thead>\n",
       "    <tr style=\"text-align: right;\">\n",
       "      <th></th>\n",
       "      <th>Administrative</th>\n",
       "      <th>Administrative_Duration</th>\n",
       "      <th>Informational_Duration</th>\n",
       "      <th>ProductRelated</th>\n",
       "      <th>ProductRelated_Duration</th>\n",
       "      <th>BounceRates</th>\n",
       "      <th>ExitRates</th>\n",
       "      <th>PageValues</th>\n",
       "      <th>Month</th>\n",
       "      <th>SpecialDay</th>\n",
       "      <th>OperatingSystems</th>\n",
       "      <th>Browser</th>\n",
       "      <th>Region</th>\n",
       "      <th>TrafficType</th>\n",
       "      <th>new_VisitorType</th>\n",
       "      <th>Weekend</th>\n",
       "      <th>Revenue</th>\n",
       "    </tr>\n",
       "  </thead>\n",
       "  <tbody>\n",
       "    <tr>\n",
       "      <th>0</th>\n",
       "      <td>1</td>\n",
       "      <td>21.25</td>\n",
       "      <td>0.0</td>\n",
       "      <td>92</td>\n",
       "      <td>2716.519048</td>\n",
       "      <td>0.006738</td>\n",
       "      <td>0.037885</td>\n",
       "      <td>23.738911</td>\n",
       "      <td>Nov</td>\n",
       "      <td>0.0</td>\n",
       "      <td>2</td>\n",
       "      <td>2</td>\n",
       "      <td>3</td>\n",
       "      <td>2</td>\n",
       "      <td>Returning_Visitor</td>\n",
       "      <td>True</td>\n",
       "      <td>False</td>\n",
       "    </tr>\n",
       "    <tr>\n",
       "      <th>1</th>\n",
       "      <td>2</td>\n",
       "      <td>28.20</td>\n",
       "      <td>0.0</td>\n",
       "      <td>114</td>\n",
       "      <td>3161.074762</td>\n",
       "      <td>0.017699</td>\n",
       "      <td>0.042576</td>\n",
       "      <td>0.000000</td>\n",
       "      <td>Aug</td>\n",
       "      <td>0.0</td>\n",
       "      <td>2</td>\n",
       "      <td>2</td>\n",
       "      <td>2</td>\n",
       "      <td>1</td>\n",
       "      <td>Returning_Visitor</td>\n",
       "      <td>False</td>\n",
       "      <td>False</td>\n",
       "    </tr>\n",
       "    <tr>\n",
       "      <th>2</th>\n",
       "      <td>3</td>\n",
       "      <td>143.00</td>\n",
       "      <td>0.0</td>\n",
       "      <td>17</td>\n",
       "      <td>331.837500</td>\n",
       "      <td>0.033333</td>\n",
       "      <td>0.051235</td>\n",
       "      <td>0.000000</td>\n",
       "      <td>Dec</td>\n",
       "      <td>0.0</td>\n",
       "      <td>2</td>\n",
       "      <td>2</td>\n",
       "      <td>1</td>\n",
       "      <td>1</td>\n",
       "      <td>Returning_Visitor</td>\n",
       "      <td>True</td>\n",
       "      <td>False</td>\n",
       "    </tr>\n",
       "    <tr>\n",
       "      <th>3</th>\n",
       "      <td>1</td>\n",
       "      <td>25.50</td>\n",
       "      <td>0.0</td>\n",
       "      <td>43</td>\n",
       "      <td>914.229437</td>\n",
       "      <td>0.013636</td>\n",
       "      <td>0.025763</td>\n",
       "      <td>NaN</td>\n",
       "      <td>Nov</td>\n",
       "      <td>NaN</td>\n",
       "      <td>1</td>\n",
       "      <td>1</td>\n",
       "      <td>1</td>\n",
       "      <td>1</td>\n",
       "      <td>Returning_Visitor</td>\n",
       "      <td>False</td>\n",
       "      <td>False</td>\n",
       "    </tr>\n",
       "    <tr>\n",
       "      <th>4</th>\n",
       "      <td>5</td>\n",
       "      <td>46.52</td>\n",
       "      <td>0.0</td>\n",
       "      <td>133</td>\n",
       "      <td>2248.914286</td>\n",
       "      <td>0.012078</td>\n",
       "      <td>0.029350</td>\n",
       "      <td>6.373771</td>\n",
       "      <td>Jul</td>\n",
       "      <td>0.0</td>\n",
       "      <td>1</td>\n",
       "      <td>1</td>\n",
       "      <td>1</td>\n",
       "      <td>4</td>\n",
       "      <td>Returning_Visitor</td>\n",
       "      <td>False</td>\n",
       "      <td>True</td>\n",
       "    </tr>\n",
       "  </tbody>\n",
       "</table>\n",
       "</div>"
      ],
      "text/plain": [
       "   Administrative  Administrative_Duration  Informational_Duration  ProductRelated  ProductRelated_Duration  BounceRates  ExitRates  PageValues Month  SpecialDay  OperatingSystems  Browser  Region  TrafficType    new_VisitorType  Weekend  Revenue\n",
       "0               1                    21.25                     0.0              92              2716.519048     0.006738   0.037885   23.738911   Nov         0.0                 2        2       3            2  Returning_Visitor     True    False\n",
       "1               2                    28.20                     0.0             114              3161.074762     0.017699   0.042576    0.000000   Aug         0.0                 2        2       2            1  Returning_Visitor    False    False\n",
       "2               3                   143.00                     0.0              17               331.837500     0.033333   0.051235    0.000000   Dec         0.0                 2        2       1            1  Returning_Visitor     True    False\n",
       "3               1                    25.50                     0.0              43               914.229437     0.013636   0.025763         NaN   Nov         NaN                 1        1       1            1  Returning_Visitor    False    False\n",
       "4               5                    46.52                     0.0             133              2248.914286     0.012078   0.029350    6.373771   Jul         0.0                 1        1       1            4  Returning_Visitor    False     True"
      ]
     },
     "execution_count": 20,
     "metadata": {
      "tags": []
     },
     "output_type": "execute_result"
    }
   ],
   "source": [
    "del dataset[\"Informational\"]\n",
    "dataset.head()"
   ]
  },
  {
   "cell_type": "markdown",
   "metadata": {
    "id": "pbLxBoXgPGFb"
   },
   "source": [
    "# 8.   Print out the first and third quantile of **“PageValues”** feature."
   ]
  },
  {
   "cell_type": "code",
   "execution_count": null,
   "metadata": {
    "colab": {
     "base_uri": "https://localhost:8080/"
    },
    "id": "Ee8PpY4yPIMo",
    "outputId": "901cbf37-ff32-453b-c446-2df7896f7b66"
   },
   "outputs": [
    {
     "name": "stdout",
     "output_type": "stream",
     "text": [
      "25%    0.0\n",
      "Name: PageValues, dtype: float64\n",
      "75%    0.0\n",
      "Name: PageValues, dtype: float64\n"
     ]
    }
   ],
   "source": [
    "print(dataset.describe()[dataset.describe().index == \"25%\"]['PageValues'])\n",
    "print(dataset.describe()[dataset.describe().index == \"75%\"]['PageValues'])\n"
   ]
  },
  {
   "cell_type": "markdown",
   "metadata": {
    "id": "hup7KpCLPIXk"
   },
   "source": [
    "# 9.   Output the number of missing values in each column."
   ]
  },
  {
   "cell_type": "code",
   "execution_count": null,
   "metadata": {
    "colab": {
     "base_uri": "https://localhost:8080/"
    },
    "id": "9xG_YHStPKR9",
    "outputId": "86206336-e074-4e46-cca2-b09f5b411feb"
   },
   "outputs": [
    {
     "data": {
      "text/plain": [
       "Administrative               0\n",
       "Administrative_Duration      0\n",
       "Informational_Duration     206\n",
       "ProductRelated               0\n",
       "ProductRelated_Duration    200\n",
       "BounceRates                171\n",
       "ExitRates                  182\n",
       "PageValues                 161\n",
       "Month                        0\n",
       "SpecialDay                 190\n",
       "OperatingSystems             0\n",
       "Browser                      0\n",
       "Region                       0\n",
       "TrafficType                  0\n",
       "new_VisitorType              0\n",
       "Weekend                      0\n",
       "Revenue                      0\n",
       "dtype: int64"
      ]
     },
     "execution_count": 49,
     "metadata": {
      "tags": []
     },
     "output_type": "execute_result"
    }
   ],
   "source": [
    "len(dataset)"
   ]
  },
  {
   "cell_type": "markdown",
   "metadata": {
    "id": "NR0QOvV1PKce"
   },
   "source": [
    "# 10.   From the dataset, filter every 250th row in the data for the features **“Month”**, **“ExitRates”** and **“SpecialDay”**, starting from row 0."
   ]
  },
  {
   "cell_type": "code",
   "execution_count": null,
   "metadata": {
    "colab": {
     "base_uri": "https://localhost:8080/"
    },
    "id": "samfaxG8PNkM",
    "outputId": "18092a95-bf7e-4575-cc87-9f6a68916a60"
   },
   "outputs": [
    {
     "name": "stdout",
     "output_type": "stream",
     "text": [
      "Month               Nov\n",
      "ExitRates     0.0378853\n",
      "SpecialDay            0\n",
      "Name: 0, dtype: object\n",
      "Month               Jul\n",
      "ExitRates     0.0378021\n",
      "SpecialDay            0\n",
      "Name: 249, dtype: object\n",
      "Month              Aug\n",
      "ExitRates     0.029987\n",
      "SpecialDay           0\n",
      "Name: 498, dtype: object\n",
      "Month               Mar\n",
      "ExitRates     0.0115152\n",
      "SpecialDay            0\n",
      "Name: 747, dtype: object\n",
      "Month                Dec\n",
      "ExitRates     0.00909091\n",
      "SpecialDay           NaN\n",
      "Name: 996, dtype: object\n",
      "Month               Aug\n",
      "ExitRates     0.0166667\n",
      "SpecialDay            0\n",
      "Name: 1245, dtype: object\n",
      "Month          Dec\n",
      "ExitRates     0.08\n",
      "SpecialDay       0\n",
      "Name: 1494, dtype: object\n",
      "Month         May\n",
      "ExitRates     NaN\n",
      "SpecialDay      0\n",
      "Name: 1743, dtype: object\n",
      "Month         Mar\n",
      "ExitRates     NaN\n",
      "SpecialDay      0\n",
      "Name: 1992, dtype: object\n",
      "Month               Mar\n",
      "ExitRates     0.0181548\n",
      "SpecialDay            0\n",
      "Name: 2241, dtype: object\n",
      "Month               Nov\n",
      "ExitRates     0.0159204\n",
      "SpecialDay            0\n",
      "Name: 2490, dtype: object\n",
      "Month              Oct\n",
      "ExitRates     0.031102\n",
      "SpecialDay           0\n",
      "Name: 2739, dtype: object\n",
      "Month               Nov\n",
      "ExitRates     0.0242741\n",
      "SpecialDay            0\n",
      "Name: 2988, dtype: object\n",
      "Month               Aug\n",
      "ExitRates     0.0285714\n",
      "SpecialDay            0\n",
      "Name: 3237, dtype: object\n"
     ]
    }
   ],
   "source": [
    "ds_length = len(dataset)\n",
    "frequency = 249\n",
    "loopies = ds_length/frequency\n",
    "loopint = int(loopies)\n",
    "\n",
    "for i in range(0, loopint):\n",
    "  row = dataset.loc[i*frequency, ['Month', 'ExitRates', 'SpecialDay']]\n",
    "  print(row)\n"
   ]
  },
  {
   "cell_type": "markdown",
   "metadata": {
    "id": "-2mvauMIPNuz"
   },
   "source": [
    "# 11.   Scales and transfer the values of all of the numerical features in the range of 0 to 5, using min-max normalization method. Then output the first 10 lines of the dataframe. "
   ]
  },
  {
   "cell_type": "code",
   "execution_count": null,
   "metadata": {
    "colab": {
     "base_uri": "https://localhost:8080/",
     "height": 204
    },
    "id": "Lm2WYhMUPQX1",
    "outputId": "d7644e51-58b9-43bb-cefb-4d965d1fb193"
   },
   "outputs": [
    {
     "data": {
      "text/html": [
       "<div>\n",
       "<style scoped>\n",
       "    .dataframe tbody tr th:only-of-type {\n",
       "        vertical-align: middle;\n",
       "    }\n",
       "\n",
       "    .dataframe tbody tr th {\n",
       "        vertical-align: top;\n",
       "    }\n",
       "\n",
       "    .dataframe thead th {\n",
       "        text-align: right;\n",
       "    }\n",
       "</style>\n",
       "<table border=\"1\" class=\"dataframe\">\n",
       "  <thead>\n",
       "    <tr style=\"text-align: right;\">\n",
       "      <th></th>\n",
       "      <th>0</th>\n",
       "      <th>1</th>\n",
       "      <th>2</th>\n",
       "      <th>3</th>\n",
       "      <th>4</th>\n",
       "      <th>5</th>\n",
       "      <th>6</th>\n",
       "      <th>7</th>\n",
       "      <th>8</th>\n",
       "      <th>9</th>\n",
       "      <th>10</th>\n",
       "      <th>11</th>\n",
       "      <th>12</th>\n",
       "    </tr>\n",
       "  </thead>\n",
       "  <tbody>\n",
       "    <tr>\n",
       "      <th>0</th>\n",
       "      <td>0.043478</td>\n",
       "      <td>0.009943</td>\n",
       "      <td>0.0</td>\n",
       "      <td>0.209091</td>\n",
       "      <td>0.149491</td>\n",
       "      <td>0.033688</td>\n",
       "      <td>0.189426</td>\n",
       "      <td>0.065620</td>\n",
       "      <td>0.0</td>\n",
       "      <td>0.142857</td>\n",
       "      <td>0.083333</td>\n",
       "      <td>0.250</td>\n",
       "      <td>0.052632</td>\n",
       "    </tr>\n",
       "    <tr>\n",
       "      <th>1</th>\n",
       "      <td>0.086957</td>\n",
       "      <td>0.013195</td>\n",
       "      <td>0.0</td>\n",
       "      <td>0.259091</td>\n",
       "      <td>0.173955</td>\n",
       "      <td>0.088496</td>\n",
       "      <td>0.212881</td>\n",
       "      <td>0.000000</td>\n",
       "      <td>0.0</td>\n",
       "      <td>0.142857</td>\n",
       "      <td>0.083333</td>\n",
       "      <td>0.125</td>\n",
       "      <td>0.000000</td>\n",
       "    </tr>\n",
       "    <tr>\n",
       "      <th>2</th>\n",
       "      <td>0.130435</td>\n",
       "      <td>0.066913</td>\n",
       "      <td>0.0</td>\n",
       "      <td>0.038636</td>\n",
       "      <td>0.018261</td>\n",
       "      <td>0.166667</td>\n",
       "      <td>0.256173</td>\n",
       "      <td>0.000000</td>\n",
       "      <td>0.0</td>\n",
       "      <td>0.142857</td>\n",
       "      <td>0.083333</td>\n",
       "      <td>0.000</td>\n",
       "      <td>0.000000</td>\n",
       "    </tr>\n",
       "    <tr>\n",
       "      <th>3</th>\n",
       "      <td>0.043478</td>\n",
       "      <td>0.011932</td>\n",
       "      <td>0.0</td>\n",
       "      <td>0.097727</td>\n",
       "      <td>0.050310</td>\n",
       "      <td>0.068182</td>\n",
       "      <td>0.128815</td>\n",
       "      <td>NaN</td>\n",
       "      <td>NaN</td>\n",
       "      <td>0.000000</td>\n",
       "      <td>0.000000</td>\n",
       "      <td>0.000</td>\n",
       "      <td>0.000000</td>\n",
       "    </tr>\n",
       "    <tr>\n",
       "      <th>4</th>\n",
       "      <td>0.217391</td>\n",
       "      <td>0.021768</td>\n",
       "      <td>0.0</td>\n",
       "      <td>0.302273</td>\n",
       "      <td>0.123759</td>\n",
       "      <td>0.060390</td>\n",
       "      <td>0.146748</td>\n",
       "      <td>0.017619</td>\n",
       "      <td>0.0</td>\n",
       "      <td>0.000000</td>\n",
       "      <td>0.000000</td>\n",
       "      <td>0.000</td>\n",
       "      <td>0.157895</td>\n",
       "    </tr>\n",
       "  </tbody>\n",
       "</table>\n",
       "</div>"
      ],
      "text/plain": [
       "         0         1    2         3         4         5         6         7    8         9         10     11        12\n",
       "0  0.043478  0.009943  0.0  0.209091  0.149491  0.033688  0.189426  0.065620  0.0  0.142857  0.083333  0.250  0.052632\n",
       "1  0.086957  0.013195  0.0  0.259091  0.173955  0.088496  0.212881  0.000000  0.0  0.142857  0.083333  0.125  0.000000\n",
       "2  0.130435  0.066913  0.0  0.038636  0.018261  0.166667  0.256173  0.000000  0.0  0.142857  0.083333  0.000  0.000000\n",
       "3  0.043478  0.011932  0.0  0.097727  0.050310  0.068182  0.128815       NaN  NaN  0.000000  0.000000  0.000  0.000000\n",
       "4  0.217391  0.021768  0.0  0.302273  0.123759  0.060390  0.146748  0.017619  0.0  0.000000  0.000000  0.000  0.157895"
      ]
     },
     "execution_count": 127,
     "metadata": {
      "tags": []
     },
     "output_type": "execute_result"
    }
   ],
   "source": [
    "import numpy as np\n",
    "from sklearn import preprocessing\n",
    "\n",
    "float_arr = dataset.select_dtypes(include = np.number).values.astype(float)\n",
    "min_max_scale = preprocessing.MinMaxScaler()\n",
    "scaled = min_max_scale.fit_transform(float_arr)\n",
    "min_max_scaled_df = pd.DataFrame(scaled)\n",
    "min_max_scaled_df.head()\n",
    "\n"
   ]
  },
  {
   "cell_type": "markdown",
   "metadata": {
    "id": "xOVdlQYMPQjD"
   },
   "source": [
    "# 12.   Print out the head name and variance of the numerical feature with highest variance"
   ]
  },
  {
   "cell_type": "code",
   "execution_count": null,
   "metadata": {
    "colab": {
     "base_uri": "https://localhost:8080/"
    },
    "id": "DVA1Tgh8PSs0",
    "outputId": "8c809d9a-249e-441d-a598-3707c404e457"
   },
   "outputs": [
    {
     "name": "stdout",
     "output_type": "stream",
     "text": [
      "3053636.702971079\n",
      "Administrative             1.162855e+01\n",
      "Administrative_Duration    2.907426e+04\n",
      "Informational_Duration     2.353986e+04\n",
      "ProductRelated             1.906929e+03\n",
      "ProductRelated_Duration    3.053637e+06\n",
      "BounceRates                2.362684e-03\n",
      "ExitRates                  2.339703e-03\n",
      "PageValues                 3.776060e+02\n",
      "SpecialDay                 4.270110e-02\n",
      "OperatingSystems           8.640598e-01\n",
      "Browser                    2.779338e+00\n",
      "Region                     5.682096e+00\n",
      "TrafficType                1.633120e+01\n",
      "Weekend                    1.780548e-01\n",
      "Revenue                    1.362971e-01\n",
      "dtype: float64\n"
     ]
    }
   ],
   "source": [
    "print(dataset.var().max())\n",
    "print(dataset.var())"
   ]
  },
  {
   "cell_type": "markdown",
   "metadata": {
    "id": "0UHl92kUPS4a"
   },
   "source": [
    "# 13.   Use the “apply” function (or an equivalent function) to replace missing values in the columns \"**Informational_Duration**\" and \"**ProductRelated_Duration**\" with the **mean value** of the respective  attribute."
   ]
  },
  {
   "cell_type": "code",
   "execution_count": null,
   "metadata": {
    "id": "mPdiBqXTPU8l"
   },
   "outputs": [],
   "source": [
    "\n",
    "\n"
   ]
  },
  {
   "cell_type": "markdown",
   "metadata": {
    "id": "iKuYjn6LPVKM"
   },
   "source": [
    "# 14.   Print out the index of rows where values of **“OperatingSystems”**, **“Browser”** and **“TrafficType”** columns match."
   ]
  },
  {
   "cell_type": "code",
   "execution_count": null,
   "metadata": {
    "id": "ywZn3O2FPW42"
   },
   "outputs": [],
   "source": [
    "\n",
    "\n",
    "\n",
    "\n"
   ]
  },
  {
   "cell_type": "markdown",
   "metadata": {
    "id": "bi9Q-V3XPXF9"
   },
   "source": [
    "# 15.   Calculate and output the value of the correlation between the   \"**Informational_Duration**\" and \"**ProductRelated_Duration**\" features."
   ]
  },
  {
   "cell_type": "code",
   "execution_count": null,
   "metadata": {
    "id": "06m7blwaPZHV"
   },
   "outputs": [],
   "source": [
    "\n"
   ]
  },
  {
   "cell_type": "markdown",
   "metadata": {
    "id": "rr4einGxPZTb"
   },
   "source": [
    "# 16.   In the **“Browser”** feature, keep only top 4 most frequent values as it is and replace the other values with the ***“Other”*** label."
   ]
  },
  {
   "cell_type": "code",
   "execution_count": null,
   "metadata": {
    "id": "FCFE_YPvPbPu"
   },
   "outputs": [],
   "source": []
  },
  {
   "cell_type": "markdown",
   "metadata": {
    "id": "FlpPf41kPbdV"
   },
   "source": [
    "# 17.   Compute and print out the mean of **“BounceRates”** of each **“Month”**."
   ]
  },
  {
   "cell_type": "code",
   "execution_count": null,
   "metadata": {
    "id": "prMYZP6fPdZY"
   },
   "outputs": [],
   "source": []
  },
  {
   "cell_type": "markdown",
   "metadata": {
    "id": "V2zM9j0JPdqk"
   },
   "source": [
    "# 18.   Print out all of the instances with **“BounceRates”** values greater than **“ProductRelated_Duration”**."
   ]
  },
  {
   "cell_type": "code",
   "execution_count": null,
   "metadata": {
    "id": "RpGipCR9PfqS"
   },
   "outputs": [],
   "source": []
  },
  {
   "cell_type": "markdown",
   "metadata": {
    "id": "XBudPhDgPf8v"
   },
   "source": [
    "# 19.   Please plot the boxplot graph of all numerical features."
   ]
  },
  {
   "cell_type": "code",
   "execution_count": null,
   "metadata": {
    "id": "B95tVH8RPh0O"
   },
   "outputs": [],
   "source": []
  },
  {
   "cell_type": "markdown",
   "metadata": {
    "id": "PU1S8DEhPiAy"
   },
   "source": [
    "# 20.   Since the provided data is imbalanced, use upsampling approach to make it balanced."
   ]
  },
  {
   "cell_type": "code",
   "execution_count": null,
   "metadata": {
    "id": "KmckHVtGPjul"
   },
   "outputs": [],
   "source": []
  },
  {
   "cell_type": "markdown",
   "metadata": {
    "id": "ObNci7qgPj61"
   },
   "source": [
    "# 21.   Use 3 different classification approaches to estimate the target characteristic (\"**revenue**\") from the pre-processed data. Use a 5-fold cross-validation for each of these approaches. The output is described in the next step."
   ]
  },
  {
   "cell_type": "code",
   "execution_count": null,
   "metadata": {
    "id": "6MRrxmW9PmIt"
   },
   "outputs": [],
   "source": []
  },
  {
   "cell_type": "markdown",
   "metadata": {
    "id": "MZOFNh62PmU4"
   },
   "source": [
    "#22.  Output the confusion matrix of the results from **step 21** and the values for the F1 measure of the trained classifiers."
   ]
  },
  {
   "cell_type": "code",
   "execution_count": null,
   "metadata": {
    "id": "LLxESrIjPoEh"
   },
   "outputs": [],
   "source": []
  }
 ],
 "metadata": {
  "colab": {
   "collapsed_sections": [],
   "include_colab_link": true,
   "name": "423237.ipynb",
   "provenance": []
  },
  "kernelspec": {
   "display_name": "Python 3",
   "language": "python",
   "name": "python3"
  },
  "language_info": {
   "codemirror_mode": {
    "name": "ipython",
    "version": 3
   },
   "file_extension": ".py",
   "mimetype": "text/x-python",
   "name": "python",
   "nbconvert_exporter": "python",
   "pygments_lexer": "ipython3",
   "version": "3.9.4"
  }
 },
 "nbformat": 4,
 "nbformat_minor": 4
}
